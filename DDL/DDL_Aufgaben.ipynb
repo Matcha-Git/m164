{
    "metadata": {
        "kernelspec": {
            "name": "SQL",
            "display_name": "SQL",
            "language": "sql"
        },
        "language_info": {
            "name": "sql",
            "version": ""
        },
        "connection_name": ""
    },
    "nbformat_minor": 2,
    "nbformat": 4,
    "cells": [
        {
            "cell_type": "markdown",
            "source": [
                "# **Erstellen der Database \"Druckerverwaltung\"**"
            ],
            "metadata": {
                "azdata_cell_guid": "24c357b3-6ec4-404b-a7f7-756ff64adf71"
            },
            "attachments": {}
        },
        {
            "cell_type": "code",
            "source": [
                "USE master;\r\n",
                "GO\r\n",
                "\n",
                "DROP DATABASE IF EXISTS Druckerverwaltung;\n",
                "GO\n",
                "\r\n",
                "CREATE DATABASE Druckerverwaltung;"
            ],
            "metadata": {
                "azdata_cell_guid": "2c6c5d47-23a9-4ebf-b236-4b0fb1fa9700",
                "language": "sql"
            },
            "outputs": [
                {
                    "output_type": "display_data",
                    "data": {
                        "text/html": "Commands completed successfully."
                    },
                    "metadata": {}
                },
                {
                    "output_type": "display_data",
                    "data": {
                        "text/html": "Commands completed successfully."
                    },
                    "metadata": {}
                },
                {
                    "output_type": "display_data",
                    "data": {
                        "text/html": "Total execution time: 00:00:00.399"
                    },
                    "metadata": {}
                }
            ],
            "execution_count": 1
        },
        {
            "cell_type": "markdown",
            "source": [
                "# **Tabelle \"Statdort\" und \"Mitarbeiter\" erstellen**"
            ],
            "metadata": {
                "azdata_cell_guid": "f210f284-b400-4f98-a1c7-2f2127003276"
            },
            "attachments": {}
        },
        {
            "cell_type": "code",
            "source": [
                "USE Druckerverwaltung;\n",
                "GO\n",
                "\n",
                "DROP TABLE IF EXISTS Standort;\n",
                "GO\n",
                "\n",
                "DROP TABLE IF EXISTS Mitarbeiter;\n",
                "GO\n",
                "\n",
                "CREATE TABLE Standort (\n",
                "    StandortId INT IDENTITY(1,1),\n",
                "    Bezeichnung VARCHAR(20),\n",
                "    PRIMARY KEY (StandortId)\n",
                ")\n",
                "GO\n",
                "\n",
                "CREATE TABLE Mitarbeiter (\n",
                "    MitarbeiterId INT IDENTITY(1,1),\n",
                "    Vorname VARCHAR(30),\n",
                "    Nachname VARCHAR(30),     \n",
                "    TelIntern VARCHAR(10),\n",
                "    PRIMARY KEY (MitarbeiterId)\n",
                ")\n",
                "GO"
            ],
            "metadata": {
                "azdata_cell_guid": "c6299291-d554-4270-a3ec-9c13e1dfba6b",
                "language": "sql"
            },
            "outputs": [
{
    "output_type": "display_data",
    "data": {
        "text/html": "Commands completed successfully."
    },
    "metadata": {}
}, {
    "output_type": "display_data",
    "data": {
        "text/html": "Commands completed successfully."
    },
    "metadata": {}
}, {
    "output_type": "display_data",
    "data": {
        "text/html": "Commands completed successfully."
    },
    "metadata": {}
}, {
    "output_type": "display_data",
    "data": {
        "text/html": "Commands completed successfully."
    },
    "metadata": {}
}, {
    "output_type": "display_data",
    "data": {
        "text/html": "Commands completed successfully."
    },
    "metadata": {}
}, {
    "output_type": "display_data",
    "data": {
        "text/html": "Total execution time: 00:00:00.011"
    },
    "metadata": {}
}
],
            "execution_count": 2
        }
    ]
}