{
    "metadata": {
        "kernelspec": {
            "name": "SQL",
            "display_name": "SQL",
            "language": "sql"
        },
        "language_info": {
            "name": "sql",
            "version": ""
        },
        "connection_name": ""
    },
    "nbformat_minor": 2,
    "nbformat": 4,
    "cells": [
        {
            "cell_type": "markdown",
            "source": [
                "# **Erstellen der Database \"Druckerverwaltung\"**"
            ],
            "metadata": {
                "azdata_cell_guid": "24c357b3-6ec4-404b-a7f7-756ff64adf71"
            },
            "attachments": {}
        },
        {
            "cell_type": "code",
            "source": [
                "USE master;\r\n",
                "GO\r\n",
                "\n",
                "DROP DATABASE IF EXISTS Druckerverwaltung;\n",
                "GO\n",
                "\r\n",
                "CREATE DATABASE Druckerverwaltung;"
            ],
            "metadata": {
                "azdata_cell_guid": "2c6c5d47-23a9-4ebf-b236-4b0fb1fa9700",
                "language": "sql"
            },
            "outputs": [
                {
                    "output_type": "display_data",
                    "data": {
                        "text/html": "Commands completed successfully."
                    },
                    "metadata": {}
                },
                {
                    "output_type": "display_data",
                    "data": {
                        "text/html": "Commands completed successfully."
                    },
                    "metadata": {}
                },
                {
                    "output_type": "display_data",
                    "data": {
                        "text/html": "Total execution time: 00:00:00.399"
                    },
                    "metadata": {}
                }
            ],
            "execution_count": 1
        },
        {
            "cell_type": "markdown",
            "source": [
                "# **Tabelle \"Statdort\" und \"Mitarbeiter\" erstellen**"
            ],
            "metadata": {
                "azdata_cell_guid": "f210f284-b400-4f98-a1c7-2f2127003276"
            },
            "attachments": {}
        },
        {
            "cell_type": "code",
            "source": [
                "USE Druckerverwaltung;\n",
                "GO\n",
                "\n",
                "DROP TABLE IF EXISTS Standort;\n",
                "GO\n",
                "\n",
                "DROP TABLE IF EXISTS Mitarbeiter;\n",
                "GO\n",
                "\n",
                "CREATE TABLE Standort (\n",
                "    StandortId INT IDENTITY(1,1),\n",
                "    Bezeichnung VARCHAR(20),\n",
                "    PRIMARY KEY (StandortId)\n",
                ")\n",
                "GO\n",
                "\n",
                "CREATE TABLE Mitarbeiter (\n",
                "    MitarbeiterId INT IDENTITY(1,1),\n",
                "    Vorname VARCHAR(30),\n",
                "    Nachname VARCHAR(30),     \n",
                "    TelIntern VARCHAR(10),\n",
                "    PRIMARY KEY (MitarbeiterId)\n",
                ")\n",
                "GO"
            ],
            "metadata": {
                "azdata_cell_guid": "c6299291-d554-4270-a3ec-9c13e1dfba6b",
                "language": "sql"
            },
            "outputs": [
                {
                    "output_type": "display_data",
                    "data": {
                        "text/html": "Commands completed successfully."
                    },
                    "metadata": {}
                },
                {
                    "output_type": "display_data",
                    "data": {
                        "text/html": "Commands completed successfully."
                    },
                    "metadata": {}
                },
                {
                    "output_type": "display_data",
                    "data": {
                        "text/html": "Commands completed successfully."
                    },
                    "metadata": {}
                },
                {
                    "output_type": "display_data",
                    "data": {
                        "text/html": "Commands completed successfully."
                    },
                    "metadata": {}
                },
                {
                    "output_type": "display_data",
                    "data": {
                        "text/html": "Commands completed successfully."
                    },
                    "metadata": {}
                },
                {
                    "output_type": "display_data",
                    "data": {
                        "text/html": "Total execution time: 00:00:00.011"
                    },
                    "metadata": {}
                }
            ],
            "execution_count": 2
        },
        {
            "cell_type": "markdown",
            "source": [
                "# **Erstellen von Tabelle \"Drucker\"**"
            ],
            "metadata": {
                "azdata_cell_guid": "b42ac06a-7e0b-4761-90bf-292543ce4681"
            },
            "attachments": {}
        },
        {
            "cell_type": "code",
            "source": [
                "USE Druckerverwaltung;\r\n",
                "GO\r\n",
                "\r\n",
                "DROP TABLE IF EXISTS Drucker;\r\n",
                "GO\r\n",
                "\r\n",
                "CREATE TABLE Drucker (\r\n",
                "    DruckerId INT IDENTITY(1,1),\r\n",
                "    Bezeichnung VARCHAR(20),\r\n",
                "    Kaufdatum date,\r\n",
                "    Typ varchar(20),\r\n",
                "    SerienNr varchar(20),\r\n",
                "    fk_StandortId INT,\r\n",
                "    fk_MitarbeiterId INT,\r\n",
                "    PRIMARY KEY (DruckerId)\r\n",
                ")\r\n",
                "GO"
            ],
            "metadata": {
                "azdata_cell_guid": "977e186d-0c1b-4bde-93ba-5a6a70d3c57f",
                "language": "sql"
            },
            "outputs": [
                {
                    "output_type": "display_data",
                    "data": {
                        "text/html": "Commands completed successfully."
                    },
                    "metadata": {}
                },
                {
                    "output_type": "display_data",
                    "data": {
                        "text/html": "Commands completed successfully."
                    },
                    "metadata": {}
                },
                {
                    "output_type": "display_data",
                    "data": {
                        "text/html": "Commands completed successfully."
                    },
                    "metadata": {}
                },
                {
                    "output_type": "display_data",
                    "data": {
                        "text/html": "Total execution time: 00:00:00.124"
                    },
                    "metadata": {}
                }
            ],
            "execution_count": 1
        },
        {
            "cell_type": "markdown",
            "source": [
                "# **Verändern der Tabelle \"Drucker\"**"
            ],
            "metadata": {
                "language": "sql",
                "azdata_cell_guid": "273ae02e-8b50-489d-ab04-17d80729f6c0"
            },
            "attachments": {}
        },
        {
            "cell_type": "code",
            "source": [
                "USE Druckerverwaltung;\r\n",
                "GO\r\n",
                "\r\n",
                "ALTER TABLE Drucker ADD KaufPreis DECIMAL(10,2);\r\n",
                "ALTER TABLE Drucker ADD FOREIGN KEY(fk_StandortId) REFERENCES Standort(StandortId);\r\n",
                "ALTER TABLE Drucker ADD FOREIGN KEY(fk_MitarbeiterId) REFERENCES Mitarbeiter(MitarbeiterId);\r\n",
                ""
            ],
            "metadata": {
                "language": "sql",
                "azdata_cell_guid": "59118a33-b13d-471f-8245-69ba6d86b985"
            },
            "outputs": [
                {
                    "output_type": "display_data",
                    "data": {
                        "text/html": "Commands completed successfully."
                    },
                    "metadata": {}
                },
                {
                    "output_type": "display_data",
                    "data": {
                        "text/html": "Commands completed successfully."
                    },
                    "metadata": {}
                },
                {
                    "output_type": "display_data",
                    "data": {
                        "text/html": "Total execution time: 00:00:00.010"
                    },
                    "metadata": {}
                }
            ],
            "execution_count": 2
        },
        {
            "cell_type": "markdown",
            "source": [
                "# **Datenbank und Tabllen für \"ComputerShop\" erstellen**"
            ],
            "metadata": {
                "language": "sql",
                "azdata_cell_guid": "44128de1-0323-496b-a994-681e9d8d2416"
            },
            "attachments": {}
        },
        {
            "cell_type": "code",
            "source": [
                "USE master;\r\n",
                "GO\r\n",
                "\r\n",
                "DROP DATABASE IF EXISTS ComputerShop;\r\n",
                "GO\r\n",
                "\r\n",
                "CREATE DATABASE ComputerShop;"
            ],
            "metadata": {
                "language": "sql",
                "azdata_cell_guid": "b7967f0f-8476-49c7-8aa2-99ae8afef7fc"
            },
            "outputs": [
                {
                    "output_type": "display_data",
                    "data": {
                        "text/html": "Commands completed successfully."
                    },
                    "metadata": {}
                },
                {
                    "output_type": "display_data",
                    "data": {
                        "text/html": "Commands completed successfully."
                    },
                    "metadata": {}
                },
                {
                    "output_type": "display_data",
                    "data": {
                        "text/html": "Commands completed successfully."
                    },
                    "metadata": {}
                },
                {
                    "output_type": "display_data",
                    "data": {
                        "text/html": "Total execution time: 00:00:00.322"
                    },
                    "metadata": {}
                }
            ],
            "execution_count": 3
        },
        {
            "cell_type": "code",
            "source": [
                "USE ComputerShop;\r\n",
                "GO\r\n",
                "\r\n",
                "CREATE TABLE Artikel (\r\n",
                "    ArtikelId INT IDENTITY(1,1),\r\n",
                "    Bezeichnung VARCHAR(20),\r\n",
                "    Preis NUMERIC(9,2),\r\n",
                "    PRIMARY KEY (ArtikelId)\r\n",
                ")\r\n",
                "GO\r\n",
                "\r\n",
                "CREATE TABLE Kunde (\r\n",
                "    KundeId INT IDENTITY(1,1),\r\n",
                "    Nachname VARCHAR(30),\r\n",
                "    Vorname VARCHAR(30),\r\n",
                "    PRIMARY KEY (KundeId)\r\n",
                ")\r\n",
                "GO\r\n",
                "\r\n",
                "CREATE TABLE Bestellung (\r\n",
                "    BestellungId INT IDENTITY(1,1),\r\n",
                "    Datum date,\r\n",
                "    KomplettLieferung BIT,\r\n",
                "    fk_ArtikelId INT,\r\n",
                "    fk_KundeId INT,\r\n",
                "    PRIMARY KEY (BestellungId),\r\n",
                "    FOREIGN KEY(fk_ArtikelId) REFERENCES Artikel(ArtikelId),\r\n",
                "    FOREIGN KEY(fk_KundeId) REFERENCES Kunde(KundeId)\r\n",
                ")\r\n",
                "GO"
            ],
            "metadata": {
                "language": "sql",
                "azdata_cell_guid": "3c3b700a-f884-4a2f-bb43-43a59a7da917"
            },
            "outputs": [
                {
                    "output_type": "display_data",
                    "data": {
                        "text/html": "Commands completed successfully."
                    },
                    "metadata": {}
                },
                {
                    "output_type": "display_data",
                    "data": {
                        "text/html": "Commands completed successfully."
                    },
                    "metadata": {}
                },
                {
                    "output_type": "display_data",
                    "data": {
                        "text/html": "Commands completed successfully."
                    },
                    "metadata": {}
                },
                {
                    "output_type": "display_data",
                    "data": {
                        "text/html": "Commands completed successfully."
                    },
                    "metadata": {}
                },
                {
                    "output_type": "display_data",
                    "data": {
                        "text/html": "Total execution time: 00:00:00.028"
                    },
                    "metadata": {}
                }
            ],
            "execution_count": 5
        },
        {
            "cell_type": "markdown",
            "source": [
                "# **Erstellen der Tabelle \"BestehtAus\"**"
            ],
            "metadata": {
                "azdata_cell_guid": "4a224dc7-093d-46b0-9821-fe9e8d202088"
            },
            "attachments": {}
        },
        {
            "cell_type": "code",
            "source": [
                "USE ComputerShop;\r\n",
                "GO\r\n",
                "\r\n",
                "ALTER TABLE Bestellung DROP CONSTRAINT fk_ArtikelId;"
            ],
            "metadata": {
                "azdata_cell_guid": "62ef27d7-d0fa-4cc6-bdc8-dfa1e6f586f9",
                "language": "sql"
            },
            "outputs": [
{
    "output_type": "display_data",
    "data": {
        "text/html": "Commands completed successfully."
    },
    "metadata": {}
}, {
    "output_type": "error",
    "evalue": "Msg 3728, Level 16, State 1, Line 4\r\nfk_ArtikelId ist keine Einschränkung.",
    "ename": "",
    "traceback": []
}, {
    "output_type": "error",
    "evalue": "Msg 3727, Level 16, State 0, Line 4\r\nDie Einschränkung konnte nicht gelöscht werden. Siehe vorherige Fehler.",
    "ename": "",
    "traceback": []
}, {
    "output_type": "display_data",
    "data": {
        "text/html": "Total execution time: 00:00:00.007"
    },
    "metadata": {}
}
],
            "execution_count": 6
        }
    ]
}