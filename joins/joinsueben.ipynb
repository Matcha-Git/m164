{
    "metadata": {
        "kernelspec": {
            "name": "SQL",
            "display_name": "SQL",
            "language": "sql"
        },
        "language_info": {
            "name": "sql",
            "version": ""
        },
        "connection_name": ""
    },
    "nbformat_minor": 2,
    "nbformat": 4,
    "cells": [
        {
            "cell_type": "code",
            "source": [
                "USE ShopDB;\r\n",
                "GO\r\n",
                "\r\n",
                "SELECT * FROM Bestellung;"
            ],
            "metadata": {
                "azdata_cell_guid": "3a491c30-3091-431a-a094-f576982da0af",
                "language": "sql"
            },
            "outputs": [
                {
                    "output_type": "display_data",
                    "data": {
                        "text/html": "Commands completed successfully."
                    },
                    "metadata": {}
                },
                {
                    "output_type": "display_data",
                    "data": {
                        "text/html": "(3 rows affected)"
                    },
                    "metadata": {}
                },
                {
                    "output_type": "display_data",
                    "data": {
                        "text/html": "Total execution time: 00:00:00.013"
                    },
                    "metadata": {}
                },
                {
                    "output_type": "execute_result",
                    "metadata": {},
                    "execution_count": 3,
                    "data": {
                        "application/vnd.dataresource+json": {
                            "schema": {
                                "fields": [
                                    {
                                        "name": "BestellungID"
                                    },
                                    {
                                        "name": "KundeID"
                                    },
                                    {
                                        "name": "ProduktID"
                                    },
                                    {
                                        "name": "Bestelldatum"
                                    }
                                ]
                            },
                            "data": [
                                {
                                    "BestellungID": "1001",
                                    "KundeID": "1",
                                    "ProduktID": "101",
                                    "Bestelldatum": "2025-06-01"
                                },
                                {
                                    "BestellungID": "1002",
                                    "KundeID": "1",
                                    "ProduktID": "102",
                                    "Bestelldatum": "2025-06-02"
                                },
                                {
                                    "BestellungID": "1003",
                                    "KundeID": "2",
                                    "ProduktID": "103",
                                    "Bestelldatum": "2025-06-03"
                                }
                            ]
                        },
                        "text/html": [
                            "<table>",
                            "<tr><th>BestellungID</th><th>KundeID</th><th>ProduktID</th><th>Bestelldatum</th></tr>",
                            "<tr><td>1001</td><td>1</td><td>101</td><td>2025-06-01</td></tr>",
                            "<tr><td>1002</td><td>1</td><td>102</td><td>2025-06-02</td></tr>",
                            "<tr><td>1003</td><td>2</td><td>103</td><td>2025-06-03</td></tr>",
                            "</table>"
                        ]
                    }
                }
            ],
            "execution_count": 3
        },
        {
            "cell_type": "code",
            "source": [
                "SELECT * FROM Kunde;"
            ],
            "metadata": {
                "azdata_cell_guid": "e7fcd10b-4736-4da7-96f1-a764c21e6185",
                "language": "sql"
            },
            "outputs": [
                {
                    "output_type": "display_data",
                    "data": {
                        "text/html": "(2 rows affected)"
                    },
                    "metadata": {}
                },
                {
                    "output_type": "display_data",
                    "data": {
                        "text/html": "Total execution time: 00:00:00.012"
                    },
                    "metadata": {}
                },
                {
                    "output_type": "execute_result",
                    "metadata": {},
                    "execution_count": 4,
                    "data": {
                        "application/vnd.dataresource+json": {
                            "schema": {
                                "fields": [
                                    {
                                        "name": "KundeID"
                                    },
                                    {
                                        "name": "Name"
                                    },
                                    {
                                        "name": "Stadt"
                                    }
                                ]
                            },
                            "data": [
                                {
                                    "KundeID": "1",
                                    "Name": "Anna Meier",
                                    "Stadt": "Zürich"
                                },
                                {
                                    "KundeID": "2",
                                    "Name": "Luca Frei",
                                    "Stadt": "Bern"
                                }
                            ]
                        },
                        "text/html": [
                            "<table>",
                            "<tr><th>KundeID</th><th>Name</th><th>Stadt</th></tr>",
                            "<tr><td>1</td><td>Anna Meier</td><td>Zürich</td></tr>",
                            "<tr><td>2</td><td>Luca Frei</td><td>Bern</td></tr>",
                            "</table>"
                        ]
                    }
                }
            ],
            "execution_count": 4
        },
        {
            "cell_type": "code",
            "source": [
                "SELECT Kunde.Name, Bestellung.ProduktID, Bestellung.Bestelldatum\r\n",
                "FROM Bestellung\r\n",
                "INNER JOIN Kunde\r\n",
                "ON Kunde.KundeID = Bestellung.KundeID;"
            ],
            "metadata": {
                "language": "sql",
                "azdata_cell_guid": "0d47d44e-4ddb-4be0-b006-2408dc25f921"
            },
            "outputs": [
{
    "output_type": "display_data",
    "data": {
        "text/html": "(3 rows affected)"
    },
    "metadata": {}
}, {
    "output_type": "display_data",
    "data": {
        "text/html": "Total execution time: 00:00:00.020"
    },
    "metadata": {}
}, {
    "output_type": "execute_result",
    "metadata": {},
    "execution_count": 5,
    "data": {
        "application/vnd.dataresource+json": {
            "schema": {
                "fields": [
                    {
                        "name": "Name"
                    },
                    {
                        "name": "ProduktID"
                    },
                    {
                        "name": "Bestelldatum"
                    }
                ]
            },
            "data": [
                {
                    "Name": "Anna Meier",
                    "ProduktID": "101",
                    "Bestelldatum": "2025-06-01"
                },
                {
                    "Name": "Anna Meier",
                    "ProduktID": "102",
                    "Bestelldatum": "2025-06-02"
                },
                {
                    "Name": "Luca Frei",
                    "ProduktID": "103",
                    "Bestelldatum": "2025-06-03"
                }
            ]
        },
        "text/html": [
            "<table>",
            "<tr><th>Name</th><th>ProduktID</th><th>Bestelldatum</th></tr>",
            "<tr><td>Anna Meier</td><td>101</td><td>2025-06-01</td></tr>",
            "<tr><td>Anna Meier</td><td>102</td><td>2025-06-02</td></tr>",
            "<tr><td>Luca Frei</td><td>103</td><td>2025-06-03</td></tr>",
            "</table>"
        ]
    }
}
],
            "execution_count": 5
        },
        {
            "cell_type": "code",
            "source": [
                "INSERT INTO Kunde VALUES (1, 'Anna Meier', 'Zürich');\r\n",
                "INSERT INTO Kunde VALUES (2, 'Luca Frei', 'Bern');\r\n",
                "\r\n",
                "INSERT INTO Produkt VALUES (101, 'Laptop', 1200.00);\r\n",
                "INSERT INTO Produkt VALUES (102, 'Maus', 25.50);\r\n",
                "INSERT INTO Produkt VALUES (103, 'Monitor', 230.00);\r\n",
                "\r\n",
                "INSERT INTO Bestellung VALUES (1001, 1, 101, '2025-06-01');\r\n",
                "INSERT INTO Bestellung VALUES (1002, 1, 102, '2025-06-02');\r\n",
                "INSERT INTO Bestellung VALUES (1003, 2, 103, '2025-06-03');"
            ],
            "metadata": {
                "azdata_cell_guid": "8a9beaa4-dd57-4125-ab39-e1cd6009637e",
                "language": "sql"
            },
            "outputs": [
                {
                    "output_type": "display_data",
                    "data": {
                        "text/html": "(1 row affected)"
                    },
                    "metadata": {}
                },
                {
                    "output_type": "display_data",
                    "data": {
                        "text/html": "(1 row affected)"
                    },
                    "metadata": {}
                },
                {
                    "output_type": "display_data",
                    "data": {
                        "text/html": "(1 row affected)"
                    },
                    "metadata": {}
                },
                {
                    "output_type": "display_data",
                    "data": {
                        "text/html": "(1 row affected)"
                    },
                    "metadata": {}
                },
                {
                    "output_type": "display_data",
                    "data": {
                        "text/html": "(1 row affected)"
                    },
                    "metadata": {}
                },
                {
                    "output_type": "display_data",
                    "data": {
                        "text/html": "(1 row affected)"
                    },
                    "metadata": {}
                },
                {
                    "output_type": "display_data",
                    "data": {
                        "text/html": "(1 row affected)"
                    },
                    "metadata": {}
                },
                {
                    "output_type": "display_data",
                    "data": {
                        "text/html": "(1 row affected)"
                    },
                    "metadata": {}
                },
                {
                    "output_type": "display_data",
                    "data": {
                        "text/html": "Total execution time: 00:00:00.016"
                    },
                    "metadata": {}
                }
            ],
            "execution_count": 2
        }
    ]
}