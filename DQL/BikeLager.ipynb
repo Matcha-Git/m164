{
    "metadata": {
        "kernelspec": {
            "name": "SQL",
            "display_name": "SQL",
            "language": "sql"
        },
        "language_info": {
            "name": "sql",
            "version": ""
        },
        "connection_name": ""
    },
    "nbformat_minor": 2,
    "nbformat": 4,
    "cells": [
        {
            "cell_type": "markdown",
            "source": [
                "# **Aufgabe 1**"
            ],
            "metadata": {
                "azdata_cell_guid": "f6e92990-4cad-4674-8624-0cc9ac0fa104"
            },
            "attachments": {}
        },
        {
            "cell_type": "markdown",
            "source": [
                "## **./BikeLagerT-SQL.sql**"
            ],
            "metadata": {
                "azdata_cell_guid": "c3a544a9-a6ce-463b-bf95-1e2ad026bba9"
            },
            "attachments": {}
        },
        {
            "cell_type": "markdown",
            "source": [
                "# **Aufgbe 2**"
            ],
            "metadata": {
                "azdata_cell_guid": "ff356800-46d5-412b-a35c-feadc1e08e8a"
            },
            "attachments": {}
        },
        {
            "cell_type": "code",
            "source": [
                "USE BikeLager;\r\n",
                "GO\r\n",
                "\r\n",
                "SELECT * FROM Bike, Marke, Typ;"
            ],
            "metadata": {
                "azdata_cell_guid": "ef22b13f-7b47-4ab8-8606-841da8a752c1",
                "language": "sql"
            },
            "outputs": [
                {
                    "output_type": "display_data",
                    "data": {
                        "text/html": "Commands completed successfully."
                    },
                    "metadata": {}
                },
                {
                    "output_type": "display_data",
                    "data": {
                        "text/html": "(250 rows affected)"
                    },
                    "metadata": {}
                },
                {
                    "output_type": "display_data",
                    "data": {
                        "text/html": "Total execution time: 00:00:00.039"
                    },
                    "metadata": {}
                },
                {
                    "output_type": "execute_result",
                    "metadata": {},
                    "execution_count": 1,
                    "data": {
                        "application/vnd.dataresource+json": {
                            "schema": {
                                "fields": [
                                    {
                                        "name": "BikeId"
                                    },
                                    {
                                        "name": "Bez"
                                    },
                                    {
                                        "name": "Preis"
                                    },
                                    {
                                        "name": "fk_TypId"
                                    },
                                    {
                                        "name": "fk_MarkeId"
                                    },
                                    {
                                        "name": "MarkeId"
                                    },
                                    {
                                        "name": "Bez"
                                    },
                                    {
                                        "name": "TypId"
                                    },
                                    {
                                        "name": "Bez"
                                    }
                                ]
                            },
                            "data": [
                                {
                                    "BikeId": "1",
                                    "Bez": "Citybike",
                                    "Preis": "1399.00",
                                    "fk_TypId": "1",
                                    "fk_MarkeId": "5",
                                    "MarkeId": "1",
                                    "TypId": "1"
                                },
                                {
                                    "BikeId": "2",
                                    "Bez": "Citybike",
                                    "Preis": "3899.00",
                                    "fk_TypId": "2",
                                    "fk_MarkeId": "3",
                                    "MarkeId": "1",
                                    "TypId": "1"
                                },
                                {
                                    "BikeId": "3",
                                    "Bez": "Citybike",
                                    "Preis": "4599.00",
                                    "fk_TypId": "2",
                                    "fk_MarkeId": "3",
                                    "MarkeId": "1",
                                    "TypId": "1"
                                },
                                {
                                    "BikeId": "4",
                                    "Bez": "Citybike",
                                    "Preis": "3199.00",
                                    "fk_TypId": "2",
                                    "fk_MarkeId": "3",
                                    "MarkeId": "1",
                                    "TypId": "1"
                                },
                                {
                                    "BikeId": "5",
                                    "Bez": "Citybike",
                                    "Preis": "5399.00",
                                    "fk_TypId": "2",
                                    "fk_MarkeId": "2",
                                    "MarkeId": "1",
                                    "TypId": "1"
                                },
                                {
                                    "BikeId": "6",
                                    "Bez": "Citybike",
                                    "Preis": "3999.00",
                                    "fk_TypId": "4",
                                    "fk_MarkeId": "2",
                                    "MarkeId": "1",
                                    "TypId": "1"
                                },
                                {
                                    "BikeId": "7",
                                    "Bez": "Citybike",
                                    "Preis": "499.00",
                                    "fk_TypId": "3",
                                    "fk_MarkeId": "1",
                                    "MarkeId": "1",
                                    "TypId": "1"
                                },
                                {
                                    "BikeId": "8",
                                    "Bez": "Citybike",
                                    "Preis": "1199.00",
                                    "fk_TypId": "4",
                                    "fk_MarkeId": "1",
                                    "MarkeId": "1",
                                    "TypId": "1"
                                },
                                {
                                    "BikeId": "9",
                                    "Bez": "Citybike",
                                    "Preis": "499.00",
                                    "fk_TypId": "1",
                                    "fk_MarkeId": "4",
                                    "MarkeId": "1",
                                    "TypId": "1"
                                },
                                {
                                    "BikeId": "10",
                                    "Bez": "Citybike",
                                    "Preis": "999.00",
                                    "fk_TypId": "4",
                                    "fk_MarkeId": "4",
                                    "MarkeId": "1",
                                    "TypId": "1"
                                },
                                {
                                    "BikeId": "1",
                                    "Bez": "Citybike",
                                    "Preis": "1399.00",
                                    "fk_TypId": "1",
                                    "fk_MarkeId": "5",
                                    "MarkeId": "2",
                                    "TypId": "1"
                                },
                                {
                                    "BikeId": "2",
                                    "Bez": "Citybike",
                                    "Preis": "3899.00",
                                    "fk_TypId": "2",
                                    "fk_MarkeId": "3",
                                    "MarkeId": "2",
                                    "TypId": "1"
                                },
                                {
                                    "BikeId": "3",
                                    "Bez": "Citybike",
                                    "Preis": "4599.00",
                                    "fk_TypId": "2",
                                    "fk_MarkeId": "3",
                                    "MarkeId": "2",
                                    "TypId": "1"
                                },
                                {
                                    "BikeId": "4",
                                    "Bez": "Citybike",
                                    "Preis": "3199.00",
                                    "fk_TypId": "2",
                                    "fk_MarkeId": "3",
                                    "MarkeId": "2",
                                    "TypId": "1"
                                },
                                {
                                    "BikeId": "5",
                                    "Bez": "Citybike",
                                    "Preis": "5399.00",
                                    "fk_TypId": "2",
                                    "fk_MarkeId": "2",
                                    "MarkeId": "2",
                                    "TypId": "1"
                                },
                                {
                                    "BikeId": "6",
                                    "Bez": "Citybike",
                                    "Preis": "3999.00",
                                    "fk_TypId": "4",
                                    "fk_MarkeId": "2",
                                    "MarkeId": "2",
                                    "TypId": "1"
                                },
                                {
                                    "BikeId": "7",
                                    "Bez": "Citybike",
                                    "Preis": "499.00",
                                    "fk_TypId": "3",
                                    "fk_MarkeId": "1",
                                    "MarkeId": "2",
                                    "TypId": "1"
                                },
                                {
                                    "BikeId": "8",
                                    "Bez": "Citybike",
                                    "Preis": "1199.00",
                                    "fk_TypId": "4",
                                    "fk_MarkeId": "1",
                                    "MarkeId": "2",
                                    "TypId": "1"
                                },
                                {
                                    "BikeId": "9",
                                    "Bez": "Citybike",
                                    "Preis": "499.00",
                                    "fk_TypId": "1",
                                    "fk_MarkeId": "4",
                                    "MarkeId": "2",
                                    "TypId": "1"
                                },
                                {
                                    "BikeId": "10",
                                    "Bez": "Citybike",
                                    "Preis": "999.00",
                                    "fk_TypId": "4",
                                    "fk_MarkeId": "4",
                                    "MarkeId": "2",
                                    "TypId": "1"
                                },
                                {
                                    "BikeId": "1",
                                    "Bez": "Citybike",
                                    "Preis": "1399.00",
                                    "fk_TypId": "1",
                                    "fk_MarkeId": "5",
                                    "MarkeId": "3",
                                    "TypId": "1"
                                },
                                {
                                    "BikeId": "2",
                                    "Bez": "Citybike",
                                    "Preis": "3899.00",
                                    "fk_TypId": "2",
                                    "fk_MarkeId": "3",
                                    "MarkeId": "3",
                                    "TypId": "1"
                                },
                                {
                                    "BikeId": "3",
                                    "Bez": "Citybike",
                                    "Preis": "4599.00",
                                    "fk_TypId": "2",
                                    "fk_MarkeId": "3",
                                    "MarkeId": "3",
                                    "TypId": "1"
                                },
                                {
                                    "BikeId": "4",
                                    "Bez": "Citybike",
                                    "Preis": "3199.00",
                                    "fk_TypId": "2",
                                    "fk_MarkeId": "3",
                                    "MarkeId": "3",
                                    "TypId": "1"
                                },
                                {
                                    "BikeId": "5",
                                    "Bez": "Citybike",
                                    "Preis": "5399.00",
                                    "fk_TypId": "2",
                                    "fk_MarkeId": "2",
                                    "MarkeId": "3",
                                    "TypId": "1"
                                },
                                {
                                    "BikeId": "6",
                                    "Bez": "Citybike",
                                    "Preis": "3999.00",
                                    "fk_TypId": "4",
                                    "fk_MarkeId": "2",
                                    "MarkeId": "3",
                                    "TypId": "1"
                                },
                                {
                                    "BikeId": "7",
                                    "Bez": "Citybike",
                                    "Preis": "499.00",
                                    "fk_TypId": "3",
                                    "fk_MarkeId": "1",
                                    "MarkeId": "3",
                                    "TypId": "1"
                                },
                                {
                                    "BikeId": "8",
                                    "Bez": "Citybike",
                                    "Preis": "1199.00",
                                    "fk_TypId": "4",
                                    "fk_MarkeId": "1",
                                    "MarkeId": "3",
                                    "TypId": "1"
                                },
                                {
                                    "BikeId": "9",
                                    "Bez": "Citybike",
                                    "Preis": "499.00",
                                    "fk_TypId": "1",
                                    "fk_MarkeId": "4",
                                    "MarkeId": "3",
                                    "TypId": "1"
                                },
                                {
                                    "BikeId": "10",
                                    "Bez": "Citybike",
                                    "Preis": "999.00",
                                    "fk_TypId": "4",
                                    "fk_MarkeId": "4",
                                    "MarkeId": "3",
                                    "TypId": "1"
                                },
                                {
                                    "BikeId": "1",
                                    "Bez": "Citybike",
                                    "Preis": "1399.00",
                                    "fk_TypId": "1",
                                    "fk_MarkeId": "5",
                                    "MarkeId": "4",
                                    "TypId": "1"
                                },
                                {
                                    "BikeId": "2",
                                    "Bez": "Citybike",
                                    "Preis": "3899.00",
                                    "fk_TypId": "2",
                                    "fk_MarkeId": "3",
                                    "MarkeId": "4",
                                    "TypId": "1"
                                },
                                {
                                    "BikeId": "3",
                                    "Bez": "Citybike",
                                    "Preis": "4599.00",
                                    "fk_TypId": "2",
                                    "fk_MarkeId": "3",
                                    "MarkeId": "4",
                                    "TypId": "1"
                                },
                                {
                                    "BikeId": "4",
                                    "Bez": "Citybike",
                                    "Preis": "3199.00",
                                    "fk_TypId": "2",
                                    "fk_MarkeId": "3",
                                    "MarkeId": "4",
                                    "TypId": "1"
                                },
                                {
                                    "BikeId": "5",
                                    "Bez": "Citybike",
                                    "Preis": "5399.00",
                                    "fk_TypId": "2",
                                    "fk_MarkeId": "2",
                                    "MarkeId": "4",
                                    "TypId": "1"
                                },
                                {
                                    "BikeId": "6",
                                    "Bez": "Citybike",
                                    "Preis": "3999.00",
                                    "fk_TypId": "4",
                                    "fk_MarkeId": "2",
                                    "MarkeId": "4",
                                    "TypId": "1"
                                },
                                {
                                    "BikeId": "7",
                                    "Bez": "Citybike",
                                    "Preis": "499.00",
                                    "fk_TypId": "3",
                                    "fk_MarkeId": "1",
                                    "MarkeId": "4",
                                    "TypId": "1"
                                },
                                {
                                    "BikeId": "8",
                                    "Bez": "Citybike",
                                    "Preis": "1199.00",
                                    "fk_TypId": "4",
                                    "fk_MarkeId": "1",
                                    "MarkeId": "4",
                                    "TypId": "1"
                                },
                                {
                                    "BikeId": "9",
                                    "Bez": "Citybike",
                                    "Preis": "499.00",
                                    "fk_TypId": "1",
                                    "fk_MarkeId": "4",
                                    "MarkeId": "4",
                                    "TypId": "1"
                                },
                                {
                                    "BikeId": "10",
                                    "Bez": "Citybike",
                                    "Preis": "999.00",
                                    "fk_TypId": "4",
                                    "fk_MarkeId": "4",
                                    "MarkeId": "4",
                                    "TypId": "1"
                                },
                                {
                                    "BikeId": "1",
                                    "Bez": "Citybike",
                                    "Preis": "1399.00",
                                    "fk_TypId": "1",
                                    "fk_MarkeId": "5",
                                    "MarkeId": "5",
                                    "TypId": "1"
                                },
                                {
                                    "BikeId": "2",
                                    "Bez": "Citybike",
                                    "Preis": "3899.00",
                                    "fk_TypId": "2",
                                    "fk_MarkeId": "3",
                                    "MarkeId": "5",
                                    "TypId": "1"
                                },
                                {
                                    "BikeId": "3",
                                    "Bez": "Citybike",
                                    "Preis": "4599.00",
                                    "fk_TypId": "2",
                                    "fk_MarkeId": "3",
                                    "MarkeId": "5",
                                    "TypId": "1"
                                },
                                {
                                    "BikeId": "4",
                                    "Bez": "Citybike",
                                    "Preis": "3199.00",
                                    "fk_TypId": "2",
                                    "fk_MarkeId": "3",
                                    "MarkeId": "5",
                                    "TypId": "1"
                                },
                                {
                                    "BikeId": "5",
                                    "Bez": "Citybike",
                                    "Preis": "5399.00",
                                    "fk_TypId": "2",
                                    "fk_MarkeId": "2",
                                    "MarkeId": "5",
                                    "TypId": "1"
                                },
                                {
                                    "BikeId": "6",
                                    "Bez": "Citybike",
                                    "Preis": "3999.00",
                                    "fk_TypId": "4",
                                    "fk_MarkeId": "2",
                                    "MarkeId": "5",
                                    "TypId": "1"
                                },
                                {
                                    "BikeId": "7",
                                    "Bez": "Citybike",
                                    "Preis": "499.00",
                                    "fk_TypId": "3",
                                    "fk_MarkeId": "1",
                                    "MarkeId": "5",
                                    "TypId": "1"
                                },
                                {
                                    "BikeId": "8",
                                    "Bez": "Citybike",
                                    "Preis": "1199.00",
                                    "fk_TypId": "4",
                                    "fk_MarkeId": "1",
                                    "MarkeId": "5",
                                    "TypId": "1"
                                },
                                {
                                    "BikeId": "9",
                                    "Bez": "Citybike",
                                    "Preis": "499.00",
                                    "fk_TypId": "1",
                                    "fk_MarkeId": "4",
                                    "MarkeId": "5",
                                    "TypId": "1"
                                },
                                {
                                    "BikeId": "10",
                                    "Bez": "Citybike",
                                    "Preis": "999.00",
                                    "fk_TypId": "4",
                                    "fk_MarkeId": "4",
                                    "MarkeId": "5",
                                    "TypId": "1"
                                },
                                {
                                    "BikeId": "1",
                                    "Bez": "E-Bike",
                                    "Preis": "1399.00",
                                    "fk_TypId": "1",
                                    "fk_MarkeId": "5",
                                    "MarkeId": "1",
                                    "TypId": "2"
                                },
                                {
                                    "BikeId": "2",
                                    "Bez": "E-Bike",
                                    "Preis": "3899.00",
                                    "fk_TypId": "2",
                                    "fk_MarkeId": "3",
                                    "MarkeId": "1",
                                    "TypId": "2"
                                },
                                {
                                    "BikeId": "3",
                                    "Bez": "E-Bike",
                                    "Preis": "4599.00",
                                    "fk_TypId": "2",
                                    "fk_MarkeId": "3",
                                    "MarkeId": "1",
                                    "TypId": "2"
                                },
                                {
                                    "BikeId": "4",
                                    "Bez": "E-Bike",
                                    "Preis": "3199.00",
                                    "fk_TypId": "2",
                                    "fk_MarkeId": "3",
                                    "MarkeId": "1",
                                    "TypId": "2"
                                },
                                {
                                    "BikeId": "5",
                                    "Bez": "E-Bike",
                                    "Preis": "5399.00",
                                    "fk_TypId": "2",
                                    "fk_MarkeId": "2",
                                    "MarkeId": "1",
                                    "TypId": "2"
                                },
                                {
                                    "BikeId": "6",
                                    "Bez": "E-Bike",
                                    "Preis": "3999.00",
                                    "fk_TypId": "4",
                                    "fk_MarkeId": "2",
                                    "MarkeId": "1",
                                    "TypId": "2"
                                },
                                {
                                    "BikeId": "7",
                                    "Bez": "E-Bike",
                                    "Preis": "499.00",
                                    "fk_TypId": "3",
                                    "fk_MarkeId": "1",
                                    "MarkeId": "1",
                                    "TypId": "2"
                                },
                                {
                                    "BikeId": "8",
                                    "Bez": "E-Bike",
                                    "Preis": "1199.00",
                                    "fk_TypId": "4",
                                    "fk_MarkeId": "1",
                                    "MarkeId": "1",
                                    "TypId": "2"
                                },
                                {
                                    "BikeId": "9",
                                    "Bez": "E-Bike",
                                    "Preis": "499.00",
                                    "fk_TypId": "1",
                                    "fk_MarkeId": "4",
                                    "MarkeId": "1",
                                    "TypId": "2"
                                },
                                {
                                    "BikeId": "10",
                                    "Bez": "E-Bike",
                                    "Preis": "999.00",
                                    "fk_TypId": "4",
                                    "fk_MarkeId": "4",
                                    "MarkeId": "1",
                                    "TypId": "2"
                                },
                                {
                                    "BikeId": "1",
                                    "Bez": "E-Bike",
                                    "Preis": "1399.00",
                                    "fk_TypId": "1",
                                    "fk_MarkeId": "5",
                                    "MarkeId": "2",
                                    "TypId": "2"
                                },
                                {
                                    "BikeId": "2",
                                    "Bez": "E-Bike",
                                    "Preis": "3899.00",
                                    "fk_TypId": "2",
                                    "fk_MarkeId": "3",
                                    "MarkeId": "2",
                                    "TypId": "2"
                                },
                                {
                                    "BikeId": "3",
                                    "Bez": "E-Bike",
                                    "Preis": "4599.00",
                                    "fk_TypId": "2",
                                    "fk_MarkeId": "3",
                                    "MarkeId": "2",
                                    "TypId": "2"
                                },
                                {
                                    "BikeId": "4",
                                    "Bez": "E-Bike",
                                    "Preis": "3199.00",
                                    "fk_TypId": "2",
                                    "fk_MarkeId": "3",
                                    "MarkeId": "2",
                                    "TypId": "2"
                                },
                                {
                                    "BikeId": "5",
                                    "Bez": "E-Bike",
                                    "Preis": "5399.00",
                                    "fk_TypId": "2",
                                    "fk_MarkeId": "2",
                                    "MarkeId": "2",
                                    "TypId": "2"
                                },
                                {
                                    "BikeId": "6",
                                    "Bez": "E-Bike",
                                    "Preis": "3999.00",
                                    "fk_TypId": "4",
                                    "fk_MarkeId": "2",
                                    "MarkeId": "2",
                                    "TypId": "2"
                                },
                                {
                                    "BikeId": "7",
                                    "Bez": "E-Bike",
                                    "Preis": "499.00",
                                    "fk_TypId": "3",
                                    "fk_MarkeId": "1",
                                    "MarkeId": "2",
                                    "TypId": "2"
                                },
                                {
                                    "BikeId": "8",
                                    "Bez": "E-Bike",
                                    "Preis": "1199.00",
                                    "fk_TypId": "4",
                                    "fk_MarkeId": "1",
                                    "MarkeId": "2",
                                    "TypId": "2"
                                },
                                {
                                    "BikeId": "9",
                                    "Bez": "E-Bike",
                                    "Preis": "499.00",
                                    "fk_TypId": "1",
                                    "fk_MarkeId": "4",
                                    "MarkeId": "2",
                                    "TypId": "2"
                                },
                                {
                                    "BikeId": "10",
                                    "Bez": "E-Bike",
                                    "Preis": "999.00",
                                    "fk_TypId": "4",
                                    "fk_MarkeId": "4",
                                    "MarkeId": "2",
                                    "TypId": "2"
                                },
                                {
                                    "BikeId": "1",
                                    "Bez": "E-Bike",
                                    "Preis": "1399.00",
                                    "fk_TypId": "1",
                                    "fk_MarkeId": "5",
                                    "MarkeId": "3",
                                    "TypId": "2"
                                },
                                {
                                    "BikeId": "2",
                                    "Bez": "E-Bike",
                                    "Preis": "3899.00",
                                    "fk_TypId": "2",
                                    "fk_MarkeId": "3",
                                    "MarkeId": "3",
                                    "TypId": "2"
                                },
                                {
                                    "BikeId": "3",
                                    "Bez": "E-Bike",
                                    "Preis": "4599.00",
                                    "fk_TypId": "2",
                                    "fk_MarkeId": "3",
                                    "MarkeId": "3",
                                    "TypId": "2"
                                },
                                {
                                    "BikeId": "4",
                                    "Bez": "E-Bike",
                                    "Preis": "3199.00",
                                    "fk_TypId": "2",
                                    "fk_MarkeId": "3",
                                    "MarkeId": "3",
                                    "TypId": "2"
                                },
                                {
                                    "BikeId": "5",
                                    "Bez": "E-Bike",
                                    "Preis": "5399.00",
                                    "fk_TypId": "2",
                                    "fk_MarkeId": "2",
                                    "MarkeId": "3",
                                    "TypId": "2"
                                },
                                {
                                    "BikeId": "6",
                                    "Bez": "E-Bike",
                                    "Preis": "3999.00",
                                    "fk_TypId": "4",
                                    "fk_MarkeId": "2",
                                    "MarkeId": "3",
                                    "TypId": "2"
                                },
                                {
                                    "BikeId": "7",
                                    "Bez": "E-Bike",
                                    "Preis": "499.00",
                                    "fk_TypId": "3",
                                    "fk_MarkeId": "1",
                                    "MarkeId": "3",
                                    "TypId": "2"
                                },
                                {
                                    "BikeId": "8",
                                    "Bez": "E-Bike",
                                    "Preis": "1199.00",
                                    "fk_TypId": "4",
                                    "fk_MarkeId": "1",
                                    "MarkeId": "3",
                                    "TypId": "2"
                                },
                                {
                                    "BikeId": "9",
                                    "Bez": "E-Bike",
                                    "Preis": "499.00",
                                    "fk_TypId": "1",
                                    "fk_MarkeId": "4",
                                    "MarkeId": "3",
                                    "TypId": "2"
                                },
                                {
                                    "BikeId": "10",
                                    "Bez": "E-Bike",
                                    "Preis": "999.00",
                                    "fk_TypId": "4",
                                    "fk_MarkeId": "4",
                                    "MarkeId": "3",
                                    "TypId": "2"
                                },
                                {
                                    "BikeId": "1",
                                    "Bez": "E-Bike",
                                    "Preis": "1399.00",
                                    "fk_TypId": "1",
                                    "fk_MarkeId": "5",
                                    "MarkeId": "4",
                                    "TypId": "2"
                                },
                                {
                                    "BikeId": "2",
                                    "Bez": "E-Bike",
                                    "Preis": "3899.00",
                                    "fk_TypId": "2",
                                    "fk_MarkeId": "3",
                                    "MarkeId": "4",
                                    "TypId": "2"
                                },
                                {
                                    "BikeId": "3",
                                    "Bez": "E-Bike",
                                    "Preis": "4599.00",
                                    "fk_TypId": "2",
                                    "fk_MarkeId": "3",
                                    "MarkeId": "4",
                                    "TypId": "2"
                                },
                                {
                                    "BikeId": "4",
                                    "Bez": "E-Bike",
                                    "Preis": "3199.00",
                                    "fk_TypId": "2",
                                    "fk_MarkeId": "3",
                                    "MarkeId": "4",
                                    "TypId": "2"
                                },
                                {
                                    "BikeId": "5",
                                    "Bez": "E-Bike",
                                    "Preis": "5399.00",
                                    "fk_TypId": "2",
                                    "fk_MarkeId": "2",
                                    "MarkeId": "4",
                                    "TypId": "2"
                                },
                                {
                                    "BikeId": "6",
                                    "Bez": "E-Bike",
                                    "Preis": "3999.00",
                                    "fk_TypId": "4",
                                    "fk_MarkeId": "2",
                                    "MarkeId": "4",
                                    "TypId": "2"
                                },
                                {
                                    "BikeId": "7",
                                    "Bez": "E-Bike",
                                    "Preis": "499.00",
                                    "fk_TypId": "3",
                                    "fk_MarkeId": "1",
                                    "MarkeId": "4",
                                    "TypId": "2"
                                },
                                {
                                    "BikeId": "8",
                                    "Bez": "E-Bike",
                                    "Preis": "1199.00",
                                    "fk_TypId": "4",
                                    "fk_MarkeId": "1",
                                    "MarkeId": "4",
                                    "TypId": "2"
                                },
                                {
                                    "BikeId": "9",
                                    "Bez": "E-Bike",
                                    "Preis": "499.00",
                                    "fk_TypId": "1",
                                    "fk_MarkeId": "4",
                                    "MarkeId": "4",
                                    "TypId": "2"
                                },
                                {
                                    "BikeId": "10",
                                    "Bez": "E-Bike",
                                    "Preis": "999.00",
                                    "fk_TypId": "4",
                                    "fk_MarkeId": "4",
                                    "MarkeId": "4",
                                    "TypId": "2"
                                },
                                {
                                    "BikeId": "1",
                                    "Bez": "E-Bike",
                                    "Preis": "1399.00",
                                    "fk_TypId": "1",
                                    "fk_MarkeId": "5",
                                    "MarkeId": "5",
                                    "TypId": "2"
                                },
                                {
                                    "BikeId": "2",
                                    "Bez": "E-Bike",
                                    "Preis": "3899.00",
                                    "fk_TypId": "2",
                                    "fk_MarkeId": "3",
                                    "MarkeId": "5",
                                    "TypId": "2"
                                },
                                {
                                    "BikeId": "3",
                                    "Bez": "E-Bike",
                                    "Preis": "4599.00",
                                    "fk_TypId": "2",
                                    "fk_MarkeId": "3",
                                    "MarkeId": "5",
                                    "TypId": "2"
                                },
                                {
                                    "BikeId": "4",
                                    "Bez": "E-Bike",
                                    "Preis": "3199.00",
                                    "fk_TypId": "2",
                                    "fk_MarkeId": "3",
                                    "MarkeId": "5",
                                    "TypId": "2"
                                },
                                {
                                    "BikeId": "5",
                                    "Bez": "E-Bike",
                                    "Preis": "5399.00",
                                    "fk_TypId": "2",
                                    "fk_MarkeId": "2",
                                    "MarkeId": "5",
                                    "TypId": "2"
                                },
                                {
                                    "BikeId": "6",
                                    "Bez": "E-Bike",
                                    "Preis": "3999.00",
                                    "fk_TypId": "4",
                                    "fk_MarkeId": "2",
                                    "MarkeId": "5",
                                    "TypId": "2"
                                },
                                {
                                    "BikeId": "7",
                                    "Bez": "E-Bike",
                                    "Preis": "499.00",
                                    "fk_TypId": "3",
                                    "fk_MarkeId": "1",
                                    "MarkeId": "5",
                                    "TypId": "2"
                                },
                                {
                                    "BikeId": "8",
                                    "Bez": "E-Bike",
                                    "Preis": "1199.00",
                                    "fk_TypId": "4",
                                    "fk_MarkeId": "1",
                                    "MarkeId": "5",
                                    "TypId": "2"
                                },
                                {
                                    "BikeId": "9",
                                    "Bez": "E-Bike",
                                    "Preis": "499.00",
                                    "fk_TypId": "1",
                                    "fk_MarkeId": "4",
                                    "MarkeId": "5",
                                    "TypId": "2"
                                },
                                {
                                    "BikeId": "10",
                                    "Bez": "E-Bike",
                                    "Preis": "999.00",
                                    "fk_TypId": "4",
                                    "fk_MarkeId": "4",
                                    "MarkeId": "5",
                                    "TypId": "2"
                                },
                                {
                                    "BikeId": "1",
                                    "Bez": "Kinderbike",
                                    "Preis": "1399.00",
                                    "fk_TypId": "1",
                                    "fk_MarkeId": "5",
                                    "MarkeId": "1",
                                    "TypId": "3"
                                },
                                {
                                    "BikeId": "2",
                                    "Bez": "Kinderbike",
                                    "Preis": "3899.00",
                                    "fk_TypId": "2",
                                    "fk_MarkeId": "3",
                                    "MarkeId": "1",
                                    "TypId": "3"
                                },
                                {
                                    "BikeId": "3",
                                    "Bez": "Kinderbike",
                                    "Preis": "4599.00",
                                    "fk_TypId": "2",
                                    "fk_MarkeId": "3",
                                    "MarkeId": "1",
                                    "TypId": "3"
                                },
                                {
                                    "BikeId": "4",
                                    "Bez": "Kinderbike",
                                    "Preis": "3199.00",
                                    "fk_TypId": "2",
                                    "fk_MarkeId": "3",
                                    "MarkeId": "1",
                                    "TypId": "3"
                                },
                                {
                                    "BikeId": "5",
                                    "Bez": "Kinderbike",
                                    "Preis": "5399.00",
                                    "fk_TypId": "2",
                                    "fk_MarkeId": "2",
                                    "MarkeId": "1",
                                    "TypId": "3"
                                },
                                {
                                    "BikeId": "6",
                                    "Bez": "Kinderbike",
                                    "Preis": "3999.00",
                                    "fk_TypId": "4",
                                    "fk_MarkeId": "2",
                                    "MarkeId": "1",
                                    "TypId": "3"
                                },
                                {
                                    "BikeId": "7",
                                    "Bez": "Kinderbike",
                                    "Preis": "499.00",
                                    "fk_TypId": "3",
                                    "fk_MarkeId": "1",
                                    "MarkeId": "1",
                                    "TypId": "3"
                                },
                                {
                                    "BikeId": "8",
                                    "Bez": "Kinderbike",
                                    "Preis": "1199.00",
                                    "fk_TypId": "4",
                                    "fk_MarkeId": "1",
                                    "MarkeId": "1",
                                    "TypId": "3"
                                },
                                {
                                    "BikeId": "9",
                                    "Bez": "Kinderbike",
                                    "Preis": "499.00",
                                    "fk_TypId": "1",
                                    "fk_MarkeId": "4",
                                    "MarkeId": "1",
                                    "TypId": "3"
                                },
                                {
                                    "BikeId": "10",
                                    "Bez": "Kinderbike",
                                    "Preis": "999.00",
                                    "fk_TypId": "4",
                                    "fk_MarkeId": "4",
                                    "MarkeId": "1",
                                    "TypId": "3"
                                },
                                {
                                    "BikeId": "1",
                                    "Bez": "Kinderbike",
                                    "Preis": "1399.00",
                                    "fk_TypId": "1",
                                    "fk_MarkeId": "5",
                                    "MarkeId": "2",
                                    "TypId": "3"
                                },
                                {
                                    "BikeId": "2",
                                    "Bez": "Kinderbike",
                                    "Preis": "3899.00",
                                    "fk_TypId": "2",
                                    "fk_MarkeId": "3",
                                    "MarkeId": "2",
                                    "TypId": "3"
                                },
                                {
                                    "BikeId": "3",
                                    "Bez": "Kinderbike",
                                    "Preis": "4599.00",
                                    "fk_TypId": "2",
                                    "fk_MarkeId": "3",
                                    "MarkeId": "2",
                                    "TypId": "3"
                                },
                                {
                                    "BikeId": "4",
                                    "Bez": "Kinderbike",
                                    "Preis": "3199.00",
                                    "fk_TypId": "2",
                                    "fk_MarkeId": "3",
                                    "MarkeId": "2",
                                    "TypId": "3"
                                },
                                {
                                    "BikeId": "5",
                                    "Bez": "Kinderbike",
                                    "Preis": "5399.00",
                                    "fk_TypId": "2",
                                    "fk_MarkeId": "2",
                                    "MarkeId": "2",
                                    "TypId": "3"
                                },
                                {
                                    "BikeId": "6",
                                    "Bez": "Kinderbike",
                                    "Preis": "3999.00",
                                    "fk_TypId": "4",
                                    "fk_MarkeId": "2",
                                    "MarkeId": "2",
                                    "TypId": "3"
                                },
                                {
                                    "BikeId": "7",
                                    "Bez": "Kinderbike",
                                    "Preis": "499.00",
                                    "fk_TypId": "3",
                                    "fk_MarkeId": "1",
                                    "MarkeId": "2",
                                    "TypId": "3"
                                },
                                {
                                    "BikeId": "8",
                                    "Bez": "Kinderbike",
                                    "Preis": "1199.00",
                                    "fk_TypId": "4",
                                    "fk_MarkeId": "1",
                                    "MarkeId": "2",
                                    "TypId": "3"
                                },
                                {
                                    "BikeId": "9",
                                    "Bez": "Kinderbike",
                                    "Preis": "499.00",
                                    "fk_TypId": "1",
                                    "fk_MarkeId": "4",
                                    "MarkeId": "2",
                                    "TypId": "3"
                                },
                                {
                                    "BikeId": "10",
                                    "Bez": "Kinderbike",
                                    "Preis": "999.00",
                                    "fk_TypId": "4",
                                    "fk_MarkeId": "4",
                                    "MarkeId": "2",
                                    "TypId": "3"
                                },
                                {
                                    "BikeId": "1",
                                    "Bez": "Kinderbike",
                                    "Preis": "1399.00",
                                    "fk_TypId": "1",
                                    "fk_MarkeId": "5",
                                    "MarkeId": "3",
                                    "TypId": "3"
                                },
                                {
                                    "BikeId": "2",
                                    "Bez": "Kinderbike",
                                    "Preis": "3899.00",
                                    "fk_TypId": "2",
                                    "fk_MarkeId": "3",
                                    "MarkeId": "3",
                                    "TypId": "3"
                                },
                                {
                                    "BikeId": "3",
                                    "Bez": "Kinderbike",
                                    "Preis": "4599.00",
                                    "fk_TypId": "2",
                                    "fk_MarkeId": "3",
                                    "MarkeId": "3",
                                    "TypId": "3"
                                },
                                {
                                    "BikeId": "4",
                                    "Bez": "Kinderbike",
                                    "Preis": "3199.00",
                                    "fk_TypId": "2",
                                    "fk_MarkeId": "3",
                                    "MarkeId": "3",
                                    "TypId": "3"
                                },
                                {
                                    "BikeId": "5",
                                    "Bez": "Kinderbike",
                                    "Preis": "5399.00",
                                    "fk_TypId": "2",
                                    "fk_MarkeId": "2",
                                    "MarkeId": "3",
                                    "TypId": "3"
                                },
                                {
                                    "BikeId": "6",
                                    "Bez": "Kinderbike",
                                    "Preis": "3999.00",
                                    "fk_TypId": "4",
                                    "fk_MarkeId": "2",
                                    "MarkeId": "3",
                                    "TypId": "3"
                                },
                                {
                                    "BikeId": "7",
                                    "Bez": "Kinderbike",
                                    "Preis": "499.00",
                                    "fk_TypId": "3",
                                    "fk_MarkeId": "1",
                                    "MarkeId": "3",
                                    "TypId": "3"
                                },
                                {
                                    "BikeId": "8",
                                    "Bez": "Kinderbike",
                                    "Preis": "1199.00",
                                    "fk_TypId": "4",
                                    "fk_MarkeId": "1",
                                    "MarkeId": "3",
                                    "TypId": "3"
                                },
                                {
                                    "BikeId": "9",
                                    "Bez": "Kinderbike",
                                    "Preis": "499.00",
                                    "fk_TypId": "1",
                                    "fk_MarkeId": "4",
                                    "MarkeId": "3",
                                    "TypId": "3"
                                },
                                {
                                    "BikeId": "10",
                                    "Bez": "Kinderbike",
                                    "Preis": "999.00",
                                    "fk_TypId": "4",
                                    "fk_MarkeId": "4",
                                    "MarkeId": "3",
                                    "TypId": "3"
                                },
                                {
                                    "BikeId": "1",
                                    "Bez": "Kinderbike",
                                    "Preis": "1399.00",
                                    "fk_TypId": "1",
                                    "fk_MarkeId": "5",
                                    "MarkeId": "4",
                                    "TypId": "3"
                                },
                                {
                                    "BikeId": "2",
                                    "Bez": "Kinderbike",
                                    "Preis": "3899.00",
                                    "fk_TypId": "2",
                                    "fk_MarkeId": "3",
                                    "MarkeId": "4",
                                    "TypId": "3"
                                },
                                {
                                    "BikeId": "3",
                                    "Bez": "Kinderbike",
                                    "Preis": "4599.00",
                                    "fk_TypId": "2",
                                    "fk_MarkeId": "3",
                                    "MarkeId": "4",
                                    "TypId": "3"
                                },
                                {
                                    "BikeId": "4",
                                    "Bez": "Kinderbike",
                                    "Preis": "3199.00",
                                    "fk_TypId": "2",
                                    "fk_MarkeId": "3",
                                    "MarkeId": "4",
                                    "TypId": "3"
                                },
                                {
                                    "BikeId": "5",
                                    "Bez": "Kinderbike",
                                    "Preis": "5399.00",
                                    "fk_TypId": "2",
                                    "fk_MarkeId": "2",
                                    "MarkeId": "4",
                                    "TypId": "3"
                                },
                                {
                                    "BikeId": "6",
                                    "Bez": "Kinderbike",
                                    "Preis": "3999.00",
                                    "fk_TypId": "4",
                                    "fk_MarkeId": "2",
                                    "MarkeId": "4",
                                    "TypId": "3"
                                },
                                {
                                    "BikeId": "7",
                                    "Bez": "Kinderbike",
                                    "Preis": "499.00",
                                    "fk_TypId": "3",
                                    "fk_MarkeId": "1",
                                    "MarkeId": "4",
                                    "TypId": "3"
                                },
                                {
                                    "BikeId": "8",
                                    "Bez": "Kinderbike",
                                    "Preis": "1199.00",
                                    "fk_TypId": "4",
                                    "fk_MarkeId": "1",
                                    "MarkeId": "4",
                                    "TypId": "3"
                                },
                                {
                                    "BikeId": "9",
                                    "Bez": "Kinderbike",
                                    "Preis": "499.00",
                                    "fk_TypId": "1",
                                    "fk_MarkeId": "4",
                                    "MarkeId": "4",
                                    "TypId": "3"
                                },
                                {
                                    "BikeId": "10",
                                    "Bez": "Kinderbike",
                                    "Preis": "999.00",
                                    "fk_TypId": "4",
                                    "fk_MarkeId": "4",
                                    "MarkeId": "4",
                                    "TypId": "3"
                                },
                                {
                                    "BikeId": "1",
                                    "Bez": "Kinderbike",
                                    "Preis": "1399.00",
                                    "fk_TypId": "1",
                                    "fk_MarkeId": "5",
                                    "MarkeId": "5",
                                    "TypId": "3"
                                },
                                {
                                    "BikeId": "2",
                                    "Bez": "Kinderbike",
                                    "Preis": "3899.00",
                                    "fk_TypId": "2",
                                    "fk_MarkeId": "3",
                                    "MarkeId": "5",
                                    "TypId": "3"
                                },
                                {
                                    "BikeId": "3",
                                    "Bez": "Kinderbike",
                                    "Preis": "4599.00",
                                    "fk_TypId": "2",
                                    "fk_MarkeId": "3",
                                    "MarkeId": "5",
                                    "TypId": "3"
                                },
                                {
                                    "BikeId": "4",
                                    "Bez": "Kinderbike",
                                    "Preis": "3199.00",
                                    "fk_TypId": "2",
                                    "fk_MarkeId": "3",
                                    "MarkeId": "5",
                                    "TypId": "3"
                                },
                                {
                                    "BikeId": "5",
                                    "Bez": "Kinderbike",
                                    "Preis": "5399.00",
                                    "fk_TypId": "2",
                                    "fk_MarkeId": "2",
                                    "MarkeId": "5",
                                    "TypId": "3"
                                },
                                {
                                    "BikeId": "6",
                                    "Bez": "Kinderbike",
                                    "Preis": "3999.00",
                                    "fk_TypId": "4",
                                    "fk_MarkeId": "2",
                                    "MarkeId": "5",
                                    "TypId": "3"
                                },
                                {
                                    "BikeId": "7",
                                    "Bez": "Kinderbike",
                                    "Preis": "499.00",
                                    "fk_TypId": "3",
                                    "fk_MarkeId": "1",
                                    "MarkeId": "5",
                                    "TypId": "3"
                                },
                                {
                                    "BikeId": "8",
                                    "Bez": "Kinderbike",
                                    "Preis": "1199.00",
                                    "fk_TypId": "4",
                                    "fk_MarkeId": "1",
                                    "MarkeId": "5",
                                    "TypId": "3"
                                },
                                {
                                    "BikeId": "9",
                                    "Bez": "Kinderbike",
                                    "Preis": "499.00",
                                    "fk_TypId": "1",
                                    "fk_MarkeId": "4",
                                    "MarkeId": "5",
                                    "TypId": "3"
                                },
                                {
                                    "BikeId": "10",
                                    "Bez": "Kinderbike",
                                    "Preis": "999.00",
                                    "fk_TypId": "4",
                                    "fk_MarkeId": "4",
                                    "MarkeId": "5",
                                    "TypId": "3"
                                },
                                {
                                    "BikeId": "1",
                                    "Bez": "Mountainbike",
                                    "Preis": "1399.00",
                                    "fk_TypId": "1",
                                    "fk_MarkeId": "5",
                                    "MarkeId": "1",
                                    "TypId": "4"
                                },
                                {
                                    "BikeId": "2",
                                    "Bez": "Mountainbike",
                                    "Preis": "3899.00",
                                    "fk_TypId": "2",
                                    "fk_MarkeId": "3",
                                    "MarkeId": "1",
                                    "TypId": "4"
                                },
                                {
                                    "BikeId": "3",
                                    "Bez": "Mountainbike",
                                    "Preis": "4599.00",
                                    "fk_TypId": "2",
                                    "fk_MarkeId": "3",
                                    "MarkeId": "1",
                                    "TypId": "4"
                                },
                                {
                                    "BikeId": "4",
                                    "Bez": "Mountainbike",
                                    "Preis": "3199.00",
                                    "fk_TypId": "2",
                                    "fk_MarkeId": "3",
                                    "MarkeId": "1",
                                    "TypId": "4"
                                },
                                {
                                    "BikeId": "5",
                                    "Bez": "Mountainbike",
                                    "Preis": "5399.00",
                                    "fk_TypId": "2",
                                    "fk_MarkeId": "2",
                                    "MarkeId": "1",
                                    "TypId": "4"
                                },
                                {
                                    "BikeId": "6",
                                    "Bez": "Mountainbike",
                                    "Preis": "3999.00",
                                    "fk_TypId": "4",
                                    "fk_MarkeId": "2",
                                    "MarkeId": "1",
                                    "TypId": "4"
                                },
                                {
                                    "BikeId": "7",
                                    "Bez": "Mountainbike",
                                    "Preis": "499.00",
                                    "fk_TypId": "3",
                                    "fk_MarkeId": "1",
                                    "MarkeId": "1",
                                    "TypId": "4"
                                },
                                {
                                    "BikeId": "8",
                                    "Bez": "Mountainbike",
                                    "Preis": "1199.00",
                                    "fk_TypId": "4",
                                    "fk_MarkeId": "1",
                                    "MarkeId": "1",
                                    "TypId": "4"
                                },
                                {
                                    "BikeId": "9",
                                    "Bez": "Mountainbike",
                                    "Preis": "499.00",
                                    "fk_TypId": "1",
                                    "fk_MarkeId": "4",
                                    "MarkeId": "1",
                                    "TypId": "4"
                                },
                                {
                                    "BikeId": "10",
                                    "Bez": "Mountainbike",
                                    "Preis": "999.00",
                                    "fk_TypId": "4",
                                    "fk_MarkeId": "4",
                                    "MarkeId": "1",
                                    "TypId": "4"
                                },
                                {
                                    "BikeId": "1",
                                    "Bez": "Mountainbike",
                                    "Preis": "1399.00",
                                    "fk_TypId": "1",
                                    "fk_MarkeId": "5",
                                    "MarkeId": "2",
                                    "TypId": "4"
                                },
                                {
                                    "BikeId": "2",
                                    "Bez": "Mountainbike",
                                    "Preis": "3899.00",
                                    "fk_TypId": "2",
                                    "fk_MarkeId": "3",
                                    "MarkeId": "2",
                                    "TypId": "4"
                                },
                                {
                                    "BikeId": "3",
                                    "Bez": "Mountainbike",
                                    "Preis": "4599.00",
                                    "fk_TypId": "2",
                                    "fk_MarkeId": "3",
                                    "MarkeId": "2",
                                    "TypId": "4"
                                },
                                {
                                    "BikeId": "4",
                                    "Bez": "Mountainbike",
                                    "Preis": "3199.00",
                                    "fk_TypId": "2",
                                    "fk_MarkeId": "3",
                                    "MarkeId": "2",
                                    "TypId": "4"
                                },
                                {
                                    "BikeId": "5",
                                    "Bez": "Mountainbike",
                                    "Preis": "5399.00",
                                    "fk_TypId": "2",
                                    "fk_MarkeId": "2",
                                    "MarkeId": "2",
                                    "TypId": "4"
                                },
                                {
                                    "BikeId": "6",
                                    "Bez": "Mountainbike",
                                    "Preis": "3999.00",
                                    "fk_TypId": "4",
                                    "fk_MarkeId": "2",
                                    "MarkeId": "2",
                                    "TypId": "4"
                                },
                                {
                                    "BikeId": "7",
                                    "Bez": "Mountainbike",
                                    "Preis": "499.00",
                                    "fk_TypId": "3",
                                    "fk_MarkeId": "1",
                                    "MarkeId": "2",
                                    "TypId": "4"
                                },
                                {
                                    "BikeId": "8",
                                    "Bez": "Mountainbike",
                                    "Preis": "1199.00",
                                    "fk_TypId": "4",
                                    "fk_MarkeId": "1",
                                    "MarkeId": "2",
                                    "TypId": "4"
                                },
                                {
                                    "BikeId": "9",
                                    "Bez": "Mountainbike",
                                    "Preis": "499.00",
                                    "fk_TypId": "1",
                                    "fk_MarkeId": "4",
                                    "MarkeId": "2",
                                    "TypId": "4"
                                },
                                {
                                    "BikeId": "10",
                                    "Bez": "Mountainbike",
                                    "Preis": "999.00",
                                    "fk_TypId": "4",
                                    "fk_MarkeId": "4",
                                    "MarkeId": "2",
                                    "TypId": "4"
                                },
                                {
                                    "BikeId": "1",
                                    "Bez": "Mountainbike",
                                    "Preis": "1399.00",
                                    "fk_TypId": "1",
                                    "fk_MarkeId": "5",
                                    "MarkeId": "3",
                                    "TypId": "4"
                                },
                                {
                                    "BikeId": "2",
                                    "Bez": "Mountainbike",
                                    "Preis": "3899.00",
                                    "fk_TypId": "2",
                                    "fk_MarkeId": "3",
                                    "MarkeId": "3",
                                    "TypId": "4"
                                },
                                {
                                    "BikeId": "3",
                                    "Bez": "Mountainbike",
                                    "Preis": "4599.00",
                                    "fk_TypId": "2",
                                    "fk_MarkeId": "3",
                                    "MarkeId": "3",
                                    "TypId": "4"
                                },
                                {
                                    "BikeId": "4",
                                    "Bez": "Mountainbike",
                                    "Preis": "3199.00",
                                    "fk_TypId": "2",
                                    "fk_MarkeId": "3",
                                    "MarkeId": "3",
                                    "TypId": "4"
                                },
                                {
                                    "BikeId": "5",
                                    "Bez": "Mountainbike",
                                    "Preis": "5399.00",
                                    "fk_TypId": "2",
                                    "fk_MarkeId": "2",
                                    "MarkeId": "3",
                                    "TypId": "4"
                                },
                                {
                                    "BikeId": "6",
                                    "Bez": "Mountainbike",
                                    "Preis": "3999.00",
                                    "fk_TypId": "4",
                                    "fk_MarkeId": "2",
                                    "MarkeId": "3",
                                    "TypId": "4"
                                },
                                {
                                    "BikeId": "7",
                                    "Bez": "Mountainbike",
                                    "Preis": "499.00",
                                    "fk_TypId": "3",
                                    "fk_MarkeId": "1",
                                    "MarkeId": "3",
                                    "TypId": "4"
                                },
                                {
                                    "BikeId": "8",
                                    "Bez": "Mountainbike",
                                    "Preis": "1199.00",
                                    "fk_TypId": "4",
                                    "fk_MarkeId": "1",
                                    "MarkeId": "3",
                                    "TypId": "4"
                                },
                                {
                                    "BikeId": "9",
                                    "Bez": "Mountainbike",
                                    "Preis": "499.00",
                                    "fk_TypId": "1",
                                    "fk_MarkeId": "4",
                                    "MarkeId": "3",
                                    "TypId": "4"
                                },
                                {
                                    "BikeId": "10",
                                    "Bez": "Mountainbike",
                                    "Preis": "999.00",
                                    "fk_TypId": "4",
                                    "fk_MarkeId": "4",
                                    "MarkeId": "3",
                                    "TypId": "4"
                                },
                                {
                                    "BikeId": "1",
                                    "Bez": "Mountainbike",
                                    "Preis": "1399.00",
                                    "fk_TypId": "1",
                                    "fk_MarkeId": "5",
                                    "MarkeId": "4",
                                    "TypId": "4"
                                },
                                {
                                    "BikeId": "2",
                                    "Bez": "Mountainbike",
                                    "Preis": "3899.00",
                                    "fk_TypId": "2",
                                    "fk_MarkeId": "3",
                                    "MarkeId": "4",
                                    "TypId": "4"
                                },
                                {
                                    "BikeId": "3",
                                    "Bez": "Mountainbike",
                                    "Preis": "4599.00",
                                    "fk_TypId": "2",
                                    "fk_MarkeId": "3",
                                    "MarkeId": "4",
                                    "TypId": "4"
                                },
                                {
                                    "BikeId": "4",
                                    "Bez": "Mountainbike",
                                    "Preis": "3199.00",
                                    "fk_TypId": "2",
                                    "fk_MarkeId": "3",
                                    "MarkeId": "4",
                                    "TypId": "4"
                                },
                                {
                                    "BikeId": "5",
                                    "Bez": "Mountainbike",
                                    "Preis": "5399.00",
                                    "fk_TypId": "2",
                                    "fk_MarkeId": "2",
                                    "MarkeId": "4",
                                    "TypId": "4"
                                },
                                {
                                    "BikeId": "6",
                                    "Bez": "Mountainbike",
                                    "Preis": "3999.00",
                                    "fk_TypId": "4",
                                    "fk_MarkeId": "2",
                                    "MarkeId": "4",
                                    "TypId": "4"
                                },
                                {
                                    "BikeId": "7",
                                    "Bez": "Mountainbike",
                                    "Preis": "499.00",
                                    "fk_TypId": "3",
                                    "fk_MarkeId": "1",
                                    "MarkeId": "4",
                                    "TypId": "4"
                                },
                                {
                                    "BikeId": "8",
                                    "Bez": "Mountainbike",
                                    "Preis": "1199.00",
                                    "fk_TypId": "4",
                                    "fk_MarkeId": "1",
                                    "MarkeId": "4",
                                    "TypId": "4"
                                },
                                {
                                    "BikeId": "9",
                                    "Bez": "Mountainbike",
                                    "Preis": "499.00",
                                    "fk_TypId": "1",
                                    "fk_MarkeId": "4",
                                    "MarkeId": "4",
                                    "TypId": "4"
                                },
                                {
                                    "BikeId": "10",
                                    "Bez": "Mountainbike",
                                    "Preis": "999.00",
                                    "fk_TypId": "4",
                                    "fk_MarkeId": "4",
                                    "MarkeId": "4",
                                    "TypId": "4"
                                },
                                {
                                    "BikeId": "1",
                                    "Bez": "Mountainbike",
                                    "Preis": "1399.00",
                                    "fk_TypId": "1",
                                    "fk_MarkeId": "5",
                                    "MarkeId": "5",
                                    "TypId": "4"
                                },
                                {
                                    "BikeId": "2",
                                    "Bez": "Mountainbike",
                                    "Preis": "3899.00",
                                    "fk_TypId": "2",
                                    "fk_MarkeId": "3",
                                    "MarkeId": "5",
                                    "TypId": "4"
                                },
                                {
                                    "BikeId": "3",
                                    "Bez": "Mountainbike",
                                    "Preis": "4599.00",
                                    "fk_TypId": "2",
                                    "fk_MarkeId": "3",
                                    "MarkeId": "5",
                                    "TypId": "4"
                                },
                                {
                                    "BikeId": "4",
                                    "Bez": "Mountainbike",
                                    "Preis": "3199.00",
                                    "fk_TypId": "2",
                                    "fk_MarkeId": "3",
                                    "MarkeId": "5",
                                    "TypId": "4"
                                },
                                {
                                    "BikeId": "5",
                                    "Bez": "Mountainbike",
                                    "Preis": "5399.00",
                                    "fk_TypId": "2",
                                    "fk_MarkeId": "2",
                                    "MarkeId": "5",
                                    "TypId": "4"
                                },
                                {
                                    "BikeId": "6",
                                    "Bez": "Mountainbike",
                                    "Preis": "3999.00",
                                    "fk_TypId": "4",
                                    "fk_MarkeId": "2",
                                    "MarkeId": "5",
                                    "TypId": "4"
                                },
                                {
                                    "BikeId": "7",
                                    "Bez": "Mountainbike",
                                    "Preis": "499.00",
                                    "fk_TypId": "3",
                                    "fk_MarkeId": "1",
                                    "MarkeId": "5",
                                    "TypId": "4"
                                },
                                {
                                    "BikeId": "8",
                                    "Bez": "Mountainbike",
                                    "Preis": "1199.00",
                                    "fk_TypId": "4",
                                    "fk_MarkeId": "1",
                                    "MarkeId": "5",
                                    "TypId": "4"
                                },
                                {
                                    "BikeId": "9",
                                    "Bez": "Mountainbike",
                                    "Preis": "499.00",
                                    "fk_TypId": "1",
                                    "fk_MarkeId": "4",
                                    "MarkeId": "5",
                                    "TypId": "4"
                                },
                                {
                                    "BikeId": "10",
                                    "Bez": "Mountainbike",
                                    "Preis": "999.00",
                                    "fk_TypId": "4",
                                    "fk_MarkeId": "4",
                                    "MarkeId": "5",
                                    "TypId": "4"
                                },
                                {
                                    "BikeId": "1",
                                    "Bez": "Rennvelo",
                                    "Preis": "1399.00",
                                    "fk_TypId": "1",
                                    "fk_MarkeId": "5",
                                    "MarkeId": "1",
                                    "TypId": "5"
                                },
                                {
                                    "BikeId": "2",
                                    "Bez": "Rennvelo",
                                    "Preis": "3899.00",
                                    "fk_TypId": "2",
                                    "fk_MarkeId": "3",
                                    "MarkeId": "1",
                                    "TypId": "5"
                                },
                                {
                                    "BikeId": "3",
                                    "Bez": "Rennvelo",
                                    "Preis": "4599.00",
                                    "fk_TypId": "2",
                                    "fk_MarkeId": "3",
                                    "MarkeId": "1",
                                    "TypId": "5"
                                },
                                {
                                    "BikeId": "4",
                                    "Bez": "Rennvelo",
                                    "Preis": "3199.00",
                                    "fk_TypId": "2",
                                    "fk_MarkeId": "3",
                                    "MarkeId": "1",
                                    "TypId": "5"
                                },
                                {
                                    "BikeId": "5",
                                    "Bez": "Rennvelo",
                                    "Preis": "5399.00",
                                    "fk_TypId": "2",
                                    "fk_MarkeId": "2",
                                    "MarkeId": "1",
                                    "TypId": "5"
                                },
                                {
                                    "BikeId": "6",
                                    "Bez": "Rennvelo",
                                    "Preis": "3999.00",
                                    "fk_TypId": "4",
                                    "fk_MarkeId": "2",
                                    "MarkeId": "1",
                                    "TypId": "5"
                                },
                                {
                                    "BikeId": "7",
                                    "Bez": "Rennvelo",
                                    "Preis": "499.00",
                                    "fk_TypId": "3",
                                    "fk_MarkeId": "1",
                                    "MarkeId": "1",
                                    "TypId": "5"
                                },
                                {
                                    "BikeId": "8",
                                    "Bez": "Rennvelo",
                                    "Preis": "1199.00",
                                    "fk_TypId": "4",
                                    "fk_MarkeId": "1",
                                    "MarkeId": "1",
                                    "TypId": "5"
                                },
                                {
                                    "BikeId": "9",
                                    "Bez": "Rennvelo",
                                    "Preis": "499.00",
                                    "fk_TypId": "1",
                                    "fk_MarkeId": "4",
                                    "MarkeId": "1",
                                    "TypId": "5"
                                },
                                {
                                    "BikeId": "10",
                                    "Bez": "Rennvelo",
                                    "Preis": "999.00",
                                    "fk_TypId": "4",
                                    "fk_MarkeId": "4",
                                    "MarkeId": "1",
                                    "TypId": "5"
                                },
                                {
                                    "BikeId": "1",
                                    "Bez": "Rennvelo",
                                    "Preis": "1399.00",
                                    "fk_TypId": "1",
                                    "fk_MarkeId": "5",
                                    "MarkeId": "2",
                                    "TypId": "5"
                                },
                                {
                                    "BikeId": "2",
                                    "Bez": "Rennvelo",
                                    "Preis": "3899.00",
                                    "fk_TypId": "2",
                                    "fk_MarkeId": "3",
                                    "MarkeId": "2",
                                    "TypId": "5"
                                },
                                {
                                    "BikeId": "3",
                                    "Bez": "Rennvelo",
                                    "Preis": "4599.00",
                                    "fk_TypId": "2",
                                    "fk_MarkeId": "3",
                                    "MarkeId": "2",
                                    "TypId": "5"
                                },
                                {
                                    "BikeId": "4",
                                    "Bez": "Rennvelo",
                                    "Preis": "3199.00",
                                    "fk_TypId": "2",
                                    "fk_MarkeId": "3",
                                    "MarkeId": "2",
                                    "TypId": "5"
                                },
                                {
                                    "BikeId": "5",
                                    "Bez": "Rennvelo",
                                    "Preis": "5399.00",
                                    "fk_TypId": "2",
                                    "fk_MarkeId": "2",
                                    "MarkeId": "2",
                                    "TypId": "5"
                                },
                                {
                                    "BikeId": "6",
                                    "Bez": "Rennvelo",
                                    "Preis": "3999.00",
                                    "fk_TypId": "4",
                                    "fk_MarkeId": "2",
                                    "MarkeId": "2",
                                    "TypId": "5"
                                },
                                {
                                    "BikeId": "7",
                                    "Bez": "Rennvelo",
                                    "Preis": "499.00",
                                    "fk_TypId": "3",
                                    "fk_MarkeId": "1",
                                    "MarkeId": "2",
                                    "TypId": "5"
                                },
                                {
                                    "BikeId": "8",
                                    "Bez": "Rennvelo",
                                    "Preis": "1199.00",
                                    "fk_TypId": "4",
                                    "fk_MarkeId": "1",
                                    "MarkeId": "2",
                                    "TypId": "5"
                                },
                                {
                                    "BikeId": "9",
                                    "Bez": "Rennvelo",
                                    "Preis": "499.00",
                                    "fk_TypId": "1",
                                    "fk_MarkeId": "4",
                                    "MarkeId": "2",
                                    "TypId": "5"
                                },
                                {
                                    "BikeId": "10",
                                    "Bez": "Rennvelo",
                                    "Preis": "999.00",
                                    "fk_TypId": "4",
                                    "fk_MarkeId": "4",
                                    "MarkeId": "2",
                                    "TypId": "5"
                                },
                                {
                                    "BikeId": "1",
                                    "Bez": "Rennvelo",
                                    "Preis": "1399.00",
                                    "fk_TypId": "1",
                                    "fk_MarkeId": "5",
                                    "MarkeId": "3",
                                    "TypId": "5"
                                },
                                {
                                    "BikeId": "2",
                                    "Bez": "Rennvelo",
                                    "Preis": "3899.00",
                                    "fk_TypId": "2",
                                    "fk_MarkeId": "3",
                                    "MarkeId": "3",
                                    "TypId": "5"
                                },
                                {
                                    "BikeId": "3",
                                    "Bez": "Rennvelo",
                                    "Preis": "4599.00",
                                    "fk_TypId": "2",
                                    "fk_MarkeId": "3",
                                    "MarkeId": "3",
                                    "TypId": "5"
                                },
                                {
                                    "BikeId": "4",
                                    "Bez": "Rennvelo",
                                    "Preis": "3199.00",
                                    "fk_TypId": "2",
                                    "fk_MarkeId": "3",
                                    "MarkeId": "3",
                                    "TypId": "5"
                                },
                                {
                                    "BikeId": "5",
                                    "Bez": "Rennvelo",
                                    "Preis": "5399.00",
                                    "fk_TypId": "2",
                                    "fk_MarkeId": "2",
                                    "MarkeId": "3",
                                    "TypId": "5"
                                },
                                {
                                    "BikeId": "6",
                                    "Bez": "Rennvelo",
                                    "Preis": "3999.00",
                                    "fk_TypId": "4",
                                    "fk_MarkeId": "2",
                                    "MarkeId": "3",
                                    "TypId": "5"
                                },
                                {
                                    "BikeId": "7",
                                    "Bez": "Rennvelo",
                                    "Preis": "499.00",
                                    "fk_TypId": "3",
                                    "fk_MarkeId": "1",
                                    "MarkeId": "3",
                                    "TypId": "5"
                                },
                                {
                                    "BikeId": "8",
                                    "Bez": "Rennvelo",
                                    "Preis": "1199.00",
                                    "fk_TypId": "4",
                                    "fk_MarkeId": "1",
                                    "MarkeId": "3",
                                    "TypId": "5"
                                },
                                {
                                    "BikeId": "9",
                                    "Bez": "Rennvelo",
                                    "Preis": "499.00",
                                    "fk_TypId": "1",
                                    "fk_MarkeId": "4",
                                    "MarkeId": "3",
                                    "TypId": "5"
                                },
                                {
                                    "BikeId": "10",
                                    "Bez": "Rennvelo",
                                    "Preis": "999.00",
                                    "fk_TypId": "4",
                                    "fk_MarkeId": "4",
                                    "MarkeId": "3",
                                    "TypId": "5"
                                },
                                {
                                    "BikeId": "1",
                                    "Bez": "Rennvelo",
                                    "Preis": "1399.00",
                                    "fk_TypId": "1",
                                    "fk_MarkeId": "5",
                                    "MarkeId": "4",
                                    "TypId": "5"
                                },
                                {
                                    "BikeId": "2",
                                    "Bez": "Rennvelo",
                                    "Preis": "3899.00",
                                    "fk_TypId": "2",
                                    "fk_MarkeId": "3",
                                    "MarkeId": "4",
                                    "TypId": "5"
                                },
                                {
                                    "BikeId": "3",
                                    "Bez": "Rennvelo",
                                    "Preis": "4599.00",
                                    "fk_TypId": "2",
                                    "fk_MarkeId": "3",
                                    "MarkeId": "4",
                                    "TypId": "5"
                                },
                                {
                                    "BikeId": "4",
                                    "Bez": "Rennvelo",
                                    "Preis": "3199.00",
                                    "fk_TypId": "2",
                                    "fk_MarkeId": "3",
                                    "MarkeId": "4",
                                    "TypId": "5"
                                },
                                {
                                    "BikeId": "5",
                                    "Bez": "Rennvelo",
                                    "Preis": "5399.00",
                                    "fk_TypId": "2",
                                    "fk_MarkeId": "2",
                                    "MarkeId": "4",
                                    "TypId": "5"
                                },
                                {
                                    "BikeId": "6",
                                    "Bez": "Rennvelo",
                                    "Preis": "3999.00",
                                    "fk_TypId": "4",
                                    "fk_MarkeId": "2",
                                    "MarkeId": "4",
                                    "TypId": "5"
                                },
                                {
                                    "BikeId": "7",
                                    "Bez": "Rennvelo",
                                    "Preis": "499.00",
                                    "fk_TypId": "3",
                                    "fk_MarkeId": "1",
                                    "MarkeId": "4",
                                    "TypId": "5"
                                },
                                {
                                    "BikeId": "8",
                                    "Bez": "Rennvelo",
                                    "Preis": "1199.00",
                                    "fk_TypId": "4",
                                    "fk_MarkeId": "1",
                                    "MarkeId": "4",
                                    "TypId": "5"
                                },
                                {
                                    "BikeId": "9",
                                    "Bez": "Rennvelo",
                                    "Preis": "499.00",
                                    "fk_TypId": "1",
                                    "fk_MarkeId": "4",
                                    "MarkeId": "4",
                                    "TypId": "5"
                                },
                                {
                                    "BikeId": "10",
                                    "Bez": "Rennvelo",
                                    "Preis": "999.00",
                                    "fk_TypId": "4",
                                    "fk_MarkeId": "4",
                                    "MarkeId": "4",
                                    "TypId": "5"
                                },
                                {
                                    "BikeId": "1",
                                    "Bez": "Rennvelo",
                                    "Preis": "1399.00",
                                    "fk_TypId": "1",
                                    "fk_MarkeId": "5",
                                    "MarkeId": "5",
                                    "TypId": "5"
                                },
                                {
                                    "BikeId": "2",
                                    "Bez": "Rennvelo",
                                    "Preis": "3899.00",
                                    "fk_TypId": "2",
                                    "fk_MarkeId": "3",
                                    "MarkeId": "5",
                                    "TypId": "5"
                                },
                                {
                                    "BikeId": "3",
                                    "Bez": "Rennvelo",
                                    "Preis": "4599.00",
                                    "fk_TypId": "2",
                                    "fk_MarkeId": "3",
                                    "MarkeId": "5",
                                    "TypId": "5"
                                },
                                {
                                    "BikeId": "4",
                                    "Bez": "Rennvelo",
                                    "Preis": "3199.00",
                                    "fk_TypId": "2",
                                    "fk_MarkeId": "3",
                                    "MarkeId": "5",
                                    "TypId": "5"
                                },
                                {
                                    "BikeId": "5",
                                    "Bez": "Rennvelo",
                                    "Preis": "5399.00",
                                    "fk_TypId": "2",
                                    "fk_MarkeId": "2",
                                    "MarkeId": "5",
                                    "TypId": "5"
                                },
                                {
                                    "BikeId": "6",
                                    "Bez": "Rennvelo",
                                    "Preis": "3999.00",
                                    "fk_TypId": "4",
                                    "fk_MarkeId": "2",
                                    "MarkeId": "5",
                                    "TypId": "5"
                                },
                                {
                                    "BikeId": "7",
                                    "Bez": "Rennvelo",
                                    "Preis": "499.00",
                                    "fk_TypId": "3",
                                    "fk_MarkeId": "1",
                                    "MarkeId": "5",
                                    "TypId": "5"
                                },
                                {
                                    "BikeId": "8",
                                    "Bez": "Rennvelo",
                                    "Preis": "1199.00",
                                    "fk_TypId": "4",
                                    "fk_MarkeId": "1",
                                    "MarkeId": "5",
                                    "TypId": "5"
                                },
                                {
                                    "BikeId": "9",
                                    "Bez": "Rennvelo",
                                    "Preis": "499.00",
                                    "fk_TypId": "1",
                                    "fk_MarkeId": "4",
                                    "MarkeId": "5",
                                    "TypId": "5"
                                },
                                {
                                    "BikeId": "10",
                                    "Bez": "Rennvelo",
                                    "Preis": "999.00",
                                    "fk_TypId": "4",
                                    "fk_MarkeId": "4",
                                    "MarkeId": "5",
                                    "TypId": "5"
                                }
                            ]
                        },
                        "text/html": [
                            "<table>",
                            "<tr><th>BikeId</th><th>Bez</th><th>Preis</th><th>fk_TypId</th><th>fk_MarkeId</th><th>MarkeId</th><th>Bez</th><th>TypId</th><th>Bez</th></tr>",
                            "<tr><td>1</td><td>Travel SL</td><td>1399.00</td><td>1</td><td>5</td><td>1</td><td>Scott</td><td>1</td><td>Citybike</td></tr>",
                            "<tr><td>2</td><td>Upstreet 5</td><td>3899.00</td><td>2</td><td>3</td><td>1</td><td>Scott</td><td>1</td><td>Citybike</td></tr>",
                            "<tr><td>3</td><td>Uproc 3</td><td>4599.00</td><td>2</td><td>3</td><td>1</td><td>Scott</td><td>1</td><td>Citybike</td></tr>",
                            "<tr><td>4</td><td>C 5.1</td><td>3199.00</td><td>2</td><td>3</td><td>1</td><td>Scott</td><td>1</td><td>Citybike</td></tr>",
                            "<tr><td>5</td><td>Powerfly FS 7</td><td>5399.00</td><td>2</td><td>2</td><td>1</td><td>Scott</td><td>1</td><td>Citybike</td></tr>",
                            "<tr><td>6</td><td>Fuel EX 9.8</td><td>3999.00</td><td>4</td><td>2</td><td>1</td><td>Scott</td><td>1</td><td>Citybike</td></tr>",
                            "<tr><td>7</td><td>Scale 24</td><td>499.00</td><td>3</td><td>1</td><td>1</td><td>Scott</td><td>1</td><td>Citybike</td></tr>",
                            "<tr><td>8</td><td>Scale 950</td><td>1199.00</td><td>4</td><td>1</td><td>1</td><td>Scott</td><td>1</td><td>Citybike</td></tr>",
                            "<tr><td>9</td><td>XT EQT 24</td><td>499.00</td><td>1</td><td>4</td><td>1</td><td>Scott</td><td>1</td><td>Citybike</td></tr>",
                            "<tr><td>10</td><td>Protron XT-10</td><td>999.00</td><td>4</td><td>4</td><td>1</td><td>Scott</td><td>1</td><td>Citybike</td></tr>",
                            "<tr><td>1</td><td>Travel SL</td><td>1399.00</td><td>1</td><td>5</td><td>2</td><td>Trek</td><td>1</td><td>Citybike</td></tr>",
                            "<tr><td>2</td><td>Upstreet 5</td><td>3899.00</td><td>2</td><td>3</td><td>2</td><td>Trek</td><td>1</td><td>Citybike</td></tr>",
                            "<tr><td>3</td><td>Uproc 3</td><td>4599.00</td><td>2</td><td>3</td><td>2</td><td>Trek</td><td>1</td><td>Citybike</td></tr>",
                            "<tr><td>4</td><td>C 5.1</td><td>3199.00</td><td>2</td><td>3</td><td>2</td><td>Trek</td><td>1</td><td>Citybike</td></tr>",
                            "<tr><td>5</td><td>Powerfly FS 7</td><td>5399.00</td><td>2</td><td>2</td><td>2</td><td>Trek</td><td>1</td><td>Citybike</td></tr>",
                            "<tr><td>6</td><td>Fuel EX 9.8</td><td>3999.00</td><td>4</td><td>2</td><td>2</td><td>Trek</td><td>1</td><td>Citybike</td></tr>",
                            "<tr><td>7</td><td>Scale 24</td><td>499.00</td><td>3</td><td>1</td><td>2</td><td>Trek</td><td>1</td><td>Citybike</td></tr>",
                            "<tr><td>8</td><td>Scale 950</td><td>1199.00</td><td>4</td><td>1</td><td>2</td><td>Trek</td><td>1</td><td>Citybike</td></tr>",
                            "<tr><td>9</td><td>XT EQT 24</td><td>499.00</td><td>1</td><td>4</td><td>2</td><td>Trek</td><td>1</td><td>Citybike</td></tr>",
                            "<tr><td>10</td><td>Protron XT-10</td><td>999.00</td><td>4</td><td>4</td><td>2</td><td>Trek</td><td>1</td><td>Citybike</td></tr>",
                            "<tr><td>1</td><td>Travel SL</td><td>1399.00</td><td>1</td><td>5</td><td>3</td><td>Flyer</td><td>1</td><td>Citybike</td></tr>",
                            "<tr><td>2</td><td>Upstreet 5</td><td>3899.00</td><td>2</td><td>3</td><td>3</td><td>Flyer</td><td>1</td><td>Citybike</td></tr>",
                            "<tr><td>3</td><td>Uproc 3</td><td>4599.00</td><td>2</td><td>3</td><td>3</td><td>Flyer</td><td>1</td><td>Citybike</td></tr>",
                            "<tr><td>4</td><td>C 5.1</td><td>3199.00</td><td>2</td><td>3</td><td>3</td><td>Flyer</td><td>1</td><td>Citybike</td></tr>",
                            "<tr><td>5</td><td>Powerfly FS 7</td><td>5399.00</td><td>2</td><td>2</td><td>3</td><td>Flyer</td><td>1</td><td>Citybike</td></tr>",
                            "<tr><td>6</td><td>Fuel EX 9.8</td><td>3999.00</td><td>4</td><td>2</td><td>3</td><td>Flyer</td><td>1</td><td>Citybike</td></tr>",
                            "<tr><td>7</td><td>Scale 24</td><td>499.00</td><td>3</td><td>1</td><td>3</td><td>Flyer</td><td>1</td><td>Citybike</td></tr>",
                            "<tr><td>8</td><td>Scale 950</td><td>1199.00</td><td>4</td><td>1</td><td>3</td><td>Flyer</td><td>1</td><td>Citybike</td></tr>",
                            "<tr><td>9</td><td>XT EQT 24</td><td>499.00</td><td>1</td><td>4</td><td>3</td><td>Flyer</td><td>1</td><td>Citybike</td></tr>",
                            "<tr><td>10</td><td>Protron XT-10</td><td>999.00</td><td>4</td><td>4</td><td>3</td><td>Flyer</td><td>1</td><td>Citybike</td></tr>",
                            "<tr><td>1</td><td>Travel SL</td><td>1399.00</td><td>1</td><td>5</td><td>4</td><td>Wheeler</td><td>1</td><td>Citybike</td></tr>",
                            "<tr><td>2</td><td>Upstreet 5</td><td>3899.00</td><td>2</td><td>3</td><td>4</td><td>Wheeler</td><td>1</td><td>Citybike</td></tr>",
                            "<tr><td>3</td><td>Uproc 3</td><td>4599.00</td><td>2</td><td>3</td><td>4</td><td>Wheeler</td><td>1</td><td>Citybike</td></tr>",
                            "<tr><td>4</td><td>C 5.1</td><td>3199.00</td><td>2</td><td>3</td><td>4</td><td>Wheeler</td><td>1</td><td>Citybike</td></tr>",
                            "<tr><td>5</td><td>Powerfly FS 7</td><td>5399.00</td><td>2</td><td>2</td><td>4</td><td>Wheeler</td><td>1</td><td>Citybike</td></tr>",
                            "<tr><td>6</td><td>Fuel EX 9.8</td><td>3999.00</td><td>4</td><td>2</td><td>4</td><td>Wheeler</td><td>1</td><td>Citybike</td></tr>",
                            "<tr><td>7</td><td>Scale 24</td><td>499.00</td><td>3</td><td>1</td><td>4</td><td>Wheeler</td><td>1</td><td>Citybike</td></tr>",
                            "<tr><td>8</td><td>Scale 950</td><td>1199.00</td><td>4</td><td>1</td><td>4</td><td>Wheeler</td><td>1</td><td>Citybike</td></tr>",
                            "<tr><td>9</td><td>XT EQT 24</td><td>499.00</td><td>1</td><td>4</td><td>4</td><td>Wheeler</td><td>1</td><td>Citybike</td></tr>",
                            "<tr><td>10</td><td>Protron XT-10</td><td>999.00</td><td>4</td><td>4</td><td>4</td><td>Wheeler</td><td>1</td><td>Citybike</td></tr>",
                            "<tr><td>1</td><td>Travel SL</td><td>1399.00</td><td>1</td><td>5</td><td>5</td><td>Cube</td><td>1</td><td>Citybike</td></tr>",
                            "<tr><td>2</td><td>Upstreet 5</td><td>3899.00</td><td>2</td><td>3</td><td>5</td><td>Cube</td><td>1</td><td>Citybike</td></tr>",
                            "<tr><td>3</td><td>Uproc 3</td><td>4599.00</td><td>2</td><td>3</td><td>5</td><td>Cube</td><td>1</td><td>Citybike</td></tr>",
                            "<tr><td>4</td><td>C 5.1</td><td>3199.00</td><td>2</td><td>3</td><td>5</td><td>Cube</td><td>1</td><td>Citybike</td></tr>",
                            "<tr><td>5</td><td>Powerfly FS 7</td><td>5399.00</td><td>2</td><td>2</td><td>5</td><td>Cube</td><td>1</td><td>Citybike</td></tr>",
                            "<tr><td>6</td><td>Fuel EX 9.8</td><td>3999.00</td><td>4</td><td>2</td><td>5</td><td>Cube</td><td>1</td><td>Citybike</td></tr>",
                            "<tr><td>7</td><td>Scale 24</td><td>499.00</td><td>3</td><td>1</td><td>5</td><td>Cube</td><td>1</td><td>Citybike</td></tr>",
                            "<tr><td>8</td><td>Scale 950</td><td>1199.00</td><td>4</td><td>1</td><td>5</td><td>Cube</td><td>1</td><td>Citybike</td></tr>",
                            "<tr><td>9</td><td>XT EQT 24</td><td>499.00</td><td>1</td><td>4</td><td>5</td><td>Cube</td><td>1</td><td>Citybike</td></tr>",
                            "<tr><td>10</td><td>Protron XT-10</td><td>999.00</td><td>4</td><td>4</td><td>5</td><td>Cube</td><td>1</td><td>Citybike</td></tr>",
                            "<tr><td>1</td><td>Travel SL</td><td>1399.00</td><td>1</td><td>5</td><td>1</td><td>Scott</td><td>2</td><td>E-Bike</td></tr>",
                            "<tr><td>2</td><td>Upstreet 5</td><td>3899.00</td><td>2</td><td>3</td><td>1</td><td>Scott</td><td>2</td><td>E-Bike</td></tr>",
                            "<tr><td>3</td><td>Uproc 3</td><td>4599.00</td><td>2</td><td>3</td><td>1</td><td>Scott</td><td>2</td><td>E-Bike</td></tr>",
                            "<tr><td>4</td><td>C 5.1</td><td>3199.00</td><td>2</td><td>3</td><td>1</td><td>Scott</td><td>2</td><td>E-Bike</td></tr>",
                            "<tr><td>5</td><td>Powerfly FS 7</td><td>5399.00</td><td>2</td><td>2</td><td>1</td><td>Scott</td><td>2</td><td>E-Bike</td></tr>",
                            "<tr><td>6</td><td>Fuel EX 9.8</td><td>3999.00</td><td>4</td><td>2</td><td>1</td><td>Scott</td><td>2</td><td>E-Bike</td></tr>",
                            "<tr><td>7</td><td>Scale 24</td><td>499.00</td><td>3</td><td>1</td><td>1</td><td>Scott</td><td>2</td><td>E-Bike</td></tr>",
                            "<tr><td>8</td><td>Scale 950</td><td>1199.00</td><td>4</td><td>1</td><td>1</td><td>Scott</td><td>2</td><td>E-Bike</td></tr>",
                            "<tr><td>9</td><td>XT EQT 24</td><td>499.00</td><td>1</td><td>4</td><td>1</td><td>Scott</td><td>2</td><td>E-Bike</td></tr>",
                            "<tr><td>10</td><td>Protron XT-10</td><td>999.00</td><td>4</td><td>4</td><td>1</td><td>Scott</td><td>2</td><td>E-Bike</td></tr>",
                            "<tr><td>1</td><td>Travel SL</td><td>1399.00</td><td>1</td><td>5</td><td>2</td><td>Trek</td><td>2</td><td>E-Bike</td></tr>",
                            "<tr><td>2</td><td>Upstreet 5</td><td>3899.00</td><td>2</td><td>3</td><td>2</td><td>Trek</td><td>2</td><td>E-Bike</td></tr>",
                            "<tr><td>3</td><td>Uproc 3</td><td>4599.00</td><td>2</td><td>3</td><td>2</td><td>Trek</td><td>2</td><td>E-Bike</td></tr>",
                            "<tr><td>4</td><td>C 5.1</td><td>3199.00</td><td>2</td><td>3</td><td>2</td><td>Trek</td><td>2</td><td>E-Bike</td></tr>",
                            "<tr><td>5</td><td>Powerfly FS 7</td><td>5399.00</td><td>2</td><td>2</td><td>2</td><td>Trek</td><td>2</td><td>E-Bike</td></tr>",
                            "<tr><td>6</td><td>Fuel EX 9.8</td><td>3999.00</td><td>4</td><td>2</td><td>2</td><td>Trek</td><td>2</td><td>E-Bike</td></tr>",
                            "<tr><td>7</td><td>Scale 24</td><td>499.00</td><td>3</td><td>1</td><td>2</td><td>Trek</td><td>2</td><td>E-Bike</td></tr>",
                            "<tr><td>8</td><td>Scale 950</td><td>1199.00</td><td>4</td><td>1</td><td>2</td><td>Trek</td><td>2</td><td>E-Bike</td></tr>",
                            "<tr><td>9</td><td>XT EQT 24</td><td>499.00</td><td>1</td><td>4</td><td>2</td><td>Trek</td><td>2</td><td>E-Bike</td></tr>",
                            "<tr><td>10</td><td>Protron XT-10</td><td>999.00</td><td>4</td><td>4</td><td>2</td><td>Trek</td><td>2</td><td>E-Bike</td></tr>",
                            "<tr><td>1</td><td>Travel SL</td><td>1399.00</td><td>1</td><td>5</td><td>3</td><td>Flyer</td><td>2</td><td>E-Bike</td></tr>",
                            "<tr><td>2</td><td>Upstreet 5</td><td>3899.00</td><td>2</td><td>3</td><td>3</td><td>Flyer</td><td>2</td><td>E-Bike</td></tr>",
                            "<tr><td>3</td><td>Uproc 3</td><td>4599.00</td><td>2</td><td>3</td><td>3</td><td>Flyer</td><td>2</td><td>E-Bike</td></tr>",
                            "<tr><td>4</td><td>C 5.1</td><td>3199.00</td><td>2</td><td>3</td><td>3</td><td>Flyer</td><td>2</td><td>E-Bike</td></tr>",
                            "<tr><td>5</td><td>Powerfly FS 7</td><td>5399.00</td><td>2</td><td>2</td><td>3</td><td>Flyer</td><td>2</td><td>E-Bike</td></tr>",
                            "<tr><td>6</td><td>Fuel EX 9.8</td><td>3999.00</td><td>4</td><td>2</td><td>3</td><td>Flyer</td><td>2</td><td>E-Bike</td></tr>",
                            "<tr><td>7</td><td>Scale 24</td><td>499.00</td><td>3</td><td>1</td><td>3</td><td>Flyer</td><td>2</td><td>E-Bike</td></tr>",
                            "<tr><td>8</td><td>Scale 950</td><td>1199.00</td><td>4</td><td>1</td><td>3</td><td>Flyer</td><td>2</td><td>E-Bike</td></tr>",
                            "<tr><td>9</td><td>XT EQT 24</td><td>499.00</td><td>1</td><td>4</td><td>3</td><td>Flyer</td><td>2</td><td>E-Bike</td></tr>",
                            "<tr><td>10</td><td>Protron XT-10</td><td>999.00</td><td>4</td><td>4</td><td>3</td><td>Flyer</td><td>2</td><td>E-Bike</td></tr>",
                            "<tr><td>1</td><td>Travel SL</td><td>1399.00</td><td>1</td><td>5</td><td>4</td><td>Wheeler</td><td>2</td><td>E-Bike</td></tr>",
                            "<tr><td>2</td><td>Upstreet 5</td><td>3899.00</td><td>2</td><td>3</td><td>4</td><td>Wheeler</td><td>2</td><td>E-Bike</td></tr>",
                            "<tr><td>3</td><td>Uproc 3</td><td>4599.00</td><td>2</td><td>3</td><td>4</td><td>Wheeler</td><td>2</td><td>E-Bike</td></tr>",
                            "<tr><td>4</td><td>C 5.1</td><td>3199.00</td><td>2</td><td>3</td><td>4</td><td>Wheeler</td><td>2</td><td>E-Bike</td></tr>",
                            "<tr><td>5</td><td>Powerfly FS 7</td><td>5399.00</td><td>2</td><td>2</td><td>4</td><td>Wheeler</td><td>2</td><td>E-Bike</td></tr>",
                            "<tr><td>6</td><td>Fuel EX 9.8</td><td>3999.00</td><td>4</td><td>2</td><td>4</td><td>Wheeler</td><td>2</td><td>E-Bike</td></tr>",
                            "<tr><td>7</td><td>Scale 24</td><td>499.00</td><td>3</td><td>1</td><td>4</td><td>Wheeler</td><td>2</td><td>E-Bike</td></tr>",
                            "<tr><td>8</td><td>Scale 950</td><td>1199.00</td><td>4</td><td>1</td><td>4</td><td>Wheeler</td><td>2</td><td>E-Bike</td></tr>",
                            "<tr><td>9</td><td>XT EQT 24</td><td>499.00</td><td>1</td><td>4</td><td>4</td><td>Wheeler</td><td>2</td><td>E-Bike</td></tr>",
                            "<tr><td>10</td><td>Protron XT-10</td><td>999.00</td><td>4</td><td>4</td><td>4</td><td>Wheeler</td><td>2</td><td>E-Bike</td></tr>",
                            "<tr><td>1</td><td>Travel SL</td><td>1399.00</td><td>1</td><td>5</td><td>5</td><td>Cube</td><td>2</td><td>E-Bike</td></tr>",
                            "<tr><td>2</td><td>Upstreet 5</td><td>3899.00</td><td>2</td><td>3</td><td>5</td><td>Cube</td><td>2</td><td>E-Bike</td></tr>",
                            "<tr><td>3</td><td>Uproc 3</td><td>4599.00</td><td>2</td><td>3</td><td>5</td><td>Cube</td><td>2</td><td>E-Bike</td></tr>",
                            "<tr><td>4</td><td>C 5.1</td><td>3199.00</td><td>2</td><td>3</td><td>5</td><td>Cube</td><td>2</td><td>E-Bike</td></tr>",
                            "<tr><td>5</td><td>Powerfly FS 7</td><td>5399.00</td><td>2</td><td>2</td><td>5</td><td>Cube</td><td>2</td><td>E-Bike</td></tr>",
                            "<tr><td>6</td><td>Fuel EX 9.8</td><td>3999.00</td><td>4</td><td>2</td><td>5</td><td>Cube</td><td>2</td><td>E-Bike</td></tr>",
                            "<tr><td>7</td><td>Scale 24</td><td>499.00</td><td>3</td><td>1</td><td>5</td><td>Cube</td><td>2</td><td>E-Bike</td></tr>",
                            "<tr><td>8</td><td>Scale 950</td><td>1199.00</td><td>4</td><td>1</td><td>5</td><td>Cube</td><td>2</td><td>E-Bike</td></tr>",
                            "<tr><td>9</td><td>XT EQT 24</td><td>499.00</td><td>1</td><td>4</td><td>5</td><td>Cube</td><td>2</td><td>E-Bike</td></tr>",
                            "<tr><td>10</td><td>Protron XT-10</td><td>999.00</td><td>4</td><td>4</td><td>5</td><td>Cube</td><td>2</td><td>E-Bike</td></tr>",
                            "<tr><td>1</td><td>Travel SL</td><td>1399.00</td><td>1</td><td>5</td><td>1</td><td>Scott</td><td>3</td><td>Kinderbike</td></tr>",
                            "<tr><td>2</td><td>Upstreet 5</td><td>3899.00</td><td>2</td><td>3</td><td>1</td><td>Scott</td><td>3</td><td>Kinderbike</td></tr>",
                            "<tr><td>3</td><td>Uproc 3</td><td>4599.00</td><td>2</td><td>3</td><td>1</td><td>Scott</td><td>3</td><td>Kinderbike</td></tr>",
                            "<tr><td>4</td><td>C 5.1</td><td>3199.00</td><td>2</td><td>3</td><td>1</td><td>Scott</td><td>3</td><td>Kinderbike</td></tr>",
                            "<tr><td>5</td><td>Powerfly FS 7</td><td>5399.00</td><td>2</td><td>2</td><td>1</td><td>Scott</td><td>3</td><td>Kinderbike</td></tr>",
                            "<tr><td>6</td><td>Fuel EX 9.8</td><td>3999.00</td><td>4</td><td>2</td><td>1</td><td>Scott</td><td>3</td><td>Kinderbike</td></tr>",
                            "<tr><td>7</td><td>Scale 24</td><td>499.00</td><td>3</td><td>1</td><td>1</td><td>Scott</td><td>3</td><td>Kinderbike</td></tr>",
                            "<tr><td>8</td><td>Scale 950</td><td>1199.00</td><td>4</td><td>1</td><td>1</td><td>Scott</td><td>3</td><td>Kinderbike</td></tr>",
                            "<tr><td>9</td><td>XT EQT 24</td><td>499.00</td><td>1</td><td>4</td><td>1</td><td>Scott</td><td>3</td><td>Kinderbike</td></tr>",
                            "<tr><td>10</td><td>Protron XT-10</td><td>999.00</td><td>4</td><td>4</td><td>1</td><td>Scott</td><td>3</td><td>Kinderbike</td></tr>",
                            "<tr><td>1</td><td>Travel SL</td><td>1399.00</td><td>1</td><td>5</td><td>2</td><td>Trek</td><td>3</td><td>Kinderbike</td></tr>",
                            "<tr><td>2</td><td>Upstreet 5</td><td>3899.00</td><td>2</td><td>3</td><td>2</td><td>Trek</td><td>3</td><td>Kinderbike</td></tr>",
                            "<tr><td>3</td><td>Uproc 3</td><td>4599.00</td><td>2</td><td>3</td><td>2</td><td>Trek</td><td>3</td><td>Kinderbike</td></tr>",
                            "<tr><td>4</td><td>C 5.1</td><td>3199.00</td><td>2</td><td>3</td><td>2</td><td>Trek</td><td>3</td><td>Kinderbike</td></tr>",
                            "<tr><td>5</td><td>Powerfly FS 7</td><td>5399.00</td><td>2</td><td>2</td><td>2</td><td>Trek</td><td>3</td><td>Kinderbike</td></tr>",
                            "<tr><td>6</td><td>Fuel EX 9.8</td><td>3999.00</td><td>4</td><td>2</td><td>2</td><td>Trek</td><td>3</td><td>Kinderbike</td></tr>",
                            "<tr><td>7</td><td>Scale 24</td><td>499.00</td><td>3</td><td>1</td><td>2</td><td>Trek</td><td>3</td><td>Kinderbike</td></tr>",
                            "<tr><td>8</td><td>Scale 950</td><td>1199.00</td><td>4</td><td>1</td><td>2</td><td>Trek</td><td>3</td><td>Kinderbike</td></tr>",
                            "<tr><td>9</td><td>XT EQT 24</td><td>499.00</td><td>1</td><td>4</td><td>2</td><td>Trek</td><td>3</td><td>Kinderbike</td></tr>",
                            "<tr><td>10</td><td>Protron XT-10</td><td>999.00</td><td>4</td><td>4</td><td>2</td><td>Trek</td><td>3</td><td>Kinderbike</td></tr>",
                            "<tr><td>1</td><td>Travel SL</td><td>1399.00</td><td>1</td><td>5</td><td>3</td><td>Flyer</td><td>3</td><td>Kinderbike</td></tr>",
                            "<tr><td>2</td><td>Upstreet 5</td><td>3899.00</td><td>2</td><td>3</td><td>3</td><td>Flyer</td><td>3</td><td>Kinderbike</td></tr>",
                            "<tr><td>3</td><td>Uproc 3</td><td>4599.00</td><td>2</td><td>3</td><td>3</td><td>Flyer</td><td>3</td><td>Kinderbike</td></tr>",
                            "<tr><td>4</td><td>C 5.1</td><td>3199.00</td><td>2</td><td>3</td><td>3</td><td>Flyer</td><td>3</td><td>Kinderbike</td></tr>",
                            "<tr><td>5</td><td>Powerfly FS 7</td><td>5399.00</td><td>2</td><td>2</td><td>3</td><td>Flyer</td><td>3</td><td>Kinderbike</td></tr>",
                            "<tr><td>6</td><td>Fuel EX 9.8</td><td>3999.00</td><td>4</td><td>2</td><td>3</td><td>Flyer</td><td>3</td><td>Kinderbike</td></tr>",
                            "<tr><td>7</td><td>Scale 24</td><td>499.00</td><td>3</td><td>1</td><td>3</td><td>Flyer</td><td>3</td><td>Kinderbike</td></tr>",
                            "<tr><td>8</td><td>Scale 950</td><td>1199.00</td><td>4</td><td>1</td><td>3</td><td>Flyer</td><td>3</td><td>Kinderbike</td></tr>",
                            "<tr><td>9</td><td>XT EQT 24</td><td>499.00</td><td>1</td><td>4</td><td>3</td><td>Flyer</td><td>3</td><td>Kinderbike</td></tr>",
                            "<tr><td>10</td><td>Protron XT-10</td><td>999.00</td><td>4</td><td>4</td><td>3</td><td>Flyer</td><td>3</td><td>Kinderbike</td></tr>",
                            "<tr><td>1</td><td>Travel SL</td><td>1399.00</td><td>1</td><td>5</td><td>4</td><td>Wheeler</td><td>3</td><td>Kinderbike</td></tr>",
                            "<tr><td>2</td><td>Upstreet 5</td><td>3899.00</td><td>2</td><td>3</td><td>4</td><td>Wheeler</td><td>3</td><td>Kinderbike</td></tr>",
                            "<tr><td>3</td><td>Uproc 3</td><td>4599.00</td><td>2</td><td>3</td><td>4</td><td>Wheeler</td><td>3</td><td>Kinderbike</td></tr>",
                            "<tr><td>4</td><td>C 5.1</td><td>3199.00</td><td>2</td><td>3</td><td>4</td><td>Wheeler</td><td>3</td><td>Kinderbike</td></tr>",
                            "<tr><td>5</td><td>Powerfly FS 7</td><td>5399.00</td><td>2</td><td>2</td><td>4</td><td>Wheeler</td><td>3</td><td>Kinderbike</td></tr>",
                            "<tr><td>6</td><td>Fuel EX 9.8</td><td>3999.00</td><td>4</td><td>2</td><td>4</td><td>Wheeler</td><td>3</td><td>Kinderbike</td></tr>",
                            "<tr><td>7</td><td>Scale 24</td><td>499.00</td><td>3</td><td>1</td><td>4</td><td>Wheeler</td><td>3</td><td>Kinderbike</td></tr>",
                            "<tr><td>8</td><td>Scale 950</td><td>1199.00</td><td>4</td><td>1</td><td>4</td><td>Wheeler</td><td>3</td><td>Kinderbike</td></tr>",
                            "<tr><td>9</td><td>XT EQT 24</td><td>499.00</td><td>1</td><td>4</td><td>4</td><td>Wheeler</td><td>3</td><td>Kinderbike</td></tr>",
                            "<tr><td>10</td><td>Protron XT-10</td><td>999.00</td><td>4</td><td>4</td><td>4</td><td>Wheeler</td><td>3</td><td>Kinderbike</td></tr>",
                            "<tr><td>1</td><td>Travel SL</td><td>1399.00</td><td>1</td><td>5</td><td>5</td><td>Cube</td><td>3</td><td>Kinderbike</td></tr>",
                            "<tr><td>2</td><td>Upstreet 5</td><td>3899.00</td><td>2</td><td>3</td><td>5</td><td>Cube</td><td>3</td><td>Kinderbike</td></tr>",
                            "<tr><td>3</td><td>Uproc 3</td><td>4599.00</td><td>2</td><td>3</td><td>5</td><td>Cube</td><td>3</td><td>Kinderbike</td></tr>",
                            "<tr><td>4</td><td>C 5.1</td><td>3199.00</td><td>2</td><td>3</td><td>5</td><td>Cube</td><td>3</td><td>Kinderbike</td></tr>",
                            "<tr><td>5</td><td>Powerfly FS 7</td><td>5399.00</td><td>2</td><td>2</td><td>5</td><td>Cube</td><td>3</td><td>Kinderbike</td></tr>",
                            "<tr><td>6</td><td>Fuel EX 9.8</td><td>3999.00</td><td>4</td><td>2</td><td>5</td><td>Cube</td><td>3</td><td>Kinderbike</td></tr>",
                            "<tr><td>7</td><td>Scale 24</td><td>499.00</td><td>3</td><td>1</td><td>5</td><td>Cube</td><td>3</td><td>Kinderbike</td></tr>",
                            "<tr><td>8</td><td>Scale 950</td><td>1199.00</td><td>4</td><td>1</td><td>5</td><td>Cube</td><td>3</td><td>Kinderbike</td></tr>",
                            "<tr><td>9</td><td>XT EQT 24</td><td>499.00</td><td>1</td><td>4</td><td>5</td><td>Cube</td><td>3</td><td>Kinderbike</td></tr>",
                            "<tr><td>10</td><td>Protron XT-10</td><td>999.00</td><td>4</td><td>4</td><td>5</td><td>Cube</td><td>3</td><td>Kinderbike</td></tr>",
                            "<tr><td>1</td><td>Travel SL</td><td>1399.00</td><td>1</td><td>5</td><td>1</td><td>Scott</td><td>4</td><td>Mountainbike</td></tr>",
                            "<tr><td>2</td><td>Upstreet 5</td><td>3899.00</td><td>2</td><td>3</td><td>1</td><td>Scott</td><td>4</td><td>Mountainbike</td></tr>",
                            "<tr><td>3</td><td>Uproc 3</td><td>4599.00</td><td>2</td><td>3</td><td>1</td><td>Scott</td><td>4</td><td>Mountainbike</td></tr>",
                            "<tr><td>4</td><td>C 5.1</td><td>3199.00</td><td>2</td><td>3</td><td>1</td><td>Scott</td><td>4</td><td>Mountainbike</td></tr>",
                            "<tr><td>5</td><td>Powerfly FS 7</td><td>5399.00</td><td>2</td><td>2</td><td>1</td><td>Scott</td><td>4</td><td>Mountainbike</td></tr>",
                            "<tr><td>6</td><td>Fuel EX 9.8</td><td>3999.00</td><td>4</td><td>2</td><td>1</td><td>Scott</td><td>4</td><td>Mountainbike</td></tr>",
                            "<tr><td>7</td><td>Scale 24</td><td>499.00</td><td>3</td><td>1</td><td>1</td><td>Scott</td><td>4</td><td>Mountainbike</td></tr>",
                            "<tr><td>8</td><td>Scale 950</td><td>1199.00</td><td>4</td><td>1</td><td>1</td><td>Scott</td><td>4</td><td>Mountainbike</td></tr>",
                            "<tr><td>9</td><td>XT EQT 24</td><td>499.00</td><td>1</td><td>4</td><td>1</td><td>Scott</td><td>4</td><td>Mountainbike</td></tr>",
                            "<tr><td>10</td><td>Protron XT-10</td><td>999.00</td><td>4</td><td>4</td><td>1</td><td>Scott</td><td>4</td><td>Mountainbike</td></tr>",
                            "<tr><td>1</td><td>Travel SL</td><td>1399.00</td><td>1</td><td>5</td><td>2</td><td>Trek</td><td>4</td><td>Mountainbike</td></tr>",
                            "<tr><td>2</td><td>Upstreet 5</td><td>3899.00</td><td>2</td><td>3</td><td>2</td><td>Trek</td><td>4</td><td>Mountainbike</td></tr>",
                            "<tr><td>3</td><td>Uproc 3</td><td>4599.00</td><td>2</td><td>3</td><td>2</td><td>Trek</td><td>4</td><td>Mountainbike</td></tr>",
                            "<tr><td>4</td><td>C 5.1</td><td>3199.00</td><td>2</td><td>3</td><td>2</td><td>Trek</td><td>4</td><td>Mountainbike</td></tr>",
                            "<tr><td>5</td><td>Powerfly FS 7</td><td>5399.00</td><td>2</td><td>2</td><td>2</td><td>Trek</td><td>4</td><td>Mountainbike</td></tr>",
                            "<tr><td>6</td><td>Fuel EX 9.8</td><td>3999.00</td><td>4</td><td>2</td><td>2</td><td>Trek</td><td>4</td><td>Mountainbike</td></tr>",
                            "<tr><td>7</td><td>Scale 24</td><td>499.00</td><td>3</td><td>1</td><td>2</td><td>Trek</td><td>4</td><td>Mountainbike</td></tr>",
                            "<tr><td>8</td><td>Scale 950</td><td>1199.00</td><td>4</td><td>1</td><td>2</td><td>Trek</td><td>4</td><td>Mountainbike</td></tr>",
                            "<tr><td>9</td><td>XT EQT 24</td><td>499.00</td><td>1</td><td>4</td><td>2</td><td>Trek</td><td>4</td><td>Mountainbike</td></tr>",
                            "<tr><td>10</td><td>Protron XT-10</td><td>999.00</td><td>4</td><td>4</td><td>2</td><td>Trek</td><td>4</td><td>Mountainbike</td></tr>",
                            "<tr><td>1</td><td>Travel SL</td><td>1399.00</td><td>1</td><td>5</td><td>3</td><td>Flyer</td><td>4</td><td>Mountainbike</td></tr>",
                            "<tr><td>2</td><td>Upstreet 5</td><td>3899.00</td><td>2</td><td>3</td><td>3</td><td>Flyer</td><td>4</td><td>Mountainbike</td></tr>",
                            "<tr><td>3</td><td>Uproc 3</td><td>4599.00</td><td>2</td><td>3</td><td>3</td><td>Flyer</td><td>4</td><td>Mountainbike</td></tr>",
                            "<tr><td>4</td><td>C 5.1</td><td>3199.00</td><td>2</td><td>3</td><td>3</td><td>Flyer</td><td>4</td><td>Mountainbike</td></tr>",
                            "<tr><td>5</td><td>Powerfly FS 7</td><td>5399.00</td><td>2</td><td>2</td><td>3</td><td>Flyer</td><td>4</td><td>Mountainbike</td></tr>",
                            "<tr><td>6</td><td>Fuel EX 9.8</td><td>3999.00</td><td>4</td><td>2</td><td>3</td><td>Flyer</td><td>4</td><td>Mountainbike</td></tr>",
                            "<tr><td>7</td><td>Scale 24</td><td>499.00</td><td>3</td><td>1</td><td>3</td><td>Flyer</td><td>4</td><td>Mountainbike</td></tr>",
                            "<tr><td>8</td><td>Scale 950</td><td>1199.00</td><td>4</td><td>1</td><td>3</td><td>Flyer</td><td>4</td><td>Mountainbike</td></tr>",
                            "<tr><td>9</td><td>XT EQT 24</td><td>499.00</td><td>1</td><td>4</td><td>3</td><td>Flyer</td><td>4</td><td>Mountainbike</td></tr>",
                            "<tr><td>10</td><td>Protron XT-10</td><td>999.00</td><td>4</td><td>4</td><td>3</td><td>Flyer</td><td>4</td><td>Mountainbike</td></tr>",
                            "<tr><td>1</td><td>Travel SL</td><td>1399.00</td><td>1</td><td>5</td><td>4</td><td>Wheeler</td><td>4</td><td>Mountainbike</td></tr>",
                            "<tr><td>2</td><td>Upstreet 5</td><td>3899.00</td><td>2</td><td>3</td><td>4</td><td>Wheeler</td><td>4</td><td>Mountainbike</td></tr>",
                            "<tr><td>3</td><td>Uproc 3</td><td>4599.00</td><td>2</td><td>3</td><td>4</td><td>Wheeler</td><td>4</td><td>Mountainbike</td></tr>",
                            "<tr><td>4</td><td>C 5.1</td><td>3199.00</td><td>2</td><td>3</td><td>4</td><td>Wheeler</td><td>4</td><td>Mountainbike</td></tr>",
                            "<tr><td>5</td><td>Powerfly FS 7</td><td>5399.00</td><td>2</td><td>2</td><td>4</td><td>Wheeler</td><td>4</td><td>Mountainbike</td></tr>",
                            "<tr><td>6</td><td>Fuel EX 9.8</td><td>3999.00</td><td>4</td><td>2</td><td>4</td><td>Wheeler</td><td>4</td><td>Mountainbike</td></tr>",
                            "<tr><td>7</td><td>Scale 24</td><td>499.00</td><td>3</td><td>1</td><td>4</td><td>Wheeler</td><td>4</td><td>Mountainbike</td></tr>",
                            "<tr><td>8</td><td>Scale 950</td><td>1199.00</td><td>4</td><td>1</td><td>4</td><td>Wheeler</td><td>4</td><td>Mountainbike</td></tr>",
                            "<tr><td>9</td><td>XT EQT 24</td><td>499.00</td><td>1</td><td>4</td><td>4</td><td>Wheeler</td><td>4</td><td>Mountainbike</td></tr>",
                            "<tr><td>10</td><td>Protron XT-10</td><td>999.00</td><td>4</td><td>4</td><td>4</td><td>Wheeler</td><td>4</td><td>Mountainbike</td></tr>",
                            "<tr><td>1</td><td>Travel SL</td><td>1399.00</td><td>1</td><td>5</td><td>5</td><td>Cube</td><td>4</td><td>Mountainbike</td></tr>",
                            "<tr><td>2</td><td>Upstreet 5</td><td>3899.00</td><td>2</td><td>3</td><td>5</td><td>Cube</td><td>4</td><td>Mountainbike</td></tr>",
                            "<tr><td>3</td><td>Uproc 3</td><td>4599.00</td><td>2</td><td>3</td><td>5</td><td>Cube</td><td>4</td><td>Mountainbike</td></tr>",
                            "<tr><td>4</td><td>C 5.1</td><td>3199.00</td><td>2</td><td>3</td><td>5</td><td>Cube</td><td>4</td><td>Mountainbike</td></tr>",
                            "<tr><td>5</td><td>Powerfly FS 7</td><td>5399.00</td><td>2</td><td>2</td><td>5</td><td>Cube</td><td>4</td><td>Mountainbike</td></tr>",
                            "<tr><td>6</td><td>Fuel EX 9.8</td><td>3999.00</td><td>4</td><td>2</td><td>5</td><td>Cube</td><td>4</td><td>Mountainbike</td></tr>",
                            "<tr><td>7</td><td>Scale 24</td><td>499.00</td><td>3</td><td>1</td><td>5</td><td>Cube</td><td>4</td><td>Mountainbike</td></tr>",
                            "<tr><td>8</td><td>Scale 950</td><td>1199.00</td><td>4</td><td>1</td><td>5</td><td>Cube</td><td>4</td><td>Mountainbike</td></tr>",
                            "<tr><td>9</td><td>XT EQT 24</td><td>499.00</td><td>1</td><td>4</td><td>5</td><td>Cube</td><td>4</td><td>Mountainbike</td></tr>",
                            "<tr><td>10</td><td>Protron XT-10</td><td>999.00</td><td>4</td><td>4</td><td>5</td><td>Cube</td><td>4</td><td>Mountainbike</td></tr>",
                            "<tr><td>1</td><td>Travel SL</td><td>1399.00</td><td>1</td><td>5</td><td>1</td><td>Scott</td><td>5</td><td>Rennvelo</td></tr>",
                            "<tr><td>2</td><td>Upstreet 5</td><td>3899.00</td><td>2</td><td>3</td><td>1</td><td>Scott</td><td>5</td><td>Rennvelo</td></tr>",
                            "<tr><td>3</td><td>Uproc 3</td><td>4599.00</td><td>2</td><td>3</td><td>1</td><td>Scott</td><td>5</td><td>Rennvelo</td></tr>",
                            "<tr><td>4</td><td>C 5.1</td><td>3199.00</td><td>2</td><td>3</td><td>1</td><td>Scott</td><td>5</td><td>Rennvelo</td></tr>",
                            "<tr><td>5</td><td>Powerfly FS 7</td><td>5399.00</td><td>2</td><td>2</td><td>1</td><td>Scott</td><td>5</td><td>Rennvelo</td></tr>",
                            "<tr><td>6</td><td>Fuel EX 9.8</td><td>3999.00</td><td>4</td><td>2</td><td>1</td><td>Scott</td><td>5</td><td>Rennvelo</td></tr>",
                            "<tr><td>7</td><td>Scale 24</td><td>499.00</td><td>3</td><td>1</td><td>1</td><td>Scott</td><td>5</td><td>Rennvelo</td></tr>",
                            "<tr><td>8</td><td>Scale 950</td><td>1199.00</td><td>4</td><td>1</td><td>1</td><td>Scott</td><td>5</td><td>Rennvelo</td></tr>",
                            "<tr><td>9</td><td>XT EQT 24</td><td>499.00</td><td>1</td><td>4</td><td>1</td><td>Scott</td><td>5</td><td>Rennvelo</td></tr>",
                            "<tr><td>10</td><td>Protron XT-10</td><td>999.00</td><td>4</td><td>4</td><td>1</td><td>Scott</td><td>5</td><td>Rennvelo</td></tr>",
                            "<tr><td>1</td><td>Travel SL</td><td>1399.00</td><td>1</td><td>5</td><td>2</td><td>Trek</td><td>5</td><td>Rennvelo</td></tr>",
                            "<tr><td>2</td><td>Upstreet 5</td><td>3899.00</td><td>2</td><td>3</td><td>2</td><td>Trek</td><td>5</td><td>Rennvelo</td></tr>",
                            "<tr><td>3</td><td>Uproc 3</td><td>4599.00</td><td>2</td><td>3</td><td>2</td><td>Trek</td><td>5</td><td>Rennvelo</td></tr>",
                            "<tr><td>4</td><td>C 5.1</td><td>3199.00</td><td>2</td><td>3</td><td>2</td><td>Trek</td><td>5</td><td>Rennvelo</td></tr>",
                            "<tr><td>5</td><td>Powerfly FS 7</td><td>5399.00</td><td>2</td><td>2</td><td>2</td><td>Trek</td><td>5</td><td>Rennvelo</td></tr>",
                            "<tr><td>6</td><td>Fuel EX 9.8</td><td>3999.00</td><td>4</td><td>2</td><td>2</td><td>Trek</td><td>5</td><td>Rennvelo</td></tr>",
                            "<tr><td>7</td><td>Scale 24</td><td>499.00</td><td>3</td><td>1</td><td>2</td><td>Trek</td><td>5</td><td>Rennvelo</td></tr>",
                            "<tr><td>8</td><td>Scale 950</td><td>1199.00</td><td>4</td><td>1</td><td>2</td><td>Trek</td><td>5</td><td>Rennvelo</td></tr>",
                            "<tr><td>9</td><td>XT EQT 24</td><td>499.00</td><td>1</td><td>4</td><td>2</td><td>Trek</td><td>5</td><td>Rennvelo</td></tr>",
                            "<tr><td>10</td><td>Protron XT-10</td><td>999.00</td><td>4</td><td>4</td><td>2</td><td>Trek</td><td>5</td><td>Rennvelo</td></tr>",
                            "<tr><td>1</td><td>Travel SL</td><td>1399.00</td><td>1</td><td>5</td><td>3</td><td>Flyer</td><td>5</td><td>Rennvelo</td></tr>",
                            "<tr><td>2</td><td>Upstreet 5</td><td>3899.00</td><td>2</td><td>3</td><td>3</td><td>Flyer</td><td>5</td><td>Rennvelo</td></tr>",
                            "<tr><td>3</td><td>Uproc 3</td><td>4599.00</td><td>2</td><td>3</td><td>3</td><td>Flyer</td><td>5</td><td>Rennvelo</td></tr>",
                            "<tr><td>4</td><td>C 5.1</td><td>3199.00</td><td>2</td><td>3</td><td>3</td><td>Flyer</td><td>5</td><td>Rennvelo</td></tr>",
                            "<tr><td>5</td><td>Powerfly FS 7</td><td>5399.00</td><td>2</td><td>2</td><td>3</td><td>Flyer</td><td>5</td><td>Rennvelo</td></tr>",
                            "<tr><td>6</td><td>Fuel EX 9.8</td><td>3999.00</td><td>4</td><td>2</td><td>3</td><td>Flyer</td><td>5</td><td>Rennvelo</td></tr>",
                            "<tr><td>7</td><td>Scale 24</td><td>499.00</td><td>3</td><td>1</td><td>3</td><td>Flyer</td><td>5</td><td>Rennvelo</td></tr>",
                            "<tr><td>8</td><td>Scale 950</td><td>1199.00</td><td>4</td><td>1</td><td>3</td><td>Flyer</td><td>5</td><td>Rennvelo</td></tr>",
                            "<tr><td>9</td><td>XT EQT 24</td><td>499.00</td><td>1</td><td>4</td><td>3</td><td>Flyer</td><td>5</td><td>Rennvelo</td></tr>",
                            "<tr><td>10</td><td>Protron XT-10</td><td>999.00</td><td>4</td><td>4</td><td>3</td><td>Flyer</td><td>5</td><td>Rennvelo</td></tr>",
                            "<tr><td>1</td><td>Travel SL</td><td>1399.00</td><td>1</td><td>5</td><td>4</td><td>Wheeler</td><td>5</td><td>Rennvelo</td></tr>",
                            "<tr><td>2</td><td>Upstreet 5</td><td>3899.00</td><td>2</td><td>3</td><td>4</td><td>Wheeler</td><td>5</td><td>Rennvelo</td></tr>",
                            "<tr><td>3</td><td>Uproc 3</td><td>4599.00</td><td>2</td><td>3</td><td>4</td><td>Wheeler</td><td>5</td><td>Rennvelo</td></tr>",
                            "<tr><td>4</td><td>C 5.1</td><td>3199.00</td><td>2</td><td>3</td><td>4</td><td>Wheeler</td><td>5</td><td>Rennvelo</td></tr>",
                            "<tr><td>5</td><td>Powerfly FS 7</td><td>5399.00</td><td>2</td><td>2</td><td>4</td><td>Wheeler</td><td>5</td><td>Rennvelo</td></tr>",
                            "<tr><td>6</td><td>Fuel EX 9.8</td><td>3999.00</td><td>4</td><td>2</td><td>4</td><td>Wheeler</td><td>5</td><td>Rennvelo</td></tr>",
                            "<tr><td>7</td><td>Scale 24</td><td>499.00</td><td>3</td><td>1</td><td>4</td><td>Wheeler</td><td>5</td><td>Rennvelo</td></tr>",
                            "<tr><td>8</td><td>Scale 950</td><td>1199.00</td><td>4</td><td>1</td><td>4</td><td>Wheeler</td><td>5</td><td>Rennvelo</td></tr>",
                            "<tr><td>9</td><td>XT EQT 24</td><td>499.00</td><td>1</td><td>4</td><td>4</td><td>Wheeler</td><td>5</td><td>Rennvelo</td></tr>",
                            "<tr><td>10</td><td>Protron XT-10</td><td>999.00</td><td>4</td><td>4</td><td>4</td><td>Wheeler</td><td>5</td><td>Rennvelo</td></tr>",
                            "<tr><td>1</td><td>Travel SL</td><td>1399.00</td><td>1</td><td>5</td><td>5</td><td>Cube</td><td>5</td><td>Rennvelo</td></tr>",
                            "<tr><td>2</td><td>Upstreet 5</td><td>3899.00</td><td>2</td><td>3</td><td>5</td><td>Cube</td><td>5</td><td>Rennvelo</td></tr>",
                            "<tr><td>3</td><td>Uproc 3</td><td>4599.00</td><td>2</td><td>3</td><td>5</td><td>Cube</td><td>5</td><td>Rennvelo</td></tr>",
                            "<tr><td>4</td><td>C 5.1</td><td>3199.00</td><td>2</td><td>3</td><td>5</td><td>Cube</td><td>5</td><td>Rennvelo</td></tr>",
                            "<tr><td>5</td><td>Powerfly FS 7</td><td>5399.00</td><td>2</td><td>2</td><td>5</td><td>Cube</td><td>5</td><td>Rennvelo</td></tr>",
                            "<tr><td>6</td><td>Fuel EX 9.8</td><td>3999.00</td><td>4</td><td>2</td><td>5</td><td>Cube</td><td>5</td><td>Rennvelo</td></tr>",
                            "<tr><td>7</td><td>Scale 24</td><td>499.00</td><td>3</td><td>1</td><td>5</td><td>Cube</td><td>5</td><td>Rennvelo</td></tr>",
                            "<tr><td>8</td><td>Scale 950</td><td>1199.00</td><td>4</td><td>1</td><td>5</td><td>Cube</td><td>5</td><td>Rennvelo</td></tr>",
                            "<tr><td>9</td><td>XT EQT 24</td><td>499.00</td><td>1</td><td>4</td><td>5</td><td>Cube</td><td>5</td><td>Rennvelo</td></tr>",
                            "<tr><td>10</td><td>Protron XT-10</td><td>999.00</td><td>4</td><td>4</td><td>5</td><td>Cube</td><td>5</td><td>Rennvelo</td></tr>",
                            "</table>"
                        ]
                    }
                }
            ],
            "execution_count": 1
        },
        {
            "cell_type": "markdown",
            "source": [
                "# **Aufgabe 3**"
            ],
            "metadata": {
                "azdata_cell_guid": "7fd435eb-c79d-464e-aec1-4ff72295ce87"
            },
            "attachments": {}
        },
        {
            "cell_type": "code",
            "source": [
                "USE BikeLager;\r\n",
                "GO\r\n",
                "\r\n",
                "SELECT BikeId, Bez, Preis FROM Bike ORDER BY Bez;\r\n",
                "SELECT BikeId, Bez, Preis FROM Bike ORDER BY Preis DESC;"
            ],
            "metadata": {
                "azdata_cell_guid": "660c03de-b894-4a74-bb98-b3370eacb366",
                "language": "sql"
            },
            "outputs": [],
            "execution_count": null
        },
        {
            "cell_type": "markdown",
            "source": [
                "# **Aufgabe 4**"
            ],
            "metadata": {
                "azdata_cell_guid": "2bdae598-139d-4f3d-a7fe-1d17fc81b40e"
            },
            "attachments": {}
        },
        {
            "cell_type": "code",
            "source": [
                "USE BikeLager;\r\n",
                "GO\r\n",
                "\r\n",
                "SELECT Bez AS \"Bezeichnung\", Preis AS \"Preis in CHF\" FROM Bike ORDER BY Bez ASC, Preis ASC;"
            ],
            "metadata": {
                "azdata_cell_guid": "5ec79d4b-43f6-45f8-bb29-25edd97376a7",
                "language": "sql"
            },
            "outputs": [],
            "execution_count": null
        },
        {
            "cell_type": "markdown",
            "source": [
                "# **Aufgabe 5**"
            ],
            "metadata": {
                "azdata_cell_guid": "3a4496dd-62ac-4d3f-a2bc-d838a287b9a1"
            },
            "attachments": {}
        },
        {
            "cell_type": "code",
            "source": [
                "USE BikeLager;\r\n",
                "GO\r\n",
                "\r\n",
                "SELECT * FROM Bike WHERE fk_MarkeId = 3;"
            ],
            "metadata": {
                "azdata_cell_guid": "485d63c1-5c47-4f05-b145-a02372574096",
                "language": "sql"
            },
            "outputs": [],
            "execution_count": null
        },
        {
            "cell_type": "markdown",
            "source": [
                "# **Aufgabe 6**"
            ],
            "metadata": {
                "azdata_cell_guid": "93c464f0-1871-480c-b9ed-a90cf9e40d41"
            },
            "attachments": {}
        },
        {
            "cell_type": "code",
            "source": [
                "USE BikeLager;\r\n",
                "GO\r\n",
                "\r\n",
                "SELECT * FROM Bike WHERE fk_TypId = 4 AND fk_MarkeId = 1"
            ],
            "metadata": {
                "azdata_cell_guid": "fbb806ef-d22c-4ab2-bba8-ab10f8bbdc58",
                "language": "sql"
            },
            "outputs": [],
            "execution_count": null
        },
        {
            "cell_type": "markdown",
            "source": [
                "# **Aufgabe 7**"
            ],
            "metadata": {
                "azdata_cell_guid": "7daaaaab-60a7-438a-b9de-1d7ce9127546"
            },
            "attachments": {}
        },
        {
            "cell_type": "code",
            "source": [
                "USE BikeLager;\r\n",
                "GO\r\n",
                "\r\n",
                "SELECT Marke.Bez AS Marke, Bike.Bez AS Bike, Bike.Preis AS Preis\r\n",
                "FROM Marke INNER JOIN Bike \r\n",
                "ON Bike.fk_MarkeId = Marke.MarkeId\r\n",
                "ORDER BY Bike.Bez;"
            ],
            "metadata": {
                "azdata_cell_guid": "e028451f-681a-46da-9540-a3f97a94ad14",
                "language": "sql"
            },
            "outputs": [
                {
                    "output_type": "display_data",
                    "data": {
                        "text/html": "Commands completed successfully."
                    },
                    "metadata": {}
                },
                {
                    "output_type": "display_data",
                    "data": {
                        "text/html": "(10 rows affected)"
                    },
                    "metadata": {}
                },
                {
                    "output_type": "display_data",
                    "data": {
                        "text/html": "Total execution time: 00:00:00.020"
                    },
                    "metadata": {}
                },
                {
                    "output_type": "execute_result",
                    "metadata": {},
                    "execution_count": 2,
                    "data": {
                        "application/vnd.dataresource+json": {
                            "schema": {
                                "fields": [
                                    {
                                        "name": "Marke"
                                    },
                                    {
                                        "name": "Bike"
                                    },
                                    {
                                        "name": "Preis"
                                    }
                                ]
                            },
                            "data": [
                                {
                                    "Marke": "Flyer",
                                    "Bike": "C 5.1",
                                    "Preis": "3199.00"
                                },
                                {
                                    "Marke": "Trek",
                                    "Bike": "Fuel EX 9.8",
                                    "Preis": "3999.00"
                                },
                                {
                                    "Marke": "Trek",
                                    "Bike": "Powerfly FS 7",
                                    "Preis": "5399.00"
                                },
                                {
                                    "Marke": "Wheeler",
                                    "Bike": "Protron XT-10",
                                    "Preis": "999.00"
                                },
                                {
                                    "Marke": "Scott",
                                    "Bike": "Scale 24",
                                    "Preis": "499.00"
                                },
                                {
                                    "Marke": "Scott",
                                    "Bike": "Scale 950",
                                    "Preis": "1199.00"
                                },
                                {
                                    "Marke": "Cube",
                                    "Bike": "Travel SL",
                                    "Preis": "1399.00"
                                },
                                {
                                    "Marke": "Flyer",
                                    "Bike": "Uproc 3",
                                    "Preis": "4599.00"
                                },
                                {
                                    "Marke": "Flyer",
                                    "Bike": "Upstreet 5",
                                    "Preis": "3899.00"
                                },
                                {
                                    "Marke": "Wheeler",
                                    "Bike": "XT EQT 24",
                                    "Preis": "499.00"
                                }
                            ]
                        },
                        "text/html": [
                            "<table>",
                            "<tr><th>Marke</th><th>Bike</th><th>Preis</th></tr>",
                            "<tr><td>Flyer</td><td>C 5.1</td><td>3199.00</td></tr>",
                            "<tr><td>Trek</td><td>Fuel EX 9.8</td><td>3999.00</td></tr>",
                            "<tr><td>Trek</td><td>Powerfly FS 7</td><td>5399.00</td></tr>",
                            "<tr><td>Wheeler</td><td>Protron XT-10</td><td>999.00</td></tr>",
                            "<tr><td>Scott</td><td>Scale 24</td><td>499.00</td></tr>",
                            "<tr><td>Scott</td><td>Scale 950</td><td>1199.00</td></tr>",
                            "<tr><td>Cube</td><td>Travel SL</td><td>1399.00</td></tr>",
                            "<tr><td>Flyer</td><td>Uproc 3</td><td>4599.00</td></tr>",
                            "<tr><td>Flyer</td><td>Upstreet 5</td><td>3899.00</td></tr>",
                            "<tr><td>Wheeler</td><td>XT EQT 24</td><td>499.00</td></tr>",
                            "</table>"
                        ]
                    }
                }
            ],
            "execution_count": 2
        },
        {
            "cell_type": "markdown",
            "source": [
                "# **Aufgabe 8**"
            ],
            "metadata": {
                "azdata_cell_guid": "1f8754cf-e808-49f9-bc29-0f0a67bf4f43"
            },
            "attachments": {}
        },
        {
            "cell_type": "code",
            "source": [
                "USE BikeLager;\r\n",
                "GO\r\n",
                "\r\n",
                "SELECT Marke.Bez AS Marke, Typ.Bez AS Typ, Bike.Bez AS Bike, Bike.Preis AS Preis\r\n",
                "FROM Bike \r\n",
                "INNER JOIN Typ ON Bike.fk_TypId = Typ.TypId\r\n",
                "INNER JOIN Marke ON Bike.fk_MarkeId = Marke.MarkeId\r\n",
                "ORDER BY Marke.Bez;"
            ],
            "metadata": {
                "azdata_cell_guid": "23bace9f-c705-49b4-b7a8-ddb7e0e91646",
                "language": "sql"
            },
            "outputs": [
                {
                    "output_type": "display_data",
                    "data": {
                        "text/html": "Commands completed successfully."
                    },
                    "metadata": {}
                },
                {
                    "output_type": "display_data",
                    "data": {
                        "text/html": "(10 rows affected)"
                    },
                    "metadata": {}
                },
                {
                    "output_type": "display_data",
                    "data": {
                        "text/html": "Total execution time: 00:00:00.010"
                    },
                    "metadata": {}
                },
                {
                    "output_type": "execute_result",
                    "metadata": {},
                    "execution_count": 3,
                    "data": {
                        "application/vnd.dataresource+json": {
                            "schema": {
                                "fields": [
                                    {
                                        "name": "Marke"
                                    },
                                    {
                                        "name": "Typ"
                                    },
                                    {
                                        "name": "Bike"
                                    },
                                    {
                                        "name": "Preis"
                                    }
                                ]
                            },
                            "data": [
                                {
                                    "Marke": "Cube",
                                    "Typ": "Citybike",
                                    "Bike": "Travel SL",
                                    "Preis": "1399.00"
                                },
                                {
                                    "Marke": "Flyer",
                                    "Typ": "E-Bike",
                                    "Bike": "Upstreet 5",
                                    "Preis": "3899.00"
                                },
                                {
                                    "Marke": "Flyer",
                                    "Typ": "E-Bike",
                                    "Bike": "Uproc 3",
                                    "Preis": "4599.00"
                                },
                                {
                                    "Marke": "Flyer",
                                    "Typ": "E-Bike",
                                    "Bike": "C 5.1",
                                    "Preis": "3199.00"
                                },
                                {
                                    "Marke": "Scott",
                                    "Typ": "Kinderbike",
                                    "Bike": "Scale 24",
                                    "Preis": "499.00"
                                },
                                {
                                    "Marke": "Scott",
                                    "Typ": "Mountainbike",
                                    "Bike": "Scale 950",
                                    "Preis": "1199.00"
                                },
                                {
                                    "Marke": "Trek",
                                    "Typ": "E-Bike",
                                    "Bike": "Powerfly FS 7",
                                    "Preis": "5399.00"
                                },
                                {
                                    "Marke": "Trek",
                                    "Typ": "Mountainbike",
                                    "Bike": "Fuel EX 9.8",
                                    "Preis": "3999.00"
                                },
                                {
                                    "Marke": "Wheeler",
                                    "Typ": "Citybike",
                                    "Bike": "XT EQT 24",
                                    "Preis": "499.00"
                                },
                                {
                                    "Marke": "Wheeler",
                                    "Typ": "Mountainbike",
                                    "Bike": "Protron XT-10",
                                    "Preis": "999.00"
                                }
                            ]
                        },
                        "text/html": [
                            "<table>",
                            "<tr><th>Marke</th><th>Typ</th><th>Bike</th><th>Preis</th></tr>",
                            "<tr><td>Cube</td><td>Citybike</td><td>Travel SL</td><td>1399.00</td></tr>",
                            "<tr><td>Flyer</td><td>E-Bike</td><td>Upstreet 5</td><td>3899.00</td></tr>",
                            "<tr><td>Flyer</td><td>E-Bike</td><td>Uproc 3</td><td>4599.00</td></tr>",
                            "<tr><td>Flyer</td><td>E-Bike</td><td>C 5.1</td><td>3199.00</td></tr>",
                            "<tr><td>Scott</td><td>Kinderbike</td><td>Scale 24</td><td>499.00</td></tr>",
                            "<tr><td>Scott</td><td>Mountainbike</td><td>Scale 950</td><td>1199.00</td></tr>",
                            "<tr><td>Trek</td><td>E-Bike</td><td>Powerfly FS 7</td><td>5399.00</td></tr>",
                            "<tr><td>Trek</td><td>Mountainbike</td><td>Fuel EX 9.8</td><td>3999.00</td></tr>",
                            "<tr><td>Wheeler</td><td>Citybike</td><td>XT EQT 24</td><td>499.00</td></tr>",
                            "<tr><td>Wheeler</td><td>Mountainbike</td><td>Protron XT-10</td><td>999.00</td></tr>",
                            "</table>"
                        ]
                    }
                }
            ],
            "execution_count": 3
        },
        {
            "cell_type": "markdown",
            "source": [
                "# **Aufgabe 9**"
            ],
            "metadata": {
                "azdata_cell_guid": "a678b362-88fa-40e9-b577-05d0f3cce6ed"
            },
            "attachments": {}
        },
        {
            "cell_type": "code",
            "source": [
                "USE BikeLager\r\n",
                "GO\r\n",
                "\r\n",
                "SELECT Marke.Bez AS Marke, Typ.Bez AS Typ, Bike.Bez AS Bike, Bike.Preis AS Preis\r\n",
                "FROM Bike \r\n",
                "INNER JOIN Marke ON Bike.fk_MarkeId = Marke.MarkeId\r\n",
                "INNER JOIN Typ ON Bike.fk_TypId = Typ.TypId\r\n",
                "WHERE Marke.Bez = 'Wheeler'\r\n",
                "ORDER BY Bike.Preis ASC;"
            ],
            "metadata": {
                "azdata_cell_guid": "d0edc9da-afae-46a2-9a10-cdacd3abb387",
                "language": "sql"
            },
            "outputs": [],
            "execution_count": null
        },
        {
            "cell_type": "markdown",
            "source": [
                "# **Aufgabe 10**"
            ],
            "metadata": {
                "azdata_cell_guid": "0912f527-6b96-4e79-a7f7-3634af705ac7"
            },
            "attachments": {}
        },
        {
            "cell_type": "code",
            "source": [
                "USE BikeLager;\r\n",
                "GO\r\n",
                "\r\n",
                "SELECT Marke.Bez AS Marke, COUNT(Bike.fk_MarkeId) AS Anzahl\r\n",
                "FROM Bike\r\n",
                "INNER JOIN Marke ON Bike.fk_MarkeId = Marke.MarkeId\r\n",
                "GROUP BY Marke.Bez;"
            ],
            "metadata": {
                "azdata_cell_guid": "ee97c428-b32b-48be-b595-82bd3b2ce1cb",
                "language": "sql"
            },
            "outputs": [],
            "execution_count": null
        },
        {
            "cell_type": "markdown",
            "source": [
                "# **Aufgabe 11**"
            ],
            "metadata": {
                "azdata_cell_guid": "0c9d0780-7857-4168-b2fb-962eb6a901b0"
            },
            "attachments": {}
        },
        {
            "cell_type": "code",
            "source": [
                "USE BikeLager;\r\n",
                "GO\r\n",
                "\r\n",
                "SELECT Typ.Bez AS Typ, AVG(Bike.Preis) AS Durchschnittspreis\r\n",
                "FROM Bike\r\n",
                "INNER JOIN Typ ON Bike.fk_TypId = Typ.TypId\r\n",
                "WHERE Typ.Bez = 'E-Bike'\r\n",
                "GROUP BY Typ.Bez;"
            ],
            "metadata": {
                "azdata_cell_guid": "1b27c52b-7aa2-401f-9ddf-e47b3f0b40e2",
                "language": "sql"
            },
            "outputs": [],
            "execution_count": null
        },
        {
            "cell_type": "markdown",
            "source": [
                "# **Aufgabe 12**"
            ],
            "metadata": {
                "azdata_cell_guid": "f9e7cc12-effe-4c33-93e7-c6012f55c712"
            },
            "attachments": {}
        },
        {
            "cell_type": "code",
            "source": [
                "USE BikeLager;\r\n",
                "GO\r\n",
                "\r\n",
                "SELECT Typ.Bez AS Typ, COUNT(Bike.fk_TypId) AS Anzahl\r\n",
                "FROM Bike\r\n",
                "INNER JOIN Typ ON Bike.fk_TypId = Typ.TypId\r\n",
                "GROUP BY Typ.Bez\r\n",
                "ORDER BY Anzahl ASC;"
            ],
            "metadata": {
                "azdata_cell_guid": "82df7f12-9d95-4f68-ac6a-a9eaa7c96afe",
                "language": "sql"
            },
            "outputs": [
                {
                    "output_type": "display_data",
                    "data": {
                        "text/html": "Commands completed successfully."
                    },
                    "metadata": {}
                },
                {
                    "output_type": "display_data",
                    "data": {
                        "text/html": "(4 rows affected)"
                    },
                    "metadata": {}
                },
                {
                    "output_type": "display_data",
                    "data": {
                        "text/html": "Total execution time: 00:00:00.006"
                    },
                    "metadata": {}
                },
                {
                    "output_type": "execute_result",
                    "metadata": {},
                    "execution_count": 5,
                    "data": {
                        "application/vnd.dataresource+json": {
                            "schema": {
                                "fields": [
                                    {
                                        "name": "Typ"
                                    },
                                    {
                                        "name": "Anzahl"
                                    }
                                ]
                            },
                            "data": [
                                {
                                    "Typ": "Kinderbike",
                                    "Anzahl": "1"
                                },
                                {
                                    "Typ": "Citybike",
                                    "Anzahl": "2"
                                },
                                {
                                    "Typ": "Mountainbike",
                                    "Anzahl": "3"
                                },
                                {
                                    "Typ": "E-Bike",
                                    "Anzahl": "4"
                                }
                            ]
                        },
                        "text/html": [
                            "<table>",
                            "<tr><th>Typ</th><th>Anzahl</th></tr>",
                            "<tr><td>Kinderbike</td><td>1</td></tr>",
                            "<tr><td>Citybike</td><td>2</td></tr>",
                            "<tr><td>Mountainbike</td><td>3</td></tr>",
                            "<tr><td>E-Bike</td><td>4</td></tr>",
                            "</table>"
                        ]
                    }
                }
            ],
            "execution_count": 5
        },
        {
            "cell_type": "markdown",
            "source": [
                "# **Aufgabe 13**"
            ],
            "metadata": {
                "azdata_cell_guid": "b9b08a42-51e0-48c4-b129-a9cadb189427"
            },
            "attachments": {}
        },
        {
            "cell_type": "code",
            "source": [
                "USE BikeLager;\r\n",
                "GO\r\n",
                "\r\n",
                "SELECT Typ.Bez AS Typ, COUNT(Bike.fk_TypId) AS Anzahl, CAST(ROUND(AVG(Bike.Preis), 2) AS DECIMAL(10,2)) AS Durchschnittspreis\r\n",
                "FROM Bike\r\n",
                "INNER JOIN Typ ON Bike.fk_TypId = Typ.TypId\r\n",
                "GROUP BY Typ.Bez\r\n",
                "ORDER BY Durchschnittspreis ASC;"
            ],
            "metadata": {
                "azdata_cell_guid": "30154e5f-4dad-440e-89bc-c5e2cfc26f85",
                "language": "sql"
            },
            "outputs": [
                {
                    "output_type": "display_data",
                    "data": {
                        "text/html": "Commands completed successfully."
                    },
                    "metadata": {}
                },
                {
                    "output_type": "display_data",
                    "data": {
                        "text/html": "(4 rows affected)"
                    },
                    "metadata": {}
                },
                {
                    "output_type": "display_data",
                    "data": {
                        "text/html": "Total execution time: 00:00:00.007"
                    },
                    "metadata": {}
                },
                {
                    "output_type": "execute_result",
                    "metadata": {},
                    "execution_count": 6,
                    "data": {
                        "application/vnd.dataresource+json": {
                            "schema": {
                                "fields": [
                                    {
                                        "name": "Typ"
                                    },
                                    {
                                        "name": "Anzahl"
                                    },
                                    {
                                        "name": "Durchschnittspreis"
                                    }
                                ]
                            },
                            "data": [
                                {
                                    "Typ": "Kinderbike",
                                    "Anzahl": "1",
                                    "Durchschnittspreis": "499.00"
                                },
                                {
                                    "Typ": "Citybike",
                                    "Anzahl": "2",
                                    "Durchschnittspreis": "949.00"
                                },
                                {
                                    "Typ": "Mountainbike",
                                    "Anzahl": "3",
                                    "Durchschnittspreis": "2065.67"
                                },
                                {
                                    "Typ": "E-Bike",
                                    "Anzahl": "4",
                                    "Durchschnittspreis": "4274.00"
                                }
                            ]
                        },
                        "text/html": [
                            "<table>",
                            "<tr><th>Typ</th><th>Anzahl</th><th>Durchschnittspreis</th></tr>",
                            "<tr><td>Kinderbike</td><td>1</td><td>499.00</td></tr>",
                            "<tr><td>Citybike</td><td>2</td><td>949.00</td></tr>",
                            "<tr><td>Mountainbike</td><td>3</td><td>2065.67</td></tr>",
                            "<tr><td>E-Bike</td><td>4</td><td>4274.00</td></tr>",
                            "</table>"
                        ]
                    }
                }
            ],
            "execution_count": 6
        },
        {
            "cell_type": "markdown",
            "source": [
                "# **Aufgabe 14**"
            ],
            "metadata": {
                "azdata_cell_guid": "7c05c6ff-5d69-4e2b-bfc9-4c3977495b35"
            },
            "attachments": {}
        },
        {
            "cell_type": "code",
            "source": [
                "USE BikeLager;\r\n",
                "GO\r\n",
                "\r\n",
                "SELECT Marke.Bez AS Marke, \r\n",
                "    COUNT(Bike.fk_MarkeId) AS Anzahl, \r\n",
                "    MIN(Bike.Preis) AS Minimum,\r\n",
                "    CAST(ROUND(AVG(Bike.Preis), 2) AS DECIMAL(10,2)) AS Durchschnittspreis,\r\n",
                "    MAX(Bike.Preis) AS Maximum,\r\n",
                "    SUM(Bike.Preis) AS Total\r\n",
                "FROM Bike\r\n",
                "INNER JOIN Marke ON Bike.fk_MarkeId = Marke.MarkeId\r\n",
                "GROUP BY Marke.Bez;"
            ],
            "metadata": {
                "azdata_cell_guid": "670003a6-8dfb-4d29-9a0d-d4b6eb23d019",
                "language": "sql"
            },
            "outputs": [],
            "execution_count": null
        },
        {
            "cell_type": "markdown",
            "source": [
                "# **Aufgabe 15**"
            ],
            "metadata": {
                "azdata_cell_guid": "c868f71a-11f0-4fb9-b1ab-d32ee9db9f66"
            },
            "attachments": {}
        },
        {
            "cell_type": "code",
            "source": [
                "USE BikeLager;\r\n",
                "GO\r\n",
                "\r\n",
                "SELECT Marke.Bez AS Marke, COUNT(Typ.TypId) AS Anzahl\r\n",
                "FROM Bike\r\n",
                "INNER JOIN Marke ON Bike.fk_MarkeId = Marke.MarkeId\r\n",
                "INNER JOIN Typ ON Bike.fk_TypId = Typ.TypId\r\n",
                "WHERE Typ.Bez = 'E-Bike'\r\n",
                "GROUP BY Marke.Bez;"
            ],
            "metadata": {
                "azdata_cell_guid": "ab3f4e9a-f41a-4bfe-b9ba-58da9c30c865",
                "language": "sql"
            },
            "outputs": [],
            "execution_count": null
        },
        {
            "cell_type": "markdown",
            "source": [
                "# **Aufgabe 16**"
            ],
            "metadata": {
                "azdata_cell_guid": "56a90a42-0437-4479-8284-37b3c97a6ded"
            },
            "attachments": {}
        },
        {
            "cell_type": "code",
            "source": [
                "USE BikeLager;\r\n",
                "GO\r\n",
                "\r\n",
                "SELECT Typ.Bez AS Typ\r\n",
                "FROM Typ\r\n",
                "LEFT JOIN Bike ON Bike.fk_TypId = Typ.TypId\r\n",
                "WHERE Bike.fk_TypId IS NOT NULL;"
            ],
            "metadata": {
                "azdata_cell_guid": "f5d36c29-45c4-46bb-acbc-696f3d4b58ce",
                "language": "sql"
            },
            "outputs": [
                {
                    "output_type": "display_data",
                    "data": {
                        "text/html": "Commands completed successfully."
                    },
                    "metadata": {}
                },
                {
                    "output_type": "display_data",
                    "data": {
                        "text/html": "(10 rows affected)"
                    },
                    "metadata": {}
                },
                {
                    "output_type": "display_data",
                    "data": {
                        "text/html": "Total execution time: 00:00:00.004"
                    },
                    "metadata": {}
                },
                {
                    "output_type": "execute_result",
                    "metadata": {},
                    "execution_count": 7,
                    "data": {
                        "application/vnd.dataresource+json": {
                            "schema": {
                                "fields": [
                                    {
                                        "name": "Typ"
                                    }
                                ]
                            },
                            "data": [
                                {
                                    "Typ": "Citybike"
                                },
                                {
                                    "Typ": "E-Bike"
                                },
                                {
                                    "Typ": "E-Bike"
                                },
                                {
                                    "Typ": "E-Bike"
                                },
                                {
                                    "Typ": "E-Bike"
                                },
                                {
                                    "Typ": "Mountainbike"
                                },
                                {
                                    "Typ": "Kinderbike"
                                },
                                {
                                    "Typ": "Mountainbike"
                                },
                                {
                                    "Typ": "Citybike"
                                },
                                {
                                    "Typ": "Mountainbike"
                                }
                            ]
                        },
                        "text/html": [
                            "<table>",
                            "<tr><th>Typ</th></tr>",
                            "<tr><td>Citybike</td></tr>",
                            "<tr><td>E-Bike</td></tr>",
                            "<tr><td>E-Bike</td></tr>",
                            "<tr><td>E-Bike</td></tr>",
                            "<tr><td>E-Bike</td></tr>",
                            "<tr><td>Mountainbike</td></tr>",
                            "<tr><td>Kinderbike</td></tr>",
                            "<tr><td>Mountainbike</td></tr>",
                            "<tr><td>Citybike</td></tr>",
                            "<tr><td>Mountainbike</td></tr>",
                            "</table>"
                        ]
                    }
                }
            ],
            "execution_count": 7
        },
        {
            "cell_type": "markdown",
            "source": [
                "# **Aufgabe 17**"
            ],
            "metadata": {
                "azdata_cell_guid": "70caf717-1b28-411b-97ef-82347a40a31a"
            },
            "attachments": {}
        },
        {
            "cell_type": "code",
            "source": [
                "USE BikeLager;\r\n",
                "GO\r\n",
                "\r\n",
                "SELECT Marke.Bez AS Marke, Bike.Bez AS Bike, \r\n",
                "    Bike.Preis - (Bike.Preis * 7.7 / 107.7) AS 'VP exkl.', \r\n",
                "    Bike.Preis * 7.7 / 107.7 AS 'MWST (7.7%)', \r\n",
                "    Bike.Preis AS 'VP inkl.'\r\n",
                "FROM Bike\r\n",
                "INNER JOIN Marke ON Bike.fk_MarkeId = Marke.MarkeId\r\n",
                "ORDER BY Marke.Bez;"
            ],
            "metadata": {
                "azdata_cell_guid": "6595dba4-046e-410b-89d4-1e3dfef72d2e",
                "language": "sql"
            },
            "outputs": [],
            "execution_count": null
        },
        {
            "cell_type": "markdown",
            "source": [
                "# **Aufgabe 18**"
            ],
            "metadata": {
                "azdata_cell_guid": "894241bd-d037-4c4e-9c46-046235d908b1"
            },
            "attachments": {}
        },
        {
            "cell_type": "code",
            "source": [
                "USE BikeLager;\r\n",
                "GO\r\n",
                "\r\n",
                "SELECT CAST(ROUND(SUM(Bike.Preis * 15.75 / 100), 2) AS DECIMAL(10,2)) AS Gewinn FROM Bike;"
            ],
            "metadata": {
                "azdata_cell_guid": "8eaea1ab-d0db-4328-83d0-f83aa1b8db82",
                "language": "sql"
            },
            "outputs": [],
            "execution_count": null
        },
        {
            "cell_type": "markdown",
            "source": [
                "# **Aufgabe 19**"
            ],
            "metadata": {
                "azdata_cell_guid": "2297bd38-54c8-4a89-9db7-a19d27a9fc0f"
            },
            "attachments": {}
        },
        {
            "cell_type": "code",
            "source": [
                "USE BikeLager;\r\n",
                "GO\r\n",
                "\r\n",
                "SELECT CAST(ROUND(SUM((Bike.Preis + 80) * 15.75 / 100), 2) AS DECIMAL(10,2)) AS Gewinn FROM Bike;"
            ],
            "metadata": {
                "azdata_cell_guid": "5b1f7541-809a-42a3-9d72-9dfecc63b831",
                "language": "sql"
            },
            "outputs": [],
            "execution_count": null
        },
        {
            "cell_type": "markdown",
            "source": [
                "# **Aufgabe 20**"
            ],
            "metadata": {
                "azdata_cell_guid": "00408393-bd23-4863-a907-9c2ae77b7d48"
            },
            "attachments": {}
        },
        {
            "cell_type": "code",
            "source": [
                "USE BikeLager;\r\n",
                "GO\r\n",
                "\r\n",
                "SELECT Marke.Bez AS Marke, Typ.Bez AS Typ, Bike.Bez AS Bike, Bike.Preis AS Normalpreis, Bike.Preis - 200 AS Aktionspreis\r\n",
                "FROM Bike\r\n",
                "INNER JOIN Typ ON Typ.TypId = Bike.fk_TypId\r\n",
                "INNER JOIN Marke ON Marke.MarkeId = Bike.fk_MarkeId\r\n",
                "WHERE (Typ.Bez = 'E-Bike' \r\n",
                "    OR Typ.Bez = 'Kinderbike'   \r\n",
                "    OR Typ.Bez = 'Mountainbike'\r\n",
                "    OR Typ.Bez = 'Rennvelo')\r\n",
                "    AND Bike.Preis > 1000\r\n",
                "ORDER BY Aktionspreis DESC;"
            ],
            "metadata": {
                "azdata_cell_guid": "4fe7de95-0950-4599-ad55-f000b781ba78",
                "language": "sql"
            },
            "outputs": [
{
    "output_type": "display_data",
    "data": {
        "text/html": "Commands completed successfully."
    },
    "metadata": {}
}, {
    "output_type": "display_data",
    "data": {
        "text/html": "(6 rows affected)"
    },
    "metadata": {}
}, {
    "output_type": "display_data",
    "data": {
        "text/html": "Total execution time: 00:00:00.012"
    },
    "metadata": {}
}, {
    "output_type": "execute_result",
    "metadata": {},
    "execution_count": 8,
    "data": {
        "application/vnd.dataresource+json": {
            "schema": {
                "fields": [
                    {
                        "name": "Marke"
                    },
                    {
                        "name": "Typ"
                    },
                    {
                        "name": "Bike"
                    },
                    {
                        "name": "Normalpreis"
                    },
                    {
                        "name": "Aktionspreis"
                    }
                ]
            },
            "data": [
                {
                    "Marke": "Trek",
                    "Typ": "E-Bike",
                    "Bike": "Powerfly FS 7",
                    "Normalpreis": "5399.00",
                    "Aktionspreis": "5199.00"
                },
                {
                    "Marke": "Flyer",
                    "Typ": "E-Bike",
                    "Bike": "Uproc 3",
                    "Normalpreis": "4599.00",
                    "Aktionspreis": "4399.00"
                },
                {
                    "Marke": "Trek",
                    "Typ": "Mountainbike",
                    "Bike": "Fuel EX 9.8",
                    "Normalpreis": "3999.00",
                    "Aktionspreis": "3799.00"
                },
                {
                    "Marke": "Flyer",
                    "Typ": "E-Bike",
                    "Bike": "Upstreet 5",
                    "Normalpreis": "3899.00",
                    "Aktionspreis": "3699.00"
                },
                {
                    "Marke": "Flyer",
                    "Typ": "E-Bike",
                    "Bike": "C 5.1",
                    "Normalpreis": "3199.00",
                    "Aktionspreis": "2999.00"
                },
                {
                    "Marke": "Scott",
                    "Typ": "Mountainbike",
                    "Bike": "Scale 950",
                    "Normalpreis": "1199.00",
                    "Aktionspreis": "999.00"
                }
            ]
        },
        "text/html": [
            "<table>",
            "<tr><th>Marke</th><th>Typ</th><th>Bike</th><th>Normalpreis</th><th>Aktionspreis</th></tr>",
            "<tr><td>Trek</td><td>E-Bike</td><td>Powerfly FS 7</td><td>5399.00</td><td>5199.00</td></tr>",
            "<tr><td>Flyer</td><td>E-Bike</td><td>Uproc 3</td><td>4599.00</td><td>4399.00</td></tr>",
            "<tr><td>Trek</td><td>Mountainbike</td><td>Fuel EX 9.8</td><td>3999.00</td><td>3799.00</td></tr>",
            "<tr><td>Flyer</td><td>E-Bike</td><td>Upstreet 5</td><td>3899.00</td><td>3699.00</td></tr>",
            "<tr><td>Flyer</td><td>E-Bike</td><td>C 5.1</td><td>3199.00</td><td>2999.00</td></tr>",
            "<tr><td>Scott</td><td>Mountainbike</td><td>Scale 950</td><td>1199.00</td><td>999.00</td></tr>",
            "</table>"
        ]
    }
}
],
            "execution_count": 8
        }
    ]
}