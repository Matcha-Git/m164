{
    "metadata": {
        "kernelspec": {
            "name": "SQL",
            "display_name": "SQL",
            "language": "sql"
        },
        "language_info": {
            "name": "sql",
            "version": ""
        },
        "connection_name": ""
    },
    "nbformat_minor": 2,
    "nbformat": 4,
    "cells": [
        {
            "cell_type": "markdown",
            "source": [
                "# **Aufgabe 1**"
            ],
            "metadata": {
                "azdata_cell_guid": "8b8f552d-c3a4-40f0-8a01-3ad753bd99fc"
            },
            "attachments": {}
        },
        {
            "cell_type": "code",
            "source": [
                "USE Stundenplan;\r\n",
                "GO\r\n",
                "\r\n",
                "SELECT Klasse.Bez, Lernender.Vorname, Lernender.Nachname FROM Lernender\r\n",
                "INNER JOIN LeIstInKl ON Lernender.LernenderId = LeIstInKl.fk_LernenderId\r\n",
                "INNER JOIN Klasse ON Klasse.KlasseId = LeIstInKl.fk_KlasseId\r\n",
                "ORDER BY Klasse.Bez, Lernender.Nachname, Lernender.LernenderId;"
            ],
            "metadata": {
                "azdata_cell_guid": "c9f4a137-b22c-4bce-a879-c167c6991814",
                "language": "sql"
            },
            "outputs": [
                {
                    "output_type": "display_data",
                    "data": {
                        "text/html": "Commands completed successfully."
                    },
                    "metadata": {}
                },
                {
                    "output_type": "display_data",
                    "data": {
                        "text/html": "(30 rows affected)"
                    },
                    "metadata": {}
                },
                {
                    "output_type": "display_data",
                    "data": {
                        "text/html": "Total execution time: 00:00:00.023"
                    },
                    "metadata": {}
                },
                {
                    "output_type": "execute_result",
                    "metadata": {},
                    "execution_count": 2,
                    "data": {
                        "application/vnd.dataresource+json": {
                            "schema": {
                                "fields": [
                                    {
                                        "name": "Bez"
                                    },
                                    {
                                        "name": "Vorname"
                                    },
                                    {
                                        "name": "Nachname"
                                    }
                                ]
                            },
                            "data": [
                                {
                                    "Bez": "INA1a",
                                    "Vorname": "Julia",
                                    "Nachname": "Becker"
                                },
                                {
                                    "Bez": "INA1a",
                                    "Vorname": "Lena",
                                    "Nachname": "Heer"
                                },
                                {
                                    "Bez": "INA1a",
                                    "Vorname": "Esther",
                                    "Nachname": "Hodel"
                                },
                                {
                                    "Bez": "INA1a",
                                    "Vorname": "Remo",
                                    "Nachname": "Jenni"
                                },
                                {
                                    "Bez": "INA1a",
                                    "Vorname": "Ivan",
                                    "Nachname": "Kurmann"
                                },
                                {
                                    "Bez": "INA1a",
                                    "Vorname": "Lara",
                                    "Nachname": "Wagner"
                                },
                                {
                                    "Bez": "INA1b",
                                    "Vorname": "Andrea",
                                    "Nachname": "Baumann"
                                },
                                {
                                    "Bez": "INA1b",
                                    "Vorname": "Doris",
                                    "Nachname": "Heim"
                                },
                                {
                                    "Bez": "INA1b",
                                    "Vorname": "Lisa",
                                    "Nachname": "Marti"
                                },
                                {
                                    "Bez": "INA1b",
                                    "Vorname": "Ueli",
                                    "Nachname": "Merz"
                                },
                                {
                                    "Bez": "INA1b",
                                    "Vorname": "Selina",
                                    "Nachname": "Muri"
                                },
                                {
                                    "Bez": "INA1b",
                                    "Vorname": "Adrian",
                                    "Nachname": "Spörri"
                                },
                                {
                                    "Bez": "INA2a",
                                    "Vorname": "Ivo",
                                    "Nachname": "Felder"
                                },
                                {
                                    "Bez": "INA2a",
                                    "Vorname": "Oliver",
                                    "Nachname": "Furrer"
                                },
                                {
                                    "Bez": "INA2a",
                                    "Vorname": "Melanie",
                                    "Nachname": "Keller"
                                },
                                {
                                    "Bez": "INA2a",
                                    "Vorname": "Florian",
                                    "Nachname": "Koch"
                                },
                                {
                                    "Bez": "INA2a",
                                    "Vorname": "Jessica",
                                    "Nachname": "Maurer"
                                },
                                {
                                    "Bez": "INA2a",
                                    "Vorname": "Claudia",
                                    "Nachname": "Scherrer"
                                },
                                {
                                    "Bez": "INA2b",
                                    "Vorname": "Samuel",
                                    "Nachname": "Gasser"
                                },
                                {
                                    "Bez": "INA2b",
                                    "Vorname": "David",
                                    "Nachname": "Gisler"
                                },
                                {
                                    "Bez": "INA2b",
                                    "Vorname": "Michael",
                                    "Nachname": "Herger"
                                },
                                {
                                    "Bez": "INA2b",
                                    "Vorname": "Silvia",
                                    "Nachname": "Kunz"
                                },
                                {
                                    "Bez": "INA2b",
                                    "Vorname": "Kevin",
                                    "Nachname": "Schenker"
                                },
                                {
                                    "Bez": "INA2b",
                                    "Vorname": "Tamara",
                                    "Nachname": "Zihlmann"
                                },
                                {
                                    "Bez": "INP1a",
                                    "Vorname": "Lino",
                                    "Nachname": "Bieri"
                                },
                                {
                                    "Bez": "INP1a",
                                    "Vorname": "Anja",
                                    "Nachname": "Graf"
                                },
                                {
                                    "Bez": "INP1a",
                                    "Vorname": "Sabrina",
                                    "Nachname": "Isenschmid"
                                },
                                {
                                    "Bez": "INP1a",
                                    "Vorname": "Pascal",
                                    "Nachname": "Sager"
                                },
                                {
                                    "Bez": "INP1a",
                                    "Vorname": "Sandra",
                                    "Nachname": "Suter"
                                },
                                {
                                    "Bez": "INP1a",
                                    "Vorname": "Fabian",
                                    "Nachname": "Zeller"
                                }
                            ]
                        },
                        "text/html": [
                            "<table>",
                            "<tr><th>Bez</th><th>Vorname</th><th>Nachname</th></tr>",
                            "<tr><td>INA1a</td><td>Julia</td><td>Becker</td></tr>",
                            "<tr><td>INA1a</td><td>Lena</td><td>Heer</td></tr>",
                            "<tr><td>INA1a</td><td>Esther</td><td>Hodel</td></tr>",
                            "<tr><td>INA1a</td><td>Remo</td><td>Jenni</td></tr>",
                            "<tr><td>INA1a</td><td>Ivan</td><td>Kurmann</td></tr>",
                            "<tr><td>INA1a</td><td>Lara</td><td>Wagner</td></tr>",
                            "<tr><td>INA1b</td><td>Andrea</td><td>Baumann</td></tr>",
                            "<tr><td>INA1b</td><td>Doris</td><td>Heim</td></tr>",
                            "<tr><td>INA1b</td><td>Lisa</td><td>Marti</td></tr>",
                            "<tr><td>INA1b</td><td>Ueli</td><td>Merz</td></tr>",
                            "<tr><td>INA1b</td><td>Selina</td><td>Muri</td></tr>",
                            "<tr><td>INA1b</td><td>Adrian</td><td>Spörri</td></tr>",
                            "<tr><td>INA2a</td><td>Ivo</td><td>Felder</td></tr>",
                            "<tr><td>INA2a</td><td>Oliver</td><td>Furrer</td></tr>",
                            "<tr><td>INA2a</td><td>Melanie</td><td>Keller</td></tr>",
                            "<tr><td>INA2a</td><td>Florian</td><td>Koch</td></tr>",
                            "<tr><td>INA2a</td><td>Jessica</td><td>Maurer</td></tr>",
                            "<tr><td>INA2a</td><td>Claudia</td><td>Scherrer</td></tr>",
                            "<tr><td>INA2b</td><td>Samuel</td><td>Gasser</td></tr>",
                            "<tr><td>INA2b</td><td>David</td><td>Gisler</td></tr>",
                            "<tr><td>INA2b</td><td>Michael</td><td>Herger</td></tr>",
                            "<tr><td>INA2b</td><td>Silvia</td><td>Kunz</td></tr>",
                            "<tr><td>INA2b</td><td>Kevin</td><td>Schenker</td></tr>",
                            "<tr><td>INA2b</td><td>Tamara</td><td>Zihlmann</td></tr>",
                            "<tr><td>INP1a</td><td>Lino</td><td>Bieri</td></tr>",
                            "<tr><td>INP1a</td><td>Anja</td><td>Graf</td></tr>",
                            "<tr><td>INP1a</td><td>Sabrina</td><td>Isenschmid</td></tr>",
                            "<tr><td>INP1a</td><td>Pascal</td><td>Sager</td></tr>",
                            "<tr><td>INP1a</td><td>Sandra</td><td>Suter</td></tr>",
                            "<tr><td>INP1a</td><td>Fabian</td><td>Zeller</td></tr>",
                            "</table>"
                        ]
                    }
                }
            ],
            "execution_count": 2
        },
        {
            "cell_type": "markdown",
            "source": [
                "# **Aufgabe 2**"
            ],
            "metadata": {
                "azdata_cell_guid": "3175b066-238f-4c83-ae4d-3be484621eb6"
            },
            "attachments": {}
        },
        {
            "cell_type": "code",
            "source": [
                "USE Stundenplan;\r\n",
                "GO\r\n",
                "\r\n",
                "SELECT Klasse.Bez,\r\n",
                "CONCAT(Lehrperson.Vorname,'',Lehrperson.Nachname) AS KLP FROM Klasse\r\n",
                "INNER JOIN Lehrperson ON Lehrperson.LehrpersonId = Klasse.fk_LehrpersonId\r\n",
                "ORDER BY Klasse.Bez;"
            ],
            "metadata": {
                "azdata_cell_guid": "f75d1aa2-2cd2-4615-bd10-69eede7883ae",
                "language": "sql"
            },
            "outputs": [
                {
                    "output_type": "display_data",
                    "data": {
                        "text/html": "Commands completed successfully."
                    },
                    "metadata": {}
                },
                {
                    "output_type": "display_data",
                    "data": {
                        "text/html": "(6 rows affected)"
                    },
                    "metadata": {}
                },
                {
                    "output_type": "display_data",
                    "data": {
                        "text/html": "Total execution time: 00:00:00.011"
                    },
                    "metadata": {}
                },
                {
                    "output_type": "execute_result",
                    "metadata": {},
                    "execution_count": 13,
                    "data": {
                        "application/vnd.dataresource+json": {
                            "schema": {
                                "fields": [
                                    {
                                        "name": "Bez"
                                    },
                                    {
                                        "name": "KLP"
                                    }
                                ]
                            },
                            "data": [
                                {
                                    "Bez": "INA1a",
                                    "KLP": "MaxWolf"
                                },
                                {
                                    "Bez": "INA1b",
                                    "KLP": "MonikaRohrer"
                                },
                                {
                                    "Bez": "INA2a",
                                    "KLP": "NicoleBirrer"
                                },
                                {
                                    "Bez": "INA2b",
                                    "KLP": "BrunoSuter"
                                },
                                {
                                    "Bez": "INP1a",
                                    "KLP": "MariaWidmer"
                                },
                                {
                                    "Bez": "INP2a",
                                    "KLP": "BrunoSuter"
                                }
                            ]
                        },
                        "text/html": [
                            "<table>",
                            "<tr><th>Bez</th><th>KLP</th></tr>",
                            "<tr><td>INA1a</td><td>MaxWolf</td></tr>",
                            "<tr><td>INA1b</td><td>MonikaRohrer</td></tr>",
                            "<tr><td>INA2a</td><td>NicoleBirrer</td></tr>",
                            "<tr><td>INA2b</td><td>BrunoSuter</td></tr>",
                            "<tr><td>INP1a</td><td>MariaWidmer</td></tr>",
                            "<tr><td>INP2a</td><td>BrunoSuter</td></tr>",
                            "</table>"
                        ]
                    }
                }
            ],
            "execution_count": 13
        },
        {
            "cell_type": "markdown",
            "source": [
                "# **Aufgabe 3**"
            ],
            "metadata": {
                "language": "sql",
                "azdata_cell_guid": "7779eafe-e886-4690-ad88-0370a75b8ee3"
            },
            "attachments": {}
        },
        {
            "cell_type": "code",
            "source": [
                ""
            ],
            "metadata": {
                "language": "sql",
                "azdata_cell_guid": "be07c24c-0f88-4077-afef-09ea0104c392"
            },
            "outputs": [],
            "execution_count": null
        },
        {
            "cell_type": "markdown",
            "source": [
                "# **Aufgabe 4**"
            ],
            "metadata": {
                "language": "sql",
                "azdata_cell_guid": "660dabc0-050c-4cad-97d7-0f25a204adbf"
            },
            "attachments": {}
        },
        {
            "cell_type": "code",
            "source": [
                ""
            ],
            "metadata": {
                "language": "sql",
                "azdata_cell_guid": "ff24aff7-15b0-411e-a36d-6ca29053cbfa"
            },
            "outputs": [],
            "execution_count": null
        },
        {
            "cell_type": "markdown",
            "source": [
                "# **Aufgabe 5**"
            ],
            "metadata": {
                "language": "sql",
                "azdata_cell_guid": "1231cd38-110b-4f68-81d6-3e72a7a6d393"
            },
            "attachments": {}
        },
        {
            "cell_type": "code",
            "source": [
                ""
            ],
            "metadata": {
                "language": "sql",
                "azdata_cell_guid": "99e7dccf-4a43-443e-aff8-054dfcd7ba86"
            },
            "outputs": [],
            "execution_count": null
        },
        {
            "cell_type": "markdown",
            "source": [
                "# **Aufgabe 6**"
            ],
            "metadata": {
                "language": "sql",
                "azdata_cell_guid": "b0528216-40bf-4448-8998-2b3ac65534b6"
            }
        }
    ]
}