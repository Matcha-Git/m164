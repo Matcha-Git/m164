{
    "metadata": {
        "kernelspec": {
            "name": "SQL",
            "display_name": "SQL",
            "language": "sql"
        },
        "language_info": {
            "name": "sql",
            "version": ""
        },
        "connection_name": ""
    },
    "nbformat_minor": 2,
    "nbformat": 4,
    "cells": [
        {
            "cell_type": "markdown",
            "source": [
                "# **Datenbank und Tabelle ertsellen**"
            ],
            "metadata": {
                "azdata_cell_guid": "3d02a3bb-92f8-4108-aeaf-7ccbd9948bd1"
            },
            "attachments": {}
        },
        {
            "cell_type": "code",
            "source": [
                "USE master;\r\n",
                "GO\r\n",
                "\r\n",
                "CREATE DATABASE Fahrzeugpark;"
            ],
            "metadata": {
                "azdata_cell_guid": "cd37db20-9d24-443f-89bb-92c9944c82de",
                "language": "sql"
            },
            "outputs": [
                {
                    "output_type": "display_data",
                    "data": {
                        "text/html": "Commands completed successfully."
                    },
                    "metadata": {}
                },
                {
                    "output_type": "display_data",
                    "data": {
                        "text/html": "Commands completed successfully."
                    },
                    "metadata": {}
                },
                {
                    "output_type": "display_data",
                    "data": {
                        "text/html": "Total execution time: 00:00:00.280"
                    },
                    "metadata": {}
                }
            ],
            "execution_count": 2
        },
        {
            "cell_type": "code",
            "source": [
                "USE Fahrzeugpark;\r\n",
                "GO\r\n",
                "\r\n",
                "CREATE TABLE Mitarbeiter(\r\n",
                "    MitarbeiterID INT IDENTITY(1,1),\r\n",
                "    Nachname VARCHAR(30),\r\n",
                "    Vorname VARCHAR(30),\r\n",
                "    PRIMARY KEY(MitarbeiterID)\r\n",
                ");\r\n",
                "\r\n",
                "CREATE TABLE Fahrzeug (\r\n",
                "    FahrzeugId INT IDENTITY(1,1),\r\n",
                "    Marke VARCHAR(50),\r\n",
                "    Typ VARCHAR(50),\r\n",
                "    NeuPreis DECIMAL(9,2),\r\n",
                "    Jahrgang INT,\r\n",
                "    Occasion BIT,\r\n",
                "    fk_MitarbeiterID INT,\r\n",
                "    PRIMARY KEY(FahrzeugId),\r\n",
                "    FOREIGN KEY (fk_MitarbeiterID) REFERENCES Mitarbeiter(MitarbeiterID)\r\n",
                ");"
            ],
            "metadata": {
                "language": "sql",
                "azdata_cell_guid": "ba1fb00e-ab55-465c-b14a-0b9d076891c4"
            },
            "outputs": [
{
    "output_type": "display_data",
    "data": {
        "text/html": "Commands completed successfully."
    },
    "metadata": {}
}, {
    "output_type": "display_data",
    "data": {
        "text/html": "Commands completed successfully."
    },
    "metadata": {}
}, {
    "output_type": "display_data",
    "data": {
        "text/html": "Total execution time: 00:00:00.120"
    },
    "metadata": {}
}
],
            "execution_count": 3
        }
    ]
}