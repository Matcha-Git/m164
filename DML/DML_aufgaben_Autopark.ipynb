{
    "metadata": {
        "kernelspec": {
            "name": "SQL",
            "display_name": "SQL",
            "language": "sql"
        },
        "language_info": {
            "name": "sql",
            "version": ""
        },
        "connection_name": ""
    },
    "nbformat_minor": 2,
    "nbformat": 4,
    "cells": [
        {
            "cell_type": "markdown",
            "source": [
                "# **Datenbank und Tabelle ertsellen**"
            ],
            "metadata": {
                "azdata_cell_guid": "3d02a3bb-92f8-4108-aeaf-7ccbd9948bd1"
            },
            "attachments": {}
        },
        {
            "cell_type": "code",
            "source": [
                "USE master;\n",
                "GO\n",
                "\n",
                "CREATE DATABASE Fahrzeugpark;"
            ],
            "metadata": {
                "azdata_cell_guid": "cd37db20-9d24-443f-89bb-92c9944c82de",
                "language": "sql"
            },
            "outputs": [
                {
                    "output_type": "display_data",
                    "data": {
                        "text/html": "Commands completed successfully."
                    },
                    "metadata": {}
                },
                {
                    "output_type": "display_data",
                    "data": {
                        "text/html": "Commands completed successfully."
                    },
                    "metadata": {}
                },
                {
                    "output_type": "display_data",
                    "data": {
                        "text/html": "Total execution time: 00:00:00.280"
                    },
                    "metadata": {}
                }
            ],
            "execution_count": 2
        },
        {
            "cell_type": "code",
            "source": [
                "USE Fahrzeugpark;\n",
                "GO\n",
                "\n",
                "CREATE TABLE Mitarbeiter(\n",
                "    MitarbeiterID INT IDENTITY(1,1),\n",
                "    Nachname VARCHAR(30),\n",
                "    Vorname VARCHAR(30),\n",
                "    PRIMARY KEY(MitarbeiterID)\n",
                ");\n",
                "\n",
                "CREATE TABLE Fahrzeug (\n",
                "    FahrzeugId INT IDENTITY(1,1),\n",
                "    Marke VARCHAR(50),\n",
                "    Typ VARCHAR(50),\n",
                "    NeuPreis DECIMAL(9,2),\n",
                "    Jahrgang INT,\n",
                "    Occasion BIT,\n",
                "    fk_MitarbeiterID INT,\n",
                "    PRIMARY KEY(FahrzeugId),\n",
                "    FOREIGN KEY (fk_MitarbeiterID) REFERENCES Mitarbeiter(MitarbeiterID)\n",
                ");"
            ],
            "metadata": {
                "azdata_cell_guid": "ba1fb00e-ab55-465c-b14a-0b9d076891c4",
                "language": "sql"
            },
            "outputs": [
                {
                    "output_type": "display_data",
                    "data": {
                        "text/html": "Commands completed successfully."
                    },
                    "metadata": {}
                },
                {
                    "output_type": "display_data",
                    "data": {
                        "text/html": "Commands completed successfully."
                    },
                    "metadata": {}
                },
                {
                    "output_type": "display_data",
                    "data": {
                        "text/html": "Total execution time: 00:00:00.120"
                    },
                    "metadata": {}
                }
            ],
            "execution_count": 3
        },
        {
            "cell_type": "markdown",
            "source": [
                "# **Daten einfügen**"
            ],
            "metadata": {
                "azdata_cell_guid": "0f4d4c85-597c-4455-9ab0-9652318baae5"
            },
            "attachments": {}
        },
        {
            "cell_type": "code",
            "source": [
                "USE Fahrzeugpark;\n",
                "GO\n",
                "\n",
                "INSERT INTO Mitarbeiter(Nachname,Vorname)\n",
                "VALUES\n",
                "('Cuche','Didier'),\n",
                "('Feuz','Beat'),\n",
                "('Figini','Michela'),\n",
                "('Gut-Behrami','Lara'),\n",
                "('Heinzer','Franz'),\n",
                "('Hess','Erika'),\n",
                "('Janka','Carlo'),\n",
                "('Müller','Peter'),\n",
                "('Nadig','Marie-Theres'),\n",
                "('Odermatt','Marco'),\n",
                "('Schneider','Verni'),\n",
                "('Zurbriggen','Pirmin');"
            ],
            "metadata": {
                "azdata_cell_guid": "95adc12c-5105-4161-b003-987ac624abe0",
                "language": "sql"
            },
            "outputs": [
                {
                    "output_type": "display_data",
                    "data": {
                        "text/html": "Commands completed successfully."
                    },
                    "metadata": {}
                },
                {
                    "output_type": "display_data",
                    "data": {
                        "text/html": "(12 rows affected)"
                    },
                    "metadata": {}
                },
                {
                    "output_type": "display_data",
                    "data": {
                        "text/html": "Total execution time: 00:00:00.248"
                    },
                    "metadata": {}
                }
            ],
            "execution_count": 1
        },
        {
            "cell_type": "code",
            "source": [
                "Select * FROM Mitarbeiter;"
            ],
            "metadata": {
                "azdata_cell_guid": "f58fb02e-9083-4868-a8b0-93e525002308",
                "language": "sql"
            },
            "outputs": [
                {
                    "output_type": "display_data",
                    "data": {
                        "text/html": "(12 rows affected)"
                    },
                    "metadata": {}
                },
                {
                    "output_type": "display_data",
                    "data": {
                        "text/html": "Total execution time: 00:00:00.027"
                    },
                    "metadata": {}
                },
                {
                    "output_type": "execute_result",
                    "execution_count": 2,
                    "data": {
                        "application/vnd.dataresource+json": {
                            "data": [
                                {
                                    "MitarbeiterID": "1",
                                    "Nachname": "Cuche",
                                    "Vorname": "Didier"
                                },
                                {
                                    "MitarbeiterID": "2",
                                    "Nachname": "Feuz",
                                    "Vorname": "Beat"
                                },
                                {
                                    "MitarbeiterID": "3",
                                    "Nachname": "Figini",
                                    "Vorname": "Michela"
                                },
                                {
                                    "MitarbeiterID": "4",
                                    "Nachname": "Gut-Behrami",
                                    "Vorname": "Lara"
                                },
                                {
                                    "MitarbeiterID": "5",
                                    "Nachname": "Heinzer",
                                    "Vorname": "Franz"
                                },
                                {
                                    "MitarbeiterID": "6",
                                    "Nachname": "Hess",
                                    "Vorname": "Erika"
                                },
                                {
                                    "MitarbeiterID": "7",
                                    "Nachname": "Janka",
                                    "Vorname": "Carlo"
                                },
                                {
                                    "MitarbeiterID": "8",
                                    "Nachname": "Müller",
                                    "Vorname": "Peter"
                                },
                                {
                                    "MitarbeiterID": "9",
                                    "Nachname": "Nadig",
                                    "Vorname": "Marie-Theres"
                                },
                                {
                                    "MitarbeiterID": "10",
                                    "Nachname": "Odermatt",
                                    "Vorname": "Marco"
                                },
                                {
                                    "MitarbeiterID": "11",
                                    "Nachname": "Schneider",
                                    "Vorname": "Verni"
                                },
                                {
                                    "MitarbeiterID": "12",
                                    "Nachname": "Zurbriggen",
                                    "Vorname": "Pirmin"
                                }
                            ],
                            "schema": {
                                "fields": [
                                    {
                                        "name": "MitarbeiterID"
                                    },
                                    {
                                        "name": "Nachname"
                                    },
                                    {
                                        "name": "Vorname"
                                    }
                                ]
                            }
                        },
                        "text/html": "<table>\n<tr><th>MitarbeiterID</th><th>Nachname</th><th>Vorname</th></tr>\n<tr><td>1</td><td>Cuche</td><td>Didier</td></tr>\n<tr><td>2</td><td>Feuz</td><td>Beat</td></tr>\n<tr><td>3</td><td>Figini</td><td>Michela</td></tr>\n<tr><td>4</td><td>Gut-Behrami</td><td>Lara</td></tr>\n<tr><td>5</td><td>Heinzer</td><td>Franz</td></tr>\n<tr><td>6</td><td>Hess</td><td>Erika</td></tr>\n<tr><td>7</td><td>Janka</td><td>Carlo</td></tr>\n<tr><td>8</td><td>Müller</td><td>Peter</td></tr>\n<tr><td>9</td><td>Nadig</td><td>Marie-Theres</td></tr>\n<tr><td>10</td><td>Odermatt</td><td>Marco</td></tr>\n<tr><td>11</td><td>Schneider</td><td>Verni</td></tr>\n<tr><td>12</td><td>Zurbriggen</td><td>Pirmin</td></tr>\n</table>"
                    },
                    "metadata": {}
                }
            ],
            "execution_count": 2
        },
        {
            "cell_type": "code",
            "source": [
                "USE Fahrzeugpark;\n",
                "GO\n",
                "\n",
                "INSERT INTO Fahrzeug(Marke,Typ,NeuPreis,Occasion,Jahrgang)\n",
                "VALUES\n",
                "('Ford','Model T',825.00,0,1908),\n",
                "('Volkswagen','Käfer',5000.00,1,1938),\n",
                "('Chervrolet','Corvette C1',3500.00,1,1953),\n",
                "('Mercedes-Benz','300 SL Flügeltürer',29000.00,1,1954),\n",
                "('Mini','Mini Cooper',497.00,1,1959),\n",
                "('Jaguar','E-Type',2250.00,1,1961),\n",
                "('Ferrari','250 GTO',18000.00,0,1962),\n",
                "('Porsche','911',14500.00,1,1964),\n",
                "('Ford','Mustang',2368.00,0,1964),\n",
                "('Lamborghini','Miura',20000.00,0,1966),\n",
                "('Toyota','Corolla(erste Generation)',1100.00,1,1966),\n",
                "('Toyota','Prius (erste Generation)',35000.00,0,1967);"
            ],
            "metadata": {
                "azdata_cell_guid": "b8fb8a01-5e61-487d-b30a-7c5c27dfb6e4",
                "language": "sql"
            },
            "outputs": [
                {
                    "output_type": "display_data",
                    "data": {
                        "text/html": "Commands completed successfully."
                    },
                    "metadata": {}
                },
                {
                    "output_type": "display_data",
                    "data": {
                        "text/html": "(12 rows affected)"
                    },
                    "metadata": {}
                },
                {
                    "output_type": "display_data",
                    "data": {
                        "text/html": "Total execution time: 00:00:00.009"
                    },
                    "metadata": {}
                }
            ],
            "execution_count": 3
        },
        {
            "cell_type": "markdown",
            "source": [
                "# **Mitarbeiter und Fahrzeuge zuweisen**"
            ],
            "metadata": {
                "azdata_cell_guid": "d77b47bf-d115-4f56-8d46-371ae67d6380",
                "language": "sql"
            },
            "attachments": {}
        },
        {
            "cell_type": "code",
            "source": [
                "USE Fahrzeugpark;\r\n",
                "GO\r\n",
                "\r\n",
                "SELECT * FROM Mitarbeiter WHERE Vorname LIKE 'Beat';"
            ],
            "metadata": {
                "language": "sql",
                "azdata_cell_guid": "1c107a9a-d661-4e50-9e51-b87943c45f4a"
            },
            "outputs": [
                {
                    "output_type": "display_data",
                    "data": {
                        "text/html": "Commands completed successfully."
                    },
                    "metadata": {}
                },
                {
                    "output_type": "display_data",
                    "data": {
                        "text/html": "(1 row affected)"
                    },
                    "metadata": {}
                },
                {
                    "output_type": "display_data",
                    "data": {
                        "text/html": "Total execution time: 00:00:00.160"
                    },
                    "metadata": {}
                },
                {
                    "output_type": "execute_result",
                    "execution_count": 1,
                    "data": {
                        "application/vnd.dataresource+json": {
                            "schema": {
                                "fields": [
                                    {
                                        "name": "MitarbeiterID"
                                    },
                                    {
                                        "name": "Nachname"
                                    },
                                    {
                                        "name": "Vorname"
                                    }
                                ]
                            },
                            "data": [
                                {
                                    "MitarbeiterID": "2",
                                    "Nachname": "Feuz",
                                    "Vorname": "Beat"
                                }
                            ]
                        },
                        "text/html": "<table><tr><th>MitarbeiterID</th><th>Nachname</th><th>Vorname</th></tr><tr><td>2</td><td>Feuz</td><td>Beat</td></tr></table>"
                    },
                    "metadata": {}
                }
            ],
            "execution_count": 1
        },
        {
            "cell_type": "code",
            "source": [
                "UPDATE Fahrzeug SET fk_MitarbeiterID = 2 WHERE Typ = 'Käfer';"
            ],
            "metadata": {
                "language": "sql",
                "azdata_cell_guid": "d7597311-fce9-4eed-9c59-16b6165d50bb"
            },
            "outputs": [
                {
                    "output_type": "display_data",
                    "data": {
                        "text/html": "(1 row affected)"
                    },
                    "metadata": {}
                },
                {
                    "output_type": "display_data",
                    "data": {
                        "text/html": "Total execution time: 00:00:00.027"
                    },
                    "metadata": {}
                }
            ],
            "execution_count": 2
        },
        {
            "cell_type": "code",
            "source": [
                "SELECT * FROM Fahrzeug WHERE Typ = 'Käfer';"
            ],
            "metadata": {
                "language": "sql",
                "azdata_cell_guid": "a366eb8f-dd4d-4845-8043-48fdb861f502"
            },
            "outputs": [
                {
                    "output_type": "display_data",
                    "data": {
                        "text/html": "(1 row affected)"
                    },
                    "metadata": {}
                },
                {
                    "output_type": "display_data",
                    "data": {
                        "text/html": "Total execution time: 00:00:00.020"
                    },
                    "metadata": {}
                },
                {
                    "output_type": "execute_result",
                    "execution_count": 3,
                    "data": {
                        "application/vnd.dataresource+json": {
                            "schema": {
                                "fields": [
                                    {
                                        "name": "FahrzeugId"
                                    },
                                    {
                                        "name": "Marke"
                                    },
                                    {
                                        "name": "Typ"
                                    },
                                    {
                                        "name": "NeuPreis"
                                    },
                                    {
                                        "name": "Jahrgang"
                                    },
                                    {
                                        "name": "Occasion"
                                    },
                                    {
                                        "name": "fk_MitarbeiterID"
                                    }
                                ]
                            },
                            "data": [
                                {
                                    "FahrzeugId": "2",
                                    "Marke": "Volkswagen",
                                    "Typ": "Käfer",
                                    "NeuPreis": "5000.00",
                                    "Jahrgang": "1938",
                                    "Occasion": "1",
                                    "fk_MitarbeiterID": "2"
                                }
                            ]
                        },
                        "text/html": "<table><tr><th>FahrzeugId</th><th>Marke</th><th>Typ</th><th>NeuPreis</th><th>Jahrgang</th><th>Occasion</th><th>fk_MitarbeiterID</th></tr><tr><td>2</td><td>Volkswagen</td><td>Käfer</td><td>5000.00</td><td>1938</td><td>1</td><td>2</td></tr></table>"
                    },
                    "metadata": {}
                }
            ],
            "execution_count": 3
        },
        {
            "cell_type": "code",
            "source": [
                "SELECT * FROM Mitarbeiter WHERE Vorname = 'Didier'"
            ],
            "metadata": {
                "language": "sql",
                "azdata_cell_guid": "fb563110-3824-4f12-a17f-10804881079e"
            },
            "outputs": [
                {
                    "output_type": "display_data",
                    "data": {
                        "text/html": "(1 row affected)"
                    },
                    "metadata": {}
                },
                {
                    "output_type": "display_data",
                    "data": {
                        "text/html": "Total execution time: 00:00:00.005"
                    },
                    "metadata": {}
                },
                {
                    "output_type": "execute_result",
                    "execution_count": 4,
                    "data": {
                        "application/vnd.dataresource+json": {
                            "schema": {
                                "fields": [
                                    {
                                        "name": "MitarbeiterID"
                                    },
                                    {
                                        "name": "Nachname"
                                    },
                                    {
                                        "name": "Vorname"
                                    }
                                ]
                            },
                            "data": [
                                {
                                    "MitarbeiterID": "1",
                                    "Nachname": "Cuche",
                                    "Vorname": "Didier"
                                }
                            ]
                        },
                        "text/html": "<table><tr><th>MitarbeiterID</th><th>Nachname</th><th>Vorname</th></tr><tr><td>1</td><td>Cuche</td><td>Didier</td></tr></table>"
                    },
                    "metadata": {}
                }
            ],
            "execution_count": 4
        },
        {
            "cell_type": "code",
            "source": [
                "UPDATE Fahrzeug SET fk_MitarbeiterID = 1 WHERE Marke = 'Ford';"
            ],
            "metadata": {
                "language": "sql",
                "azdata_cell_guid": "c2053a9c-691c-42a4-90e7-75e9dcbc8dd9"
            },
            "outputs": [
                {
                    "output_type": "display_data",
                    "data": {
                        "text/html": "(2 rows affected)"
                    },
                    "metadata": {}
                },
                {
                    "output_type": "display_data",
                    "data": {
                        "text/html": "Total execution time: 00:00:00.019"
                    },
                    "metadata": {}
                }
            ],
            "execution_count": 5
        },
        {
            "cell_type": "code",
            "source": [
                "SELECT * FROM Fahrzeug WHERE Marke = 'Ford';"
            ],
            "metadata": {
                "language": "sql",
                "azdata_cell_guid": "c6b6a9d7-5c9b-4677-9083-06bea1ee8cf6"
            },
            "outputs": [
                {
                    "output_type": "display_data",
                    "data": {
                        "text/html": "(2 rows affected)"
                    },
                    "metadata": {}
                },
                {
                    "output_type": "display_data",
                    "data": {
                        "text/html": "Total execution time: 00:00:00.006"
                    },
                    "metadata": {}
                },
                {
                    "output_type": "execute_result",
                    "execution_count": 6,
                    "data": {
                        "application/vnd.dataresource+json": {
                            "schema": {
                                "fields": [
                                    {
                                        "name": "FahrzeugId"
                                    },
                                    {
                                        "name": "Marke"
                                    },
                                    {
                                        "name": "Typ"
                                    },
                                    {
                                        "name": "NeuPreis"
                                    },
                                    {
                                        "name": "Jahrgang"
                                    },
                                    {
                                        "name": "Occasion"
                                    },
                                    {
                                        "name": "fk_MitarbeiterID"
                                    }
                                ]
                            },
                            "data": [
                                {
                                    "FahrzeugId": "1",
                                    "Marke": "Ford",
                                    "Typ": "Model T",
                                    "NeuPreis": "825.00",
                                    "Jahrgang": "1908",
                                    "Occasion": "0",
                                    "fk_MitarbeiterID": "1"
                                },
                                {
                                    "FahrzeugId": "9",
                                    "Marke": "Ford",
                                    "Typ": "Mustang",
                                    "NeuPreis": "2368.00",
                                    "Jahrgang": "1964",
                                    "Occasion": "0",
                                    "fk_MitarbeiterID": "1"
                                }
                            ]
                        },
                        "text/html": "<table><tr><th>FahrzeugId</th><th>Marke</th><th>Typ</th><th>NeuPreis</th><th>Jahrgang</th><th>Occasion</th><th>fk_MitarbeiterID</th></tr><tr><td>1</td><td>Ford</td><td>Model T</td><td>825.00</td><td>1908</td><td>0</td><td>1</td></tr><tr><td>9</td><td>Ford</td><td>Mustang</td><td>2368.00</td><td>1964</td><td>0</td><td>1</td></tr></table>"
                    },
                    "metadata": {}
                }
            ],
            "execution_count": 6
        },
        {
            "cell_type": "markdown",
            "source": [
                "# **Käfer änderen**"
            ],
            "metadata": {
                "azdata_cell_guid": "8e8a4305-f48d-44bd-8f09-f5224994a97a"
            },
            "attachments": {}
        },
        {
            "cell_type": "code",
            "source": [
                "USE Fahrzeugpark;\r\n",
                "GO\r\n",
                "\r\n",
                "UPDATE Fahrzeug SET fk_MitarbeiterID = NULL WHERE Typ = 'Käfer';\r\n",
                "UPDATE Fahrzeug SET fk_MitarbeiterID = 2 WHERE Typ = 'Mini Cooper';"
            ],
            "metadata": {
                "azdata_cell_guid": "81843d46-ed7d-4beb-b83d-315a81b85201",
                "language": "sql"
            },
            "outputs": [
                {
                    "output_type": "display_data",
                    "data": {
                        "text/html": "Commands completed successfully."
                    },
                    "metadata": {}
                },
                {
                    "output_type": "display_data",
                    "data": {
                        "text/html": "(1 row affected)"
                    },
                    "metadata": {}
                },
                {
                    "output_type": "display_data",
                    "data": {
                        "text/html": "(1 row affected)"
                    },
                    "metadata": {}
                },
                {
                    "output_type": "display_data",
                    "data": {
                        "text/html": "Total execution time: 00:00:00.128"
                    },
                    "metadata": {}
                }
            ],
            "execution_count": 2
        },
        {
            "cell_type": "code",
            "source": [
                "SELECT * FROM Fahrzeug WHERE Typ = 'Käfer';\r\n",
                "SELECT * FROM Fahrzeug WHERE Typ = 'Mini Cooper';"
            ],
            "metadata": {
                "language": "sql",
                "azdata_cell_guid": "2848a916-9f9d-4365-9090-3582ca38e13a"
            },
            "outputs": [
                {
                    "output_type": "display_data",
                    "data": {
                        "text/html": "(1 row affected)"
                    },
                    "metadata": {}
                },
                {
                    "output_type": "display_data",
                    "data": {
                        "text/html": "(1 row affected)"
                    },
                    "metadata": {}
                },
                {
                    "output_type": "display_data",
                    "data": {
                        "text/html": "Total execution time: 00:00:00.061"
                    },
                    "metadata": {}
                },
                {
                    "output_type": "execute_result",
                    "execution_count": 3,
                    "data": {
                        "application/vnd.dataresource+json": {
                            "schema": {
                                "fields": [
                                    {
                                        "name": "FahrzeugId"
                                    },
                                    {
                                        "name": "Marke"
                                    },
                                    {
                                        "name": "Typ"
                                    },
                                    {
                                        "name": "NeuPreis"
                                    },
                                    {
                                        "name": "Jahrgang"
                                    },
                                    {
                                        "name": "Occasion"
                                    },
                                    {
                                        "name": "fk_MitarbeiterID"
                                    }
                                ]
                            },
                            "data": [
                                {
                                    "FahrzeugId": "2",
                                    "Marke": "Volkswagen",
                                    "Typ": "Käfer",
                                    "NeuPreis": "5000.00",
                                    "Jahrgang": "1938",
                                    "Occasion": "1",
                                    "fk_MitarbeiterID": "NULL"
                                }
                            ]
                        },
                        "text/html": "<table><tr><th>FahrzeugId</th><th>Marke</th><th>Typ</th><th>NeuPreis</th><th>Jahrgang</th><th>Occasion</th><th>fk_MitarbeiterID</th></tr><tr><td>2</td><td>Volkswagen</td><td>Käfer</td><td>5000.00</td><td>1938</td><td>1</td><td>NULL</td></tr></table>"
                    },
                    "metadata": {}
                },
                {
                    "output_type": "execute_result",
                    "execution_count": 3,
                    "data": {
                        "application/vnd.dataresource+json": {
                            "schema": {
                                "fields": [
                                    {
                                        "name": "FahrzeugId"
                                    },
                                    {
                                        "name": "Marke"
                                    },
                                    {
                                        "name": "Typ"
                                    },
                                    {
                                        "name": "NeuPreis"
                                    },
                                    {
                                        "name": "Jahrgang"
                                    },
                                    {
                                        "name": "Occasion"
                                    },
                                    {
                                        "name": "fk_MitarbeiterID"
                                    }
                                ]
                            },
                            "data": [
                                {
                                    "FahrzeugId": "5",
                                    "Marke": "Mini",
                                    "Typ": "Mini Cooper",
                                    "NeuPreis": "497.00",
                                    "Jahrgang": "1959",
                                    "Occasion": "1",
                                    "fk_MitarbeiterID": "2"
                                }
                            ]
                        },
                        "text/html": "<table><tr><th>FahrzeugId</th><th>Marke</th><th>Typ</th><th>NeuPreis</th><th>Jahrgang</th><th>Occasion</th><th>fk_MitarbeiterID</th></tr><tr><td>5</td><td>Mini</td><td>Mini Cooper</td><td>497.00</td><td>1959</td><td>1</td><td>2</td></tr></table>"
                    },
                    "metadata": {}
                }
            ],
            "execution_count": 3
        },
        {
            "cell_type": "markdown",
            "source": [
                "# **Entferne Toyota fahrzeuge und hinzufügen von Lamborgini Diablo**"
            ],
            "metadata": {
                "language": "sql",
                "azdata_cell_guid": "f84a1661-9037-495f-b2cc-ec1ffebb09d6"
            },
            "attachments": {}
        },
        {
            "cell_type": "code",
            "source": [
                "USE Fahrzeugpark;\r\n",
                "GO\r\n",
                "\r\n",
                "DELETE FROM Fahrzeug WHERE Marke = 'Toyota';\r\n",
                "INSERT INTO Fahrzeug (Marke,Typ,NeuPreis,Occasion,Jahrgang)\r\n",
                "VALUES\r\n",
                "('Lamborghini','Diablo',285000.00,1,1990);"
            ],
            "metadata": {
                "language": "sql",
                "azdata_cell_guid": "26b223a9-68d6-4365-848c-20e8b471ea92",
                "tags": []
            },
            "outputs": [
                {
                    "output_type": "display_data",
                    "data": {
                        "text/html": "Commands completed successfully."
                    },
                    "metadata": {}
                },
                {
                    "output_type": "display_data",
                    "data": {
                        "text/html": "(2 rows affected)"
                    },
                    "metadata": {}
                },
                {
                    "output_type": "display_data",
                    "data": {
                        "text/html": "(1 row affected)"
                    },
                    "metadata": {}
                },
                {
                    "output_type": "display_data",
                    "data": {
                        "text/html": "Total execution time: 00:00:00.019"
                    },
                    "metadata": {}
                }
            ],
            "execution_count": 4
        },
        {
            "cell_type": "code",
            "source": [
                "SELECT * FROM Fahrzeug;"
            ],
            "metadata": {
                "language": "sql",
                "azdata_cell_guid": "1dcd29aa-6618-48e6-99c0-da1745524d8b"
            },
            "outputs": [
                {
                    "output_type": "display_data",
                    "data": {
                        "text/html": "(11 rows affected)"
                    },
                    "metadata": {}
                },
                {
                    "output_type": "display_data",
                    "data": {
                        "text/html": "Total execution time: 00:00:00.008"
                    },
                    "metadata": {}
                },
                {
                    "output_type": "execute_result",
                    "execution_count": 5,
                    "data": {
                        "application/vnd.dataresource+json": {
                            "schema": {
                                "fields": [
                                    {
                                        "name": "FahrzeugId"
                                    },
                                    {
                                        "name": "Marke"
                                    },
                                    {
                                        "name": "Typ"
                                    },
                                    {
                                        "name": "NeuPreis"
                                    },
                                    {
                                        "name": "Jahrgang"
                                    },
                                    {
                                        "name": "Occasion"
                                    },
                                    {
                                        "name": "fk_MitarbeiterID"
                                    }
                                ]
                            },
                            "data": [
                                {
                                    "FahrzeugId": "1",
                                    "Marke": "Ford",
                                    "Typ": "Model T",
                                    "NeuPreis": "825.00",
                                    "Jahrgang": "1908",
                                    "Occasion": "0",
                                    "fk_MitarbeiterID": "1"
                                },
                                {
                                    "FahrzeugId": "2",
                                    "Marke": "Volkswagen",
                                    "Typ": "Käfer",
                                    "NeuPreis": "5000.00",
                                    "Jahrgang": "1938",
                                    "Occasion": "1",
                                    "fk_MitarbeiterID": "NULL"
                                },
                                {
                                    "FahrzeugId": "3",
                                    "Marke": "Chervrolet",
                                    "Typ": "Corvette C1",
                                    "NeuPreis": "3500.00",
                                    "Jahrgang": "1953",
                                    "Occasion": "1",
                                    "fk_MitarbeiterID": "NULL"
                                },
                                {
                                    "FahrzeugId": "4",
                                    "Marke": "Mercedes-Benz",
                                    "Typ": "300 SL Flügeltürer",
                                    "NeuPreis": "29000.00",
                                    "Jahrgang": "1954",
                                    "Occasion": "1",
                                    "fk_MitarbeiterID": "NULL"
                                },
                                {
                                    "FahrzeugId": "5",
                                    "Marke": "Mini",
                                    "Typ": "Mini Cooper",
                                    "NeuPreis": "497.00",
                                    "Jahrgang": "1959",
                                    "Occasion": "1",
                                    "fk_MitarbeiterID": "2"
                                },
                                {
                                    "FahrzeugId": "6",
                                    "Marke": "Jaguar",
                                    "Typ": "E-Type",
                                    "NeuPreis": "2250.00",
                                    "Jahrgang": "1961",
                                    "Occasion": "1",
                                    "fk_MitarbeiterID": "NULL"
                                },
                                {
                                    "FahrzeugId": "7",
                                    "Marke": "Ferrari",
                                    "Typ": "250 GTO",
                                    "NeuPreis": "18000.00",
                                    "Jahrgang": "1962",
                                    "Occasion": "0",
                                    "fk_MitarbeiterID": "NULL"
                                },
                                {
                                    "FahrzeugId": "8",
                                    "Marke": "Porsche",
                                    "Typ": "911",
                                    "NeuPreis": "14500.00",
                                    "Jahrgang": "1964",
                                    "Occasion": "1",
                                    "fk_MitarbeiterID": "NULL"
                                },
                                {
                                    "FahrzeugId": "9",
                                    "Marke": "Ford",
                                    "Typ": "Mustang",
                                    "NeuPreis": "2368.00",
                                    "Jahrgang": "1964",
                                    "Occasion": "0",
                                    "fk_MitarbeiterID": "1"
                                },
                                {
                                    "FahrzeugId": "10",
                                    "Marke": "Lamborghini",
                                    "Typ": "Miura",
                                    "NeuPreis": "20000.00",
                                    "Jahrgang": "1966",
                                    "Occasion": "0",
                                    "fk_MitarbeiterID": "NULL"
                                },
                                {
                                    "FahrzeugId": "13",
                                    "Marke": "Lamborghini",
                                    "Typ": "Diablo",
                                    "NeuPreis": "285000.00",
                                    "Jahrgang": "1990",
                                    "Occasion": "1",
                                    "fk_MitarbeiterID": "NULL"
                                }
                            ]
                        },
                        "text/html": "<table><tr><th>FahrzeugId</th><th>Marke</th><th>Typ</th><th>NeuPreis</th><th>Jahrgang</th><th>Occasion</th><th>fk_MitarbeiterID</th></tr><tr><td>1</td><td>Ford</td><td>Model T</td><td>825.00</td><td>1908</td><td>0</td><td>1</td></tr><tr><td>2</td><td>Volkswagen</td><td>Käfer</td><td>5000.00</td><td>1938</td><td>1</td><td>NULL</td></tr><tr><td>3</td><td>Chervrolet</td><td>Corvette C1</td><td>3500.00</td><td>1953</td><td>1</td><td>NULL</td></tr><tr><td>4</td><td>Mercedes-Benz</td><td>300 SL Flügeltürer</td><td>29000.00</td><td>1954</td><td>1</td><td>NULL</td></tr><tr><td>5</td><td>Mini</td><td>Mini Cooper</td><td>497.00</td><td>1959</td><td>1</td><td>2</td></tr><tr><td>6</td><td>Jaguar</td><td>E-Type</td><td>2250.00</td><td>1961</td><td>1</td><td>NULL</td></tr><tr><td>7</td><td>Ferrari</td><td>250 GTO</td><td>18000.00</td><td>1962</td><td>0</td><td>NULL</td></tr><tr><td>8</td><td>Porsche</td><td>911</td><td>14500.00</td><td>1964</td><td>1</td><td>NULL</td></tr><tr><td>9</td><td>Ford</td><td>Mustang</td><td>2368.00</td><td>1964</td><td>0</td><td>1</td></tr><tr><td>10</td><td>Lamborghini</td><td>Miura</td><td>20000.00</td><td>1966</td><td>0</td><td>NULL</td></tr><tr><td>13</td><td>Lamborghini</td><td>Diablo</td><td>285000.00</td><td>1990</td><td>1</td><td>NULL</td></tr></table>"
                    },
                    "metadata": {}
                }
            ],
            "execution_count": 5
        },
        {
            "cell_type": "markdown",
            "source": [
                "# **Kennzeichen einfügen**"
            ],
            "metadata": {
                "azdata_cell_guid": "a88159e7-cf19-44d9-b226-463c7f741863"
            },
            "attachments": {}
        },
        {
            "cell_type": "code",
            "source": [
                "USE Fahrzeugpark;\r\n",
                "GO\r\n",
                "\r\n",
                "ALTER TABLE Fahrzeug ADD Kennzeichen VARCHAR(15);"
            ],
            "metadata": {
                "azdata_cell_guid": "4896ee02-9991-4a1b-9c13-83f866c3e74c",
                "language": "sql"
            },
            "outputs": [
                {
                    "output_type": "display_data",
                    "data": {
                        "text/html": "Commands completed successfully."
                    },
                    "metadata": {}
                },
                {
                    "output_type": "display_data",
                    "data": {
                        "text/html": "Commands completed successfully."
                    },
                    "metadata": {}
                },
                {
                    "output_type": "display_data",
                    "data": {
                        "text/html": "Total execution time: 00:00:00.135"
                    },
                    "metadata": {}
                }
            ],
            "execution_count": 1
        },
        {
            "cell_type": "code",
            "source": [
                "UPDATE Fahrzeug SET Kennzeichen = 'LU 777'  WHERE Typ = 'Model T';"
            ],
            "metadata": {
                "language": "sql",
                "azdata_cell_guid": "19450773-6e96-4dc5-90c3-6f493616f168"
            },
            "outputs": [
                {
                    "output_type": "display_data",
                    "data": {
                        "text/html": "(1 row affected)"
                    },
                    "metadata": {}
                },
                {
                    "output_type": "display_data",
                    "data": {
                        "text/html": "Total execution time: 00:00:00.006"
                    },
                    "metadata": {}
                }
            ],
            "execution_count": 2
        },
        {
            "cell_type": "code",
            "source": [
                "UPDATE Fahrzeug SET Kennzeichen = 'LU 64'  WHERE Typ = 'Mustang';\r\n",
                "UPDATE Fahrzeug SET Kennzeichen = 'LU 150'  WHERE Typ = 'Mini Cooper';\r\n",
                "UPDATE Fahrzeug SET Kennzeichen = 'NW 100'  WHERE Typ = '911';"
            ],
            "metadata": {
                "language": "sql",
                "azdata_cell_guid": "25314a73-7e62-451f-986b-904e1b27b178"
            },
            "outputs": [
                {
                    "output_type": "display_data",
                    "data": {
                        "text/html": "(1 row affected)"
                    },
                    "metadata": {}
                },
                {
                    "output_type": "display_data",
                    "data": {
                        "text/html": "(1 row affected)"
                    },
                    "metadata": {}
                },
                {
                    "output_type": "display_data",
                    "data": {
                        "text/html": "(1 row affected)"
                    },
                    "metadata": {}
                },
                {
                    "output_type": "display_data",
                    "data": {
                        "text/html": "Total execution time: 00:00:00.007"
                    },
                    "metadata": {}
                }
            ],
            "execution_count": 3
        },
        {
            "cell_type": "code",
            "source": [
                "SELECT * FROM Fahrzeug;"
            ],
            "metadata": {
                "language": "sql",
                "azdata_cell_guid": "54a468f7-3152-45a3-aa8e-17a3a630af3b"
            },
            "outputs": [
{
    "output_type": "display_data",
    "data": {
        "text/html": "(11 rows affected)"
    },
    "metadata": {}
}, {
    "output_type": "display_data",
    "data": {
        "text/html": "Total execution time: 00:00:00.054"
    },
    "metadata": {}
}, {
    "output_type": "execute_result",
    "metadata": {},
    "execution_count": 4,
    "data": {
        "application/vnd.dataresource+json": {
            "schema": {
                "fields": [
                    {
                        "name": "FahrzeugId"
                    },
                    {
                        "name": "Marke"
                    },
                    {
                        "name": "Typ"
                    },
                    {
                        "name": "NeuPreis"
                    },
                    {
                        "name": "Jahrgang"
                    },
                    {
                        "name": "Occasion"
                    },
                    {
                        "name": "fk_MitarbeiterID"
                    },
                    {
                        "name": "Kennzeichen"
                    }
                ]
            },
            "data": [
                {
                    "FahrzeugId": "1",
                    "Marke": "Ford",
                    "Typ": "Model T",
                    "NeuPreis": "825.00",
                    "Jahrgang": "1908",
                    "Occasion": "0",
                    "fk_MitarbeiterID": "1",
                    "Kennzeichen": "LU 777"
                },
                {
                    "FahrzeugId": "2",
                    "Marke": "Volkswagen",
                    "Typ": "Käfer",
                    "NeuPreis": "5000.00",
                    "Jahrgang": "1938",
                    "Occasion": "1",
                    "fk_MitarbeiterID": "NULL",
                    "Kennzeichen": "NULL"
                },
                {
                    "FahrzeugId": "3",
                    "Marke": "Chervrolet",
                    "Typ": "Corvette C1",
                    "NeuPreis": "3500.00",
                    "Jahrgang": "1953",
                    "Occasion": "1",
                    "fk_MitarbeiterID": "NULL",
                    "Kennzeichen": "NULL"
                },
                {
                    "FahrzeugId": "4",
                    "Marke": "Mercedes-Benz",
                    "Typ": "300 SL Flügeltürer",
                    "NeuPreis": "29000.00",
                    "Jahrgang": "1954",
                    "Occasion": "1",
                    "fk_MitarbeiterID": "NULL",
                    "Kennzeichen": "NULL"
                },
                {
                    "FahrzeugId": "5",
                    "Marke": "Mini",
                    "Typ": "Mini Cooper",
                    "NeuPreis": "497.00",
                    "Jahrgang": "1959",
                    "Occasion": "1",
                    "fk_MitarbeiterID": "2",
                    "Kennzeichen": "LU 150"
                },
                {
                    "FahrzeugId": "6",
                    "Marke": "Jaguar",
                    "Typ": "E-Type",
                    "NeuPreis": "2250.00",
                    "Jahrgang": "1961",
                    "Occasion": "1",
                    "fk_MitarbeiterID": "NULL",
                    "Kennzeichen": "NULL"
                },
                {
                    "FahrzeugId": "7",
                    "Marke": "Ferrari",
                    "Typ": "250 GTO",
                    "NeuPreis": "18000.00",
                    "Jahrgang": "1962",
                    "Occasion": "0",
                    "fk_MitarbeiterID": "NULL",
                    "Kennzeichen": "NULL"
                },
                {
                    "FahrzeugId": "8",
                    "Marke": "Porsche",
                    "Typ": "911",
                    "NeuPreis": "14500.00",
                    "Jahrgang": "1964",
                    "Occasion": "1",
                    "fk_MitarbeiterID": "NULL",
                    "Kennzeichen": "NW 100"
                },
                {
                    "FahrzeugId": "9",
                    "Marke": "Ford",
                    "Typ": "Mustang",
                    "NeuPreis": "2368.00",
                    "Jahrgang": "1964",
                    "Occasion": "0",
                    "fk_MitarbeiterID": "1",
                    "Kennzeichen": "LU 64"
                },
                {
                    "FahrzeugId": "10",
                    "Marke": "Lamborghini",
                    "Typ": "Miura",
                    "NeuPreis": "20000.00",
                    "Jahrgang": "1966",
                    "Occasion": "0",
                    "fk_MitarbeiterID": "NULL",
                    "Kennzeichen": "NULL"
                },
                {
                    "FahrzeugId": "13",
                    "Marke": "Lamborghini",
                    "Typ": "Diablo",
                    "NeuPreis": "285000.00",
                    "Jahrgang": "1990",
                    "Occasion": "1",
                    "fk_MitarbeiterID": "NULL",
                    "Kennzeichen": "NULL"
                }
            ]
        },
        "text/html": [
            "<table>",
            "<tr><th>FahrzeugId</th><th>Marke</th><th>Typ</th><th>NeuPreis</th><th>Jahrgang</th><th>Occasion</th><th>fk_MitarbeiterID</th><th>Kennzeichen</th></tr>",
            "<tr><td>1</td><td>Ford</td><td>Model T</td><td>825.00</td><td>1908</td><td>0</td><td>1</td><td>LU 777</td></tr>",
            "<tr><td>2</td><td>Volkswagen</td><td>Käfer</td><td>5000.00</td><td>1938</td><td>1</td><td>NULL</td><td>NULL</td></tr>",
            "<tr><td>3</td><td>Chervrolet</td><td>Corvette C1</td><td>3500.00</td><td>1953</td><td>1</td><td>NULL</td><td>NULL</td></tr>",
            "<tr><td>4</td><td>Mercedes-Benz</td><td>300 SL Flügeltürer</td><td>29000.00</td><td>1954</td><td>1</td><td>NULL</td><td>NULL</td></tr>",
            "<tr><td>5</td><td>Mini</td><td>Mini Cooper</td><td>497.00</td><td>1959</td><td>1</td><td>2</td><td>LU 150</td></tr>",
            "<tr><td>6</td><td>Jaguar</td><td>E-Type</td><td>2250.00</td><td>1961</td><td>1</td><td>NULL</td><td>NULL</td></tr>",
            "<tr><td>7</td><td>Ferrari</td><td>250 GTO</td><td>18000.00</td><td>1962</td><td>0</td><td>NULL</td><td>NULL</td></tr>",
            "<tr><td>8</td><td>Porsche</td><td>911</td><td>14500.00</td><td>1964</td><td>1</td><td>NULL</td><td>NW 100</td></tr>",
            "<tr><td>9</td><td>Ford</td><td>Mustang</td><td>2368.00</td><td>1964</td><td>0</td><td>1</td><td>LU 64</td></tr>",
            "<tr><td>10</td><td>Lamborghini</td><td>Miura</td><td>20000.00</td><td>1966</td><td>0</td><td>NULL</td><td>NULL</td></tr>",
            "<tr><td>13</td><td>Lamborghini</td><td>Diablo</td><td>285000.00</td><td>1990</td><td>1</td><td>NULL</td><td>NULL</td></tr>",
            "</table>"
        ]
    }
}
],
            "execution_count": 4
        }
    ]
}