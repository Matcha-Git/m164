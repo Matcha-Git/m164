{
    "metadata": {
        "kernelspec": {
            "name": "SQL",
            "display_name": "SQL",
            "language": "sql"
        },
        "language_info": {
            "name": "sql",
            "version": ""
        },
        "connection_name": ""
    },
    "nbformat_minor": 2,
    "nbformat": 4,
    "cells": [
        {
            "cell_type": "markdown",
            "source": [
                "# **Datenbank und Tabelle ertsellen**"
            ],
            "metadata": {
                "azdata_cell_guid": "3d02a3bb-92f8-4108-aeaf-7ccbd9948bd1"
            },
            "attachments": {}
        },
        {
            "cell_type": "code",
            "source": [
                "USE master;\r\n",
                "GO\r\n",
                "\r\n",
                "CREATE DATABASE Fahrzeugpark;"
            ],
            "metadata": {
                "azdata_cell_guid": "cd37db20-9d24-443f-89bb-92c9944c82de",
                "language": "sql"
            },
            "outputs": [
                {
                    "output_type": "display_data",
                    "data": {
                        "text/html": "Commands completed successfully."
                    },
                    "metadata": {}
                },
                {
                    "output_type": "display_data",
                    "data": {
                        "text/html": "Commands completed successfully."
                    },
                    "metadata": {}
                },
                {
                    "output_type": "display_data",
                    "data": {
                        "text/html": "Total execution time: 00:00:00.280"
                    },
                    "metadata": {}
                }
            ],
            "execution_count": 2
        },
        {
            "cell_type": "code",
            "source": [
                "USE Fahrzeugpark;\r\n",
                "GO\r\n",
                "\r\n",
                "CREATE TABLE Mitarbeiter(\r\n",
                "    MitarbeiterID INT IDENTITY(1,1),\r\n",
                "    Nachname VARCHAR(30),\r\n",
                "    Vorname VARCHAR(30),\r\n",
                "    PRIMARY KEY(MitarbeiterID)\r\n",
                ");\r\n",
                "\r\n",
                "CREATE TABLE Fahrzeug (\r\n",
                "    FahrzeugId INT IDENTITY(1,1),\r\n",
                "    Marke VARCHAR(50),\r\n",
                "    Typ VARCHAR(50),\r\n",
                "    NeuPreis DECIMAL(9,2),\r\n",
                "    Jahrgang INT,\r\n",
                "    Occasion BIT,\r\n",
                "    fk_MitarbeiterID INT,\r\n",
                "    PRIMARY KEY(FahrzeugId),\r\n",
                "    FOREIGN KEY (fk_MitarbeiterID) REFERENCES Mitarbeiter(MitarbeiterID)\r\n",
                ");"
            ],
            "metadata": {
                "language": "sql",
                "azdata_cell_guid": "ba1fb00e-ab55-465c-b14a-0b9d076891c4"
            },
            "outputs": [
                {
                    "output_type": "display_data",
                    "data": {
                        "text/html": "Commands completed successfully."
                    },
                    "metadata": {}
                },
                {
                    "output_type": "display_data",
                    "data": {
                        "text/html": "Commands completed successfully."
                    },
                    "metadata": {}
                },
                {
                    "output_type": "display_data",
                    "data": {
                        "text/html": "Total execution time: 00:00:00.120"
                    },
                    "metadata": {}
                }
            ],
            "execution_count": 3
        },
        {
            "cell_type": "markdown",
            "source": [
                "# **Daten einfügen**"
            ],
            "metadata": {
                "azdata_cell_guid": "0f4d4c85-597c-4455-9ab0-9652318baae5"
            },
            "attachments": {}
        },
        {
            "cell_type": "code",
            "source": [
                "USE Fahrzeugpark;\r\n",
                "GO\r\n",
                "\r\n",
                "INSERT INTO Mitarbeiter(Nachname,Vorname)\r\n",
                "VALUES\r\n",
                "('Cuche','Didier'),\r\n",
                "('Feuz','Beat'),\r\n",
                "('Figini','Michela'),\r\n",
                "('Gut-Behrami','Lara'),\r\n",
                "('Heinzer','Franz'),\r\n",
                "('Hess','Erika'),\r\n",
                "('Janka','Carlo'),\r\n",
                "('Müller','Peter'),\r\n",
                "('Nadig','Marie-Theres'),\r\n",
                "('Odermatt','Marco'),\r\n",
                "('Schneider','Verni'),\r\n",
                "('Zurbriggen','Pirmin');"
            ],
            "metadata": {
                "azdata_cell_guid": "95adc12c-5105-4161-b003-987ac624abe0",
                "language": "sql"
            },
            "outputs": [
                {
                    "output_type": "display_data",
                    "data": {
                        "text/html": "Commands completed successfully."
                    },
                    "metadata": {}
                },
                {
                    "output_type": "display_data",
                    "data": {
                        "text/html": "(12 rows affected)"
                    },
                    "metadata": {}
                },
                {
                    "output_type": "display_data",
                    "data": {
                        "text/html": "Total execution time: 00:00:00.248"
                    },
                    "metadata": {}
                }
            ],
            "execution_count": 1
        },
        {
            "cell_type": "code",
            "source": [
                "Select * FROM Mitarbeiter;"
            ],
            "metadata": {
                "language": "sql",
                "azdata_cell_guid": "f58fb02e-9083-4868-a8b0-93e525002308"
            },
            "outputs": [
                {
                    "output_type": "display_data",
                    "data": {
                        "text/html": "(12 rows affected)"
                    },
                    "metadata": {}
                },
                {
                    "output_type": "display_data",
                    "data": {
                        "text/html": "Total execution time: 00:00:00.027"
                    },
                    "metadata": {}
                },
                {
                    "output_type": "execute_result",
                    "metadata": {},
                    "execution_count": 2,
                    "data": {
                        "application/vnd.dataresource+json": {
                            "schema": {
                                "fields": [
                                    {
                                        "name": "MitarbeiterID"
                                    },
                                    {
                                        "name": "Nachname"
                                    },
                                    {
                                        "name": "Vorname"
                                    }
                                ]
                            },
                            "data": [
                                {
                                    "MitarbeiterID": "1",
                                    "Nachname": "Cuche",
                                    "Vorname": "Didier"
                                },
                                {
                                    "MitarbeiterID": "2",
                                    "Nachname": "Feuz",
                                    "Vorname": "Beat"
                                },
                                {
                                    "MitarbeiterID": "3",
                                    "Nachname": "Figini",
                                    "Vorname": "Michela"
                                },
                                {
                                    "MitarbeiterID": "4",
                                    "Nachname": "Gut-Behrami",
                                    "Vorname": "Lara"
                                },
                                {
                                    "MitarbeiterID": "5",
                                    "Nachname": "Heinzer",
                                    "Vorname": "Franz"
                                },
                                {
                                    "MitarbeiterID": "6",
                                    "Nachname": "Hess",
                                    "Vorname": "Erika"
                                },
                                {
                                    "MitarbeiterID": "7",
                                    "Nachname": "Janka",
                                    "Vorname": "Carlo"
                                },
                                {
                                    "MitarbeiterID": "8",
                                    "Nachname": "Müller",
                                    "Vorname": "Peter"
                                },
                                {
                                    "MitarbeiterID": "9",
                                    "Nachname": "Nadig",
                                    "Vorname": "Marie-Theres"
                                },
                                {
                                    "MitarbeiterID": "10",
                                    "Nachname": "Odermatt",
                                    "Vorname": "Marco"
                                },
                                {
                                    "MitarbeiterID": "11",
                                    "Nachname": "Schneider",
                                    "Vorname": "Verni"
                                },
                                {
                                    "MitarbeiterID": "12",
                                    "Nachname": "Zurbriggen",
                                    "Vorname": "Pirmin"
                                }
                            ]
                        },
                        "text/html": [
                            "<table>",
                            "<tr><th>MitarbeiterID</th><th>Nachname</th><th>Vorname</th></tr>",
                            "<tr><td>1</td><td>Cuche</td><td>Didier</td></tr>",
                            "<tr><td>2</td><td>Feuz</td><td>Beat</td></tr>",
                            "<tr><td>3</td><td>Figini</td><td>Michela</td></tr>",
                            "<tr><td>4</td><td>Gut-Behrami</td><td>Lara</td></tr>",
                            "<tr><td>5</td><td>Heinzer</td><td>Franz</td></tr>",
                            "<tr><td>6</td><td>Hess</td><td>Erika</td></tr>",
                            "<tr><td>7</td><td>Janka</td><td>Carlo</td></tr>",
                            "<tr><td>8</td><td>Müller</td><td>Peter</td></tr>",
                            "<tr><td>9</td><td>Nadig</td><td>Marie-Theres</td></tr>",
                            "<tr><td>10</td><td>Odermatt</td><td>Marco</td></tr>",
                            "<tr><td>11</td><td>Schneider</td><td>Verni</td></tr>",
                            "<tr><td>12</td><td>Zurbriggen</td><td>Pirmin</td></tr>",
                            "</table>"
                        ]
                    }
                }
            ],
            "execution_count": 2
        },
        {
            "cell_type": "code",
            "source": [
                "USE Fahrzeugpark;\r\n",
                "GO\r\n",
                "\r\n",
                "INSERT INTO Fahrzeug(Marke,Typ,NeuPreis,Occasion,Jahrgang)\r\n",
                "VALUES\r\n",
                "('Ford','Model T',825.00,0,1908),\r\n",
                "('Volkswagen','Käfer',5000.00,1,1938),\r\n",
                "('Chervrolet','Corvette C1',3500.00,1,1953),\r\n",
                "('Mercedes-Benz','300 SL Flügeltürer',29000.00,1,1954),\r\n",
                "('Mini','Mini Cooper',497.00,1,1959),\r\n",
                "('Jaguar','E-Type',2250.00,1,1961),\r\n",
                "('Ferrari','250 GTO',18000.00,0,1962),\r\n",
                "('Porsche','911',14500.00,1,1964),\r\n",
                "('Ford','Mustang',2368.00,0,1964),\r\n",
                "('Lamborghini','Miura',20000.00,0,1966),\r\n",
                "('Toyota','Corolla(erste Generation)',1100.00,1,1966),\r\n",
                "('Toyota','Prius (-//-)',35000.00,0,1967);"
            ],
            "metadata": {
                "azdata_cell_guid": "b8fb8a01-5e61-487d-b30a-7c5c27dfb6e4",
                "language": "sql"
            },
            "outputs": [
{
    "output_type": "display_data",
    "data": {
        "text/html": "Commands completed successfully."
    },
    "metadata": {}
}, {
    "output_type": "display_data",
    "data": {
        "text/html": "(12 rows affected)"
    },
    "metadata": {}
}, {
    "output_type": "display_data",
    "data": {
        "text/html": "Total execution time: 00:00:00.009"
    },
    "metadata": {}
}
],
            "execution_count": 3
        },
        {
            "cell_type": "markdown",
            "source": [
                ""
            ],
            "metadata": {
                "language": "sql",
                "azdata_cell_guid": "d77b47bf-d115-4f56-8d46-371ae67d6380"
            }
        }
    ]
}