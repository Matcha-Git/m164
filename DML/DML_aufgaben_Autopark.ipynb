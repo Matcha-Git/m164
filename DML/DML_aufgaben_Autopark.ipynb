{
    "metadata": {
        "kernelspec": {
            "name": "SQL",
            "display_name": "SQL",
            "language": "sql"
        },
        "language_info": {
            "name": "sql",
            "version": ""
        },
        "connection_name": ""
    },
    "nbformat_minor": 2,
    "nbformat": 4,
    "cells": [
        {
            "cell_type": "markdown",
            "source": [
                "# **Datenbank und Tabelle ertsellen**"
            ],
            "metadata": {
                "azdata_cell_guid": "3d02a3bb-92f8-4108-aeaf-7ccbd9948bd1"
            },
            "attachments": {}
        },
        {
            "cell_type": "code",
            "source": [
                "USE master;\n",
                "GO\n",
                "\n",
                "CREATE DATABASE Fahrzeugpark;"
            ],
            "metadata": {
                "azdata_cell_guid": "cd37db20-9d24-443f-89bb-92c9944c82de",
                "language": "sql"
            },
            "outputs": [
                {
                    "output_type": "display_data",
                    "data": {
                        "text/html": "Commands completed successfully."
                    },
                    "metadata": {}
                },
                {
                    "output_type": "display_data",
                    "data": {
                        "text/html": "Commands completed successfully."
                    },
                    "metadata": {}
                },
                {
                    "output_type": "display_data",
                    "data": {
                        "text/html": "Total execution time: 00:00:00.280"
                    },
                    "metadata": {}
                }
            ],
            "execution_count": 2
        },
        {
            "cell_type": "code",
            "source": [
                "USE Fahrzeugpark;\n",
                "GO\n",
                "\n",
                "CREATE TABLE Mitarbeiter(\n",
                "    MitarbeiterID INT IDENTITY(1,1),\n",
                "    Nachname VARCHAR(30),\n",
                "    Vorname VARCHAR(30),\n",
                "    PRIMARY KEY(MitarbeiterID)\n",
                ");\n",
                "\n",
                "CREATE TABLE Fahrzeug (\n",
                "    FahrzeugId INT IDENTITY(1,1),\n",
                "    Marke VARCHAR(50),\n",
                "    Typ VARCHAR(50),\n",
                "    NeuPreis DECIMAL(9,2),\n",
                "    Jahrgang INT,\n",
                "    Occasion BIT,\n",
                "    fk_MitarbeiterID INT,\n",
                "    PRIMARY KEY(FahrzeugId),\n",
                "    FOREIGN KEY (fk_MitarbeiterID) REFERENCES Mitarbeiter(MitarbeiterID)\n",
                ");"
            ],
            "metadata": {
                "azdata_cell_guid": "ba1fb00e-ab55-465c-b14a-0b9d076891c4",
                "language": "sql"
            },
            "outputs": [
                {
                    "output_type": "display_data",
                    "data": {
                        "text/html": "Commands completed successfully."
                    },
                    "metadata": {}
                },
                {
                    "output_type": "display_data",
                    "data": {
                        "text/html": "Commands completed successfully."
                    },
                    "metadata": {}
                },
                {
                    "output_type": "display_data",
                    "data": {
                        "text/html": "Total execution time: 00:00:00.120"
                    },
                    "metadata": {}
                }
            ],
            "execution_count": 3
        },
        {
            "cell_type": "markdown",
            "source": [
                "# **Daten einfügen**"
            ],
            "metadata": {
                "azdata_cell_guid": "0f4d4c85-597c-4455-9ab0-9652318baae5"
            },
            "attachments": {}
        },
        {
            "cell_type": "code",
            "source": [
                "USE Fahrzeugpark;\n",
                "GO\n",
                "\n",
                "INSERT INTO Mitarbeiter(Nachname,Vorname)\n",
                "VALUES\n",
                "('Cuche','Didier'),\n",
                "('Feuz','Beat'),\n",
                "('Figini','Michela'),\n",
                "('Gut-Behrami','Lara'),\n",
                "('Heinzer','Franz'),\n",
                "('Hess','Erika'),\n",
                "('Janka','Carlo'),\n",
                "('Müller','Peter'),\n",
                "('Nadig','Marie-Theres'),\n",
                "('Odermatt','Marco'),\n",
                "('Schneider','Verni'),\n",
                "('Zurbriggen','Pirmin');"
            ],
            "metadata": {
                "azdata_cell_guid": "95adc12c-5105-4161-b003-987ac624abe0",
                "language": "sql"
            },
            "outputs": [
                {
                    "output_type": "display_data",
                    "data": {
                        "text/html": "Commands completed successfully."
                    },
                    "metadata": {}
                },
                {
                    "output_type": "display_data",
                    "data": {
                        "text/html": "(12 rows affected)"
                    },
                    "metadata": {}
                },
                {
                    "output_type": "display_data",
                    "data": {
                        "text/html": "Total execution time: 00:00:00.248"
                    },
                    "metadata": {}
                }
            ],
            "execution_count": 1
        },
        {
            "cell_type": "code",
            "source": [
                "Select * FROM Mitarbeiter;"
            ],
            "metadata": {
                "azdata_cell_guid": "f58fb02e-9083-4868-a8b0-93e525002308",
                "language": "sql"
            },
            "outputs": [
                {
                    "output_type": "display_data",
                    "data": {
                        "text/html": "(12 rows affected)"
                    },
                    "metadata": {}
                },
                {
                    "output_type": "display_data",
                    "data": {
                        "text/html": "Total execution time: 00:00:00.027"
                    },
                    "metadata": {}
                },
                {
                    "output_type": "execute_result",
                    "execution_count": 2,
                    "data": {
                        "application/vnd.dataresource+json": {
                            "data": [
                                {
                                    "MitarbeiterID": "1",
                                    "Nachname": "Cuche",
                                    "Vorname": "Didier"
                                },
                                {
                                    "MitarbeiterID": "2",
                                    "Nachname": "Feuz",
                                    "Vorname": "Beat"
                                },
                                {
                                    "MitarbeiterID": "3",
                                    "Nachname": "Figini",
                                    "Vorname": "Michela"
                                },
                                {
                                    "MitarbeiterID": "4",
                                    "Nachname": "Gut-Behrami",
                                    "Vorname": "Lara"
                                },
                                {
                                    "MitarbeiterID": "5",
                                    "Nachname": "Heinzer",
                                    "Vorname": "Franz"
                                },
                                {
                                    "MitarbeiterID": "6",
                                    "Nachname": "Hess",
                                    "Vorname": "Erika"
                                },
                                {
                                    "MitarbeiterID": "7",
                                    "Nachname": "Janka",
                                    "Vorname": "Carlo"
                                },
                                {
                                    "MitarbeiterID": "8",
                                    "Nachname": "Müller",
                                    "Vorname": "Peter"
                                },
                                {
                                    "MitarbeiterID": "9",
                                    "Nachname": "Nadig",
                                    "Vorname": "Marie-Theres"
                                },
                                {
                                    "MitarbeiterID": "10",
                                    "Nachname": "Odermatt",
                                    "Vorname": "Marco"
                                },
                                {
                                    "MitarbeiterID": "11",
                                    "Nachname": "Schneider",
                                    "Vorname": "Verni"
                                },
                                {
                                    "MitarbeiterID": "12",
                                    "Nachname": "Zurbriggen",
                                    "Vorname": "Pirmin"
                                }
                            ],
                            "schema": {
                                "fields": [
                                    {
                                        "name": "MitarbeiterID"
                                    },
                                    {
                                        "name": "Nachname"
                                    },
                                    {
                                        "name": "Vorname"
                                    }
                                ]
                            }
                        },
                        "text/html": "<table>\n<tr><th>MitarbeiterID</th><th>Nachname</th><th>Vorname</th></tr>\n<tr><td>1</td><td>Cuche</td><td>Didier</td></tr>\n<tr><td>2</td><td>Feuz</td><td>Beat</td></tr>\n<tr><td>3</td><td>Figini</td><td>Michela</td></tr>\n<tr><td>4</td><td>Gut-Behrami</td><td>Lara</td></tr>\n<tr><td>5</td><td>Heinzer</td><td>Franz</td></tr>\n<tr><td>6</td><td>Hess</td><td>Erika</td></tr>\n<tr><td>7</td><td>Janka</td><td>Carlo</td></tr>\n<tr><td>8</td><td>Müller</td><td>Peter</td></tr>\n<tr><td>9</td><td>Nadig</td><td>Marie-Theres</td></tr>\n<tr><td>10</td><td>Odermatt</td><td>Marco</td></tr>\n<tr><td>11</td><td>Schneider</td><td>Verni</td></tr>\n<tr><td>12</td><td>Zurbriggen</td><td>Pirmin</td></tr>\n</table>"
                    },
                    "metadata": {}
                }
            ],
            "execution_count": 2
        },
        {
            "cell_type": "code",
            "source": [
                "USE Fahrzeugpark;\n",
                "GO\n",
                "\n",
                "INSERT INTO Fahrzeug(Marke,Typ,NeuPreis,Occasion,Jahrgang)\n",
                "VALUES\n",
                "('Ford','Model T',825.00,0,1908),\n",
                "('Volkswagen','Käfer',5000.00,1,1938),\n",
                "('Chervrolet','Corvette C1',3500.00,1,1953),\n",
                "('Mercedes-Benz','300 SL Flügeltürer',29000.00,1,1954),\n",
                "('Mini','Mini Cooper',497.00,1,1959),\n",
                "('Jaguar','E-Type',2250.00,1,1961),\n",
                "('Ferrari','250 GTO',18000.00,0,1962),\n",
                "('Porsche','911',14500.00,1,1964),\n",
                "('Ford','Mustang',2368.00,0,1964),\n",
                "('Lamborghini','Miura',20000.00,0,1966),\n",
                "('Toyota','Corolla(erste Generation)',1100.00,1,1966),\n",
                "('Toyota','Prius (erste Generation)',35000.00,0,1967);"
            ],
            "metadata": {
                "azdata_cell_guid": "b8fb8a01-5e61-487d-b30a-7c5c27dfb6e4",
                "language": "sql"
            },
            "outputs": [
                {
                    "output_type": "display_data",
                    "data": {
                        "text/html": "Commands completed successfully."
                    },
                    "metadata": {}
                },
                {
                    "output_type": "display_data",
                    "data": {
                        "text/html": "(12 rows affected)"
                    },
                    "metadata": {}
                },
                {
                    "output_type": "display_data",
                    "data": {
                        "text/html": "Total execution time: 00:00:00.009"
                    },
                    "metadata": {}
                }
            ],
            "execution_count": 3
        },
        {
            "cell_type": "markdown",
            "source": [
                "# **Mitarbeiter und Fahrzeuge zuweisen**"
            ],
            "metadata": {
                "azdata_cell_guid": "d77b47bf-d115-4f56-8d46-371ae67d6380",
                "language": "sql"
            },
            "attachments": {}
        },
        {
            "cell_type": "code",
            "source": [
                "USE Fahrzeugpark;\r\n",
                "GO\r\n",
                "\r\n",
                "SELECT * FROM Mitarbeiter WHERE Vorname LIKE 'Beat';"
            ],
            "metadata": {
                "language": "sql",
                "azdata_cell_guid": "1c107a9a-d661-4e50-9e51-b87943c45f4a"
            },
            "outputs": [
                {
                    "output_type": "display_data",
                    "data": {
                        "text/html": "Commands completed successfully."
                    },
                    "metadata": {}
                },
                {
                    "output_type": "display_data",
                    "data": {
                        "text/html": "(1 row affected)"
                    },
                    "metadata": {}
                },
                {
                    "output_type": "display_data",
                    "data": {
                        "text/html": "Total execution time: 00:00:00.160"
                    },
                    "metadata": {}
                },
                {
                    "output_type": "execute_result",
                    "metadata": {},
                    "execution_count": 1,
                    "data": {
                        "application/vnd.dataresource+json": {
                            "schema": {
                                "fields": [
                                    {
                                        "name": "MitarbeiterID"
                                    },
                                    {
                                        "name": "Nachname"
                                    },
                                    {
                                        "name": "Vorname"
                                    }
                                ]
                            },
                            "data": [
                                {
                                    "MitarbeiterID": "2",
                                    "Nachname": "Feuz",
                                    "Vorname": "Beat"
                                }
                            ]
                        },
                        "text/html": [
                            "<table>",
                            "<tr><th>MitarbeiterID</th><th>Nachname</th><th>Vorname</th></tr>",
                            "<tr><td>2</td><td>Feuz</td><td>Beat</td></tr>",
                            "</table>"
                        ]
                    }
                }
            ],
            "execution_count": 1
        },
        {
            "cell_type": "code",
            "source": [
                "UPDATE Fahrzeug SET fk_MitarbeiterID = 2 WHERE Typ = 'Käfer';"
            ],
            "metadata": {
                "language": "sql",
                "azdata_cell_guid": "d7597311-fce9-4eed-9c59-16b6165d50bb"
            },
            "outputs": [
                {
                    "output_type": "display_data",
                    "data": {
                        "text/html": "(1 row affected)"
                    },
                    "metadata": {}
                },
                {
                    "output_type": "display_data",
                    "data": {
                        "text/html": "Total execution time: 00:00:00.027"
                    },
                    "metadata": {}
                }
            ],
            "execution_count": 2
        },
        {
            "cell_type": "code",
            "source": [
                "SELECT * FROM Fahrzeug WHERE Typ = 'Käfer';"
            ],
            "metadata": {
                "language": "sql",
                "azdata_cell_guid": "a366eb8f-dd4d-4845-8043-48fdb861f502"
            },
            "outputs": [
                {
                    "output_type": "display_data",
                    "data": {
                        "text/html": "(1 row affected)"
                    },
                    "metadata": {}
                },
                {
                    "output_type": "display_data",
                    "data": {
                        "text/html": "Total execution time: 00:00:00.020"
                    },
                    "metadata": {}
                },
                {
                    "output_type": "execute_result",
                    "metadata": {},
                    "execution_count": 3,
                    "data": {
                        "application/vnd.dataresource+json": {
                            "schema": {
                                "fields": [
                                    {
                                        "name": "FahrzeugId"
                                    },
                                    {
                                        "name": "Marke"
                                    },
                                    {
                                        "name": "Typ"
                                    },
                                    {
                                        "name": "NeuPreis"
                                    },
                                    {
                                        "name": "Jahrgang"
                                    },
                                    {
                                        "name": "Occasion"
                                    },
                                    {
                                        "name": "fk_MitarbeiterID"
                                    }
                                ]
                            },
                            "data": [
                                {
                                    "FahrzeugId": "2",
                                    "Marke": "Volkswagen",
                                    "Typ": "Käfer",
                                    "NeuPreis": "5000.00",
                                    "Jahrgang": "1938",
                                    "Occasion": "1",
                                    "fk_MitarbeiterID": "2"
                                }
                            ]
                        },
                        "text/html": [
                            "<table>",
                            "<tr><th>FahrzeugId</th><th>Marke</th><th>Typ</th><th>NeuPreis</th><th>Jahrgang</th><th>Occasion</th><th>fk_MitarbeiterID</th></tr>",
                            "<tr><td>2</td><td>Volkswagen</td><td>Käfer</td><td>5000.00</td><td>1938</td><td>1</td><td>2</td></tr>",
                            "</table>"
                        ]
                    }
                }
            ],
            "execution_count": 3
        },
        {
            "cell_type": "code",
            "source": [
                "SELECT * FROM Mitarbeiter WHERE Vorname = 'Didier'"
            ],
            "metadata": {
                "language": "sql",
                "azdata_cell_guid": "fb563110-3824-4f12-a17f-10804881079e"
            },
            "outputs": [
                {
                    "output_type": "display_data",
                    "data": {
                        "text/html": "(1 row affected)"
                    },
                    "metadata": {}
                },
                {
                    "output_type": "display_data",
                    "data": {
                        "text/html": "Total execution time: 00:00:00.005"
                    },
                    "metadata": {}
                },
                {
                    "output_type": "execute_result",
                    "metadata": {},
                    "execution_count": 4,
                    "data": {
                        "application/vnd.dataresource+json": {
                            "schema": {
                                "fields": [
                                    {
                                        "name": "MitarbeiterID"
                                    },
                                    {
                                        "name": "Nachname"
                                    },
                                    {
                                        "name": "Vorname"
                                    }
                                ]
                            },
                            "data": [
                                {
                                    "MitarbeiterID": "1",
                                    "Nachname": "Cuche",
                                    "Vorname": "Didier"
                                }
                            ]
                        },
                        "text/html": [
                            "<table>",
                            "<tr><th>MitarbeiterID</th><th>Nachname</th><th>Vorname</th></tr>",
                            "<tr><td>1</td><td>Cuche</td><td>Didier</td></tr>",
                            "</table>"
                        ]
                    }
                }
            ],
            "execution_count": 4
        },
        {
            "cell_type": "code",
            "source": [
                "UPDATE Fahrzeug SET fk_MitarbeiterID = 1 WHERE Marke = 'Ford';"
            ],
            "metadata": {
                "language": "sql",
                "azdata_cell_guid": "c2053a9c-691c-42a4-90e7-75e9dcbc8dd9"
            },
            "outputs": [
                {
                    "output_type": "display_data",
                    "data": {
                        "text/html": "(2 rows affected)"
                    },
                    "metadata": {}
                },
                {
                    "output_type": "display_data",
                    "data": {
                        "text/html": "Total execution time: 00:00:00.019"
                    },
                    "metadata": {}
                }
            ],
            "execution_count": 5
        },
        {
            "cell_type": "code",
            "source": [
                "SELECT * FROM Fahrzeug WHERE Marke = 'Ford';"
            ],
            "metadata": {
                "language": "sql",
                "azdata_cell_guid": "c6b6a9d7-5c9b-4677-9083-06bea1ee8cf6"
            },
            "outputs": [
{
    "output_type": "display_data",
    "data": {
        "text/html": "(2 rows affected)"
    },
    "metadata": {}
}, {
    "output_type": "display_data",
    "data": {
        "text/html": "Total execution time: 00:00:00.006"
    },
    "metadata": {}
}, {
    "output_type": "execute_result",
    "metadata": {},
    "execution_count": 6,
    "data": {
        "application/vnd.dataresource+json": {
            "schema": {
                "fields": [
                    {
                        "name": "FahrzeugId"
                    },
                    {
                        "name": "Marke"
                    },
                    {
                        "name": "Typ"
                    },
                    {
                        "name": "NeuPreis"
                    },
                    {
                        "name": "Jahrgang"
                    },
                    {
                        "name": "Occasion"
                    },
                    {
                        "name": "fk_MitarbeiterID"
                    }
                ]
            },
            "data": [
                {
                    "FahrzeugId": "1",
                    "Marke": "Ford",
                    "Typ": "Model T",
                    "NeuPreis": "825.00",
                    "Jahrgang": "1908",
                    "Occasion": "0",
                    "fk_MitarbeiterID": "1"
                },
                {
                    "FahrzeugId": "9",
                    "Marke": "Ford",
                    "Typ": "Mustang",
                    "NeuPreis": "2368.00",
                    "Jahrgang": "1964",
                    "Occasion": "0",
                    "fk_MitarbeiterID": "1"
                }
            ]
        },
        "text/html": [
            "<table>",
            "<tr><th>FahrzeugId</th><th>Marke</th><th>Typ</th><th>NeuPreis</th><th>Jahrgang</th><th>Occasion</th><th>fk_MitarbeiterID</th></tr>",
            "<tr><td>1</td><td>Ford</td><td>Model T</td><td>825.00</td><td>1908</td><td>0</td><td>1</td></tr>",
            "<tr><td>9</td><td>Ford</td><td>Mustang</td><td>2368.00</td><td>1964</td><td>0</td><td>1</td></tr>",
            "</table>"
        ]
    }
}
],
            "execution_count": 6
        }
    ]
}