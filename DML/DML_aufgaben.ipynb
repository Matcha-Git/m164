{
    "metadata": {
        "kernelspec": {
            "name": "SQL",
            "display_name": "SQL",
            "language": "sql"
        },
        "language_info": {
            "name": "sql",
            "version": ""
        },
        "connection_name": ""
    },
    "nbformat_minor": 2,
    "nbformat": 4,
    "cells": [
        {
            "cell_type": "markdown",
            "source": [
                "# **Datenbank \"Kurswesen\" und Tabele \"Kurs\" erstellen**"
            ],
            "metadata": {
                "azdata_cell_guid": "c30be511-360b-4ef3-b135-ccd224c89d93"
            },
            "attachments": {}
        },
        {
            "cell_type": "code",
            "source": [
                "USE master;\r\n",
                "GO\r\n",
                "\r\n",
                "DROP DATABASE IF EXISTS Kurswesen;\r\n",
                "GO\r\n",
                "\r\n",
                "CREATE DATABASE Kurswesen;\r\n",
                "GO\r\n",
                "\r\n",
                "USE Kurswesen;\r\n",
                "GO\r\n",
                "\r\n",
                "CREATE TABLE Kurs(\r\n",
                "    KursId INT IDENTITY(1,1),\r\n",
                "    Bez VARCHAR(20),\r\n",
                "    MaxTeilnehmer INT,\r\n",
                "    Kosten INT,\r\n",
                "    StartDatum DATE,\r\n",
                "    Dauer INT,\r\n",
                "    PRIMARY KEY (KursId)\r\n",
                ")"
            ],
            "metadata": {
                "azdata_cell_guid": "23e6733b-2bc1-4632-8345-0b8a7bb9b6db",
                "language": "sql"
            },
            "outputs": [
                {
                    "output_type": "display_data",
                    "data": {
                        "text/html": "Commands completed successfully."
                    },
                    "metadata": {}
                },
                {
                    "output_type": "display_data",
                    "data": {
                        "text/html": "Commands completed successfully."
                    },
                    "metadata": {}
                },
                {
                    "output_type": "display_data",
                    "data": {
                        "text/html": "Commands completed successfully."
                    },
                    "metadata": {}
                },
                {
                    "output_type": "display_data",
                    "data": {
                        "text/html": "Commands completed successfully."
                    },
                    "metadata": {}
                },
                {
                    "output_type": "display_data",
                    "data": {
                        "text/html": "Commands completed successfully."
                    },
                    "metadata": {}
                },
                {
                    "output_type": "display_data",
                    "data": {
                        "text/html": "Total execution time: 00:00:00.511"
                    },
                    "metadata": {}
                }
            ],
            "execution_count": 3
        },
        {
            "cell_type": "markdown",
            "source": [
                "# **Daten einfügen**"
            ],
            "metadata": {
                "azdata_cell_guid": "eeffa809-cd7a-458f-80f7-c93d7553303c"
            },
            "attachments": {}
        },
        {
            "cell_type": "code",
            "source": [
                "USE Kurswesen;\r\n",
                "GO\r\n",
                "\r\n",
                "INSERT INTO Kurs (Bez,MaxTeilnehmer,Kosten,StartDatum,Dauer)\r\n",
                "VALUES\r\n",
                "('Windows 11',10,450,'2025-06-03',5),\r\n",
                "('Word 2024',5,250,'2024-04-20',1),\r\n",
                "('Windows 11 Neuheiten',15,150,'2025-05-17',1);"
            ],
            "metadata": {
                "azdata_cell_guid": "e5bcfd3e-8380-418b-858a-aa0eb444ce70",
                "language": "sql"
            },
            "outputs": [
                {
                    "output_type": "display_data",
                    "data": {
                        "text/html": "Commands completed successfully."
                    },
                    "metadata": {}
                },
                {
                    "output_type": "display_data",
                    "data": {
                        "text/html": "(3 rows affected)"
                    },
                    "metadata": {}
                },
                {
                    "output_type": "display_data",
                    "data": {
                        "text/html": "Total execution time: 00:00:00.011"
                    },
                    "metadata": {}
                }
            ],
            "execution_count": 8
        },
        {
            "cell_type": "code",
            "source": [
                "SELECT * FROM Kurs;"
            ],
            "metadata": {
                "language": "sql",
                "azdata_cell_guid": "e2ca67ea-68a8-4eda-80af-a0543bafda3a"
            },
            "outputs": [
                {
                    "output_type": "display_data",
                    "data": {
                        "text/html": "(3 rows affected)"
                    },
                    "metadata": {}
                },
                {
                    "output_type": "display_data",
                    "data": {
                        "text/html": "Total execution time: 00:00:00.007"
                    },
                    "metadata": {}
                },
                {
                    "output_type": "execute_result",
                    "metadata": {},
                    "execution_count": 9,
                    "data": {
                        "application/vnd.dataresource+json": {
                            "schema": {
                                "fields": [
                                    {
                                        "name": "KursId"
                                    },
                                    {
                                        "name": "Bez"
                                    },
                                    {
                                        "name": "MaxTeilnehmer"
                                    },
                                    {
                                        "name": "Kosten"
                                    },
                                    {
                                        "name": "StartDatum"
                                    },
                                    {
                                        "name": "Dauer"
                                    }
                                ]
                            },
                            "data": [
                                {
                                    "KursId": "1",
                                    "Bez": "Windows 11",
                                    "MaxTeilnehmer": "10",
                                    "Kosten": "450",
                                    "StartDatum": "2025-06-03",
                                    "Dauer": "5"
                                },
                                {
                                    "KursId": "2",
                                    "Bez": "Word 2024",
                                    "MaxTeilnehmer": "5",
                                    "Kosten": "250",
                                    "StartDatum": "2024-04-20",
                                    "Dauer": "1"
                                },
                                {
                                    "KursId": "3",
                                    "Bez": "Windows 11 Neuheiten",
                                    "MaxTeilnehmer": "15",
                                    "Kosten": "150",
                                    "StartDatum": "2025-05-17",
                                    "Dauer": "1"
                                }
                            ]
                        },
                        "text/html": [
                            "<table>",
                            "<tr><th>KursId</th><th>Bez</th><th>MaxTeilnehmer</th><th>Kosten</th><th>StartDatum</th><th>Dauer</th></tr>",
                            "<tr><td>1</td><td>Windows 11</td><td>10</td><td>450</td><td>2025-06-03</td><td>5</td></tr>",
                            "<tr><td>2</td><td>Word 2024</td><td>5</td><td>250</td><td>2024-04-20</td><td>1</td></tr>",
                            "<tr><td>3</td><td>Windows 11 Neuheiten</td><td>15</td><td>150</td><td>2025-05-17</td><td>1</td></tr>",
                            "</table>"
                        ]
                    }
                }
            ],
            "execution_count": 9
        },
        {
            "cell_type": "markdown",
            "source": [
                "# **Einzelner Datensatz ändern (\"Windows 11\" Kurs)**"
            ],
            "metadata": {
                "language": "sql",
                "azdata_cell_guid": "940d96b8-e829-4ee4-8a72-df51e138ca50"
            },
            "attachments": {}
        },
        {
            "cell_type": "code",
            "source": [
                "USE Kurswesen;\r\n",
                "GO\r\n",
                "\r\n",
                "UPDATE Kurs\r\n",
                "SET MaxTeilnehmer = 15,  \r\n",
                "    StartDatum = '2025-05-02'\r\n",
                "WHERE KursID = 1;"
            ],
            "metadata": {
                "language": "sql",
                "azdata_cell_guid": "abde8d44-1444-4bea-95f1-4efa568bed5e"
            },
            "outputs": [
                {
                    "output_type": "display_data",
                    "data": {
                        "text/html": "Commands completed successfully."
                    },
                    "metadata": {}
                },
                {
                    "output_type": "display_data",
                    "data": {
                        "text/html": "(1 row affected)"
                    },
                    "metadata": {}
                },
                {
                    "output_type": "display_data",
                    "data": {
                        "text/html": "Total execution time: 00:00:00.015"
                    },
                    "metadata": {}
                }
            ],
            "execution_count": 10
        },
        {
            "cell_type": "markdown",
            "source": [
                "# **Neue Word- und Excle Kurse hinzufügen**"
            ],
            "metadata": {
                "language": "sql",
                "azdata_cell_guid": "52fe0f6b-4ce1-4208-ad35-e3bb26ddc3f8"
            },
            "attachments": {}
        },
        {
            "cell_type": "code",
            "source": [
                "INSERT INTO Kurs (Bez,MaxTeilnehmer,Kosten,StartDatum,Dauer)\r\n",
                "VALUES\r\n",
                "('Word 365',10,320,'2025-06-15',2),\r\n",
                "('Excel 365',10,320,NULL,2)"
            ],
            "metadata": {
                "language": "sql",
                "azdata_cell_guid": "91356cca-ba7d-4cc3-bad0-1fc958fdf5fd"
            },
            "outputs": [
                {
                    "output_type": "display_data",
                    "data": {
                        "text/html": "(2 rows affected)"
                    },
                    "metadata": {}
                },
                {
                    "output_type": "display_data",
                    "data": {
                        "text/html": "Total execution time: 00:00:00.014"
                    },
                    "metadata": {}
                }
            ],
            "execution_count": 11
        },
        {
            "cell_type": "code",
            "source": [
                "UPDATE Kurs SET StartDatum = NULL WHERE KursId = 5;"
            ],
            "metadata": {
                "language": "sql",
                "azdata_cell_guid": "dc412252-ba0f-468b-b27e-15e1ee02f4a4"
            },
            "outputs": [
                {
                    "output_type": "display_data",
                    "data": {
                        "text/html": "(1 row affected)"
                    },
                    "metadata": {}
                },
                {
                    "output_type": "display_data",
                    "data": {
                        "text/html": "Total execution time: 00:00:00.012"
                    },
                    "metadata": {}
                }
            ],
            "execution_count": 14
        },
        {
            "cell_type": "code",
            "source": [
                "SELECT * FROM Kurs;"
            ],
            "metadata": {
                "language": "sql",
                "azdata_cell_guid": "8743d2a9-960b-4003-9e4c-d0c2f4c63360"
            },
            "outputs": [
                {
                    "output_type": "display_data",
                    "data": {
                        "text/html": "(5 rows affected)"
                    },
                    "metadata": {}
                },
                {
                    "output_type": "display_data",
                    "data": {
                        "text/html": "Total execution time: 00:00:00.003"
                    },
                    "metadata": {}
                },
                {
                    "output_type": "execute_result",
                    "metadata": {},
                    "execution_count": 15,
                    "data": {
                        "application/vnd.dataresource+json": {
                            "schema": {
                                "fields": [
                                    {
                                        "name": "KursId"
                                    },
                                    {
                                        "name": "Bez"
                                    },
                                    {
                                        "name": "MaxTeilnehmer"
                                    },
                                    {
                                        "name": "Kosten"
                                    },
                                    {
                                        "name": "StartDatum"
                                    },
                                    {
                                        "name": "Dauer"
                                    }
                                ]
                            },
                            "data": [
                                {
                                    "KursId": "1",
                                    "Bez": "Windows 11",
                                    "MaxTeilnehmer": "15",
                                    "Kosten": "450",
                                    "StartDatum": "2025-05-02",
                                    "Dauer": "5"
                                },
                                {
                                    "KursId": "2",
                                    "Bez": "Word 2024",
                                    "MaxTeilnehmer": "5",
                                    "Kosten": "250",
                                    "StartDatum": "2024-04-20",
                                    "Dauer": "1"
                                },
                                {
                                    "KursId": "3",
                                    "Bez": "Windows 11 Neuheiten",
                                    "MaxTeilnehmer": "15",
                                    "Kosten": "150",
                                    "StartDatum": "2025-05-17",
                                    "Dauer": "1"
                                },
                                {
                                    "KursId": "4",
                                    "Bez": "Word 365",
                                    "MaxTeilnehmer": "10",
                                    "Kosten": "320",
                                    "StartDatum": "2025-06-15",
                                    "Dauer": "2"
                                },
                                {
                                    "KursId": "5",
                                    "Bez": "Excel 365",
                                    "MaxTeilnehmer": "10",
                                    "Kosten": "320",
                                    "StartDatum": "NULL",
                                    "Dauer": "2"
                                }
                            ]
                        },
                        "text/html": [
                            "<table>",
                            "<tr><th>KursId</th><th>Bez</th><th>MaxTeilnehmer</th><th>Kosten</th><th>StartDatum</th><th>Dauer</th></tr>",
                            "<tr><td>1</td><td>Windows 11</td><td>15</td><td>450</td><td>2025-05-02</td><td>5</td></tr>",
                            "<tr><td>2</td><td>Word 2024</td><td>5</td><td>250</td><td>2024-04-20</td><td>1</td></tr>",
                            "<tr><td>3</td><td>Windows 11 Neuheiten</td><td>15</td><td>150</td><td>2025-05-17</td><td>1</td></tr>",
                            "<tr><td>4</td><td>Word 365</td><td>10</td><td>320</td><td>2025-06-15</td><td>2</td></tr>",
                            "<tr><td>5</td><td>Excel 365</td><td>10</td><td>320</td><td>NULL</td><td>2</td></tr>",
                            "</table>"
                        ]
                    }
                }
            ],
            "execution_count": 15
        },
        {
            "cell_type": "markdown",
            "source": [
                "# **Löschen des Word 2024 Kurs**"
            ],
            "metadata": {
                "language": "sql",
                "azdata_cell_guid": "a158bbca-a191-477c-9301-fc3d0a95a1c7"
            },
            "attachments": {}
        },
        {
            "cell_type": "code",
            "source": [
                "USE Kurswesen;\r\n",
                "GO\r\n",
                "\r\n",
                "DELETE Kurs WHERE KursId = 2;"
            ],
            "metadata": {
                "language": "sql",
                "azdata_cell_guid": "40bc3c51-58d9-47d4-a2c5-bb7cc4e86770"
            },
            "outputs": [
                {
                    "output_type": "display_data",
                    "data": {
                        "text/html": "Commands completed successfully."
                    },
                    "metadata": {}
                },
                {
                    "output_type": "display_data",
                    "data": {
                        "text/html": "(1 row affected)"
                    },
                    "metadata": {}
                },
                {
                    "output_type": "display_data",
                    "data": {
                        "text/html": "Total execution time: 00:00:00.020"
                    },
                    "metadata": {}
                }
            ],
            "execution_count": 16
        },
        {
            "cell_type": "code",
            "source": [
                "SELECT * FROM Kurs;"
            ],
            "metadata": {
                "language": "sql",
                "azdata_cell_guid": "9d8ec32b-6504-4058-8ee8-68c90d11ab9e"
            },
            "outputs": [
                {
                    "output_type": "display_data",
                    "data": {
                        "text/html": "(4 rows affected)"
                    },
                    "metadata": {}
                },
                {
                    "output_type": "display_data",
                    "data": {
                        "text/html": "Total execution time: 00:00:00.006"
                    },
                    "metadata": {}
                },
                {
                    "output_type": "execute_result",
                    "metadata": {},
                    "execution_count": 17,
                    "data": {
                        "application/vnd.dataresource+json": {
                            "schema": {
                                "fields": [
                                    {
                                        "name": "KursId"
                                    },
                                    {
                                        "name": "Bez"
                                    },
                                    {
                                        "name": "MaxTeilnehmer"
                                    },
                                    {
                                        "name": "Kosten"
                                    },
                                    {
                                        "name": "StartDatum"
                                    },
                                    {
                                        "name": "Dauer"
                                    }
                                ]
                            },
                            "data": [
                                {
                                    "KursId": "1",
                                    "Bez": "Windows 11",
                                    "MaxTeilnehmer": "15",
                                    "Kosten": "450",
                                    "StartDatum": "2025-05-02",
                                    "Dauer": "5"
                                },
                                {
                                    "KursId": "3",
                                    "Bez": "Windows 11 Neuheiten",
                                    "MaxTeilnehmer": "15",
                                    "Kosten": "150",
                                    "StartDatum": "2025-05-17",
                                    "Dauer": "1"
                                },
                                {
                                    "KursId": "4",
                                    "Bez": "Word 365",
                                    "MaxTeilnehmer": "10",
                                    "Kosten": "320",
                                    "StartDatum": "2025-06-15",
                                    "Dauer": "2"
                                },
                                {
                                    "KursId": "5",
                                    "Bez": "Excel 365",
                                    "MaxTeilnehmer": "10",
                                    "Kosten": "320",
                                    "StartDatum": "NULL",
                                    "Dauer": "2"
                                }
                            ]
                        },
                        "text/html": [
                            "<table>",
                            "<tr><th>KursId</th><th>Bez</th><th>MaxTeilnehmer</th><th>Kosten</th><th>StartDatum</th><th>Dauer</th></tr>",
                            "<tr><td>1</td><td>Windows 11</td><td>15</td><td>450</td><td>2025-05-02</td><td>5</td></tr>",
                            "<tr><td>3</td><td>Windows 11 Neuheiten</td><td>15</td><td>150</td><td>2025-05-17</td><td>1</td></tr>",
                            "<tr><td>4</td><td>Word 365</td><td>10</td><td>320</td><td>2025-06-15</td><td>2</td></tr>",
                            "<tr><td>5</td><td>Excel 365</td><td>10</td><td>320</td><td>NULL</td><td>2</td></tr>",
                            "</table>"
                        ]
                    }
                }
            ],
            "execution_count": 17
        },
        {
            "cell_type": "markdown",
            "source": [
                "# **Alle MaxTeilnehmer auf min.12 setzen (wen unter 12)**"
            ],
            "metadata": {
                "language": "sql",
                "azdata_cell_guid": "acef857c-a02d-44e1-b285-8f074bc05600"
            },
            "attachments": {}
        },
        {
            "cell_type": "code",
            "source": [
                "USE Kurswesen;\r\n",
                "GO\r\n",
                "\r\n",
                "UPDATE Kurs\r\n",
                "SET MaxTeilnehmer = 12\r\n",
                "WHERE MaxTeilnehmer < 12;"
            ],
            "metadata": {
                "language": "sql",
                "azdata_cell_guid": "9bd7ca1d-5d8f-4ab6-9092-c8d17b346eb2"
            },
            "outputs": [
                {
                    "output_type": "display_data",
                    "data": {
                        "text/html": "Commands completed successfully."
                    },
                    "metadata": {}
                },
                {
                    "output_type": "display_data",
                    "data": {
                        "text/html": "(2 rows affected)"
                    },
                    "metadata": {}
                },
                {
                    "output_type": "display_data",
                    "data": {
                        "text/html": "Total execution time: 00:00:00.006"
                    },
                    "metadata": {}
                }
            ],
            "execution_count": 22
        },
        {
            "cell_type": "code",
            "source": [
                "SELECT * FROM Kurs;"
            ],
            "metadata": {
                "language": "sql",
                "azdata_cell_guid": "f6dcbe6d-89f6-4e6b-9168-e6de3b03d3ce"
            },
            "outputs": [
                {
                    "output_type": "display_data",
                    "data": {
                        "text/html": "(4 rows affected)"
                    },
                    "metadata": {}
                },
                {
                    "output_type": "display_data",
                    "data": {
                        "text/html": "Total execution time: 00:00:00.002"
                    },
                    "metadata": {}
                },
                {
                    "output_type": "execute_result",
                    "metadata": {},
                    "execution_count": 23,
                    "data": {
                        "application/vnd.dataresource+json": {
                            "schema": {
                                "fields": [
                                    {
                                        "name": "KursId"
                                    },
                                    {
                                        "name": "Bez"
                                    },
                                    {
                                        "name": "MaxTeilnehmer"
                                    },
                                    {
                                        "name": "Kosten"
                                    },
                                    {
                                        "name": "StartDatum"
                                    },
                                    {
                                        "name": "Dauer"
                                    }
                                ]
                            },
                            "data": [
                                {
                                    "KursId": "1",
                                    "Bez": "Windows 11",
                                    "MaxTeilnehmer": "15",
                                    "Kosten": "450",
                                    "StartDatum": "2025-05-02",
                                    "Dauer": "5"
                                },
                                {
                                    "KursId": "3",
                                    "Bez": "Windows 11 Neuheiten",
                                    "MaxTeilnehmer": "15",
                                    "Kosten": "150",
                                    "StartDatum": "2025-05-17",
                                    "Dauer": "1"
                                },
                                {
                                    "KursId": "4",
                                    "Bez": "Word 365",
                                    "MaxTeilnehmer": "12",
                                    "Kosten": "320",
                                    "StartDatum": "2025-06-15",
                                    "Dauer": "2"
                                },
                                {
                                    "KursId": "5",
                                    "Bez": "Excel 365",
                                    "MaxTeilnehmer": "12",
                                    "Kosten": "320",
                                    "StartDatum": "NULL",
                                    "Dauer": "2"
                                }
                            ]
                        },
                        "text/html": [
                            "<table>",
                            "<tr><th>KursId</th><th>Bez</th><th>MaxTeilnehmer</th><th>Kosten</th><th>StartDatum</th><th>Dauer</th></tr>",
                            "<tr><td>1</td><td>Windows 11</td><td>15</td><td>450</td><td>2025-05-02</td><td>5</td></tr>",
                            "<tr><td>3</td><td>Windows 11 Neuheiten</td><td>15</td><td>150</td><td>2025-05-17</td><td>1</td></tr>",
                            "<tr><td>4</td><td>Word 365</td><td>12</td><td>320</td><td>2025-06-15</td><td>2</td></tr>",
                            "<tr><td>5</td><td>Excel 365</td><td>12</td><td>320</td><td>NULL</td><td>2</td></tr>",
                            "</table>"
                        ]
                    }
                }
            ],
            "execution_count": 23
        },
        {
            "cell_type": "markdown",
            "source": [
                "# **Datum anpassen**"
            ],
            "metadata": {
                "language": "sql",
                "azdata_cell_guid": "7cb6c9c8-a401-4369-8552-39d36792eeae"
            },
            "attachments": {}
        },
        {
            "cell_type": "code",
            "source": [
                "USE Kurswesen;\r\n",
                "GO\r\n",
                "\r\n",
                "UPDATE Kurs\r\n",
                "SET StartDatum = DATEADD(DAY, 7, StartDatum)\r\n",
                "WHERE StartDatum = '2025-05-17' AND Dauer = 1;\r\n",
                ""
            ],
            "metadata": {
                "language": "sql",
                "azdata_cell_guid": "17579051-bf10-4af4-ab3f-825e72a9e55c"
            },
            "outputs": [
                {
                    "output_type": "display_data",
                    "data": {
                        "text/html": "Commands completed successfully."
                    },
                    "metadata": {}
                },
                {
                    "output_type": "display_data",
                    "data": {
                        "text/html": "(1 row affected)"
                    },
                    "metadata": {}
                },
                {
                    "output_type": "display_data",
                    "data": {
                        "text/html": "Total execution time: 00:00:00.024"
                    },
                    "metadata": {}
                }
            ],
            "execution_count": 24
        },
        {
            "cell_type": "code",
            "source": [
                "SELECT * FROM Kurs;"
            ],
            "metadata": {
                "language": "sql",
                "azdata_cell_guid": "21dbcd00-c418-405b-bae4-39210987657e"
            },
            "outputs": [
{
    "output_type": "display_data",
    "data": {
        "text/html": "(4 rows affected)"
    },
    "metadata": {}
}, {
    "output_type": "display_data",
    "data": {
        "text/html": "Total execution time: 00:00:00.004"
    },
    "metadata": {}
}, {
    "output_type": "execute_result",
    "metadata": {},
    "execution_count": 25,
    "data": {
        "application/vnd.dataresource+json": {
            "schema": {
                "fields": [
                    {
                        "name": "KursId"
                    },
                    {
                        "name": "Bez"
                    },
                    {
                        "name": "MaxTeilnehmer"
                    },
                    {
                        "name": "Kosten"
                    },
                    {
                        "name": "StartDatum"
                    },
                    {
                        "name": "Dauer"
                    }
                ]
            },
            "data": [
                {
                    "KursId": "1",
                    "Bez": "Windows 11",
                    "MaxTeilnehmer": "15",
                    "Kosten": "450",
                    "StartDatum": "2025-05-02",
                    "Dauer": "5"
                },
                {
                    "KursId": "3",
                    "Bez": "Windows 11 Neuheiten",
                    "MaxTeilnehmer": "15",
                    "Kosten": "150",
                    "StartDatum": "2025-05-24",
                    "Dauer": "1"
                },
                {
                    "KursId": "4",
                    "Bez": "Word 365",
                    "MaxTeilnehmer": "12",
                    "Kosten": "320",
                    "StartDatum": "2025-06-15",
                    "Dauer": "2"
                },
                {
                    "KursId": "5",
                    "Bez": "Excel 365",
                    "MaxTeilnehmer": "12",
                    "Kosten": "320",
                    "StartDatum": "NULL",
                    "Dauer": "2"
                }
            ]
        },
        "text/html": [
            "<table>",
            "<tr><th>KursId</th><th>Bez</th><th>MaxTeilnehmer</th><th>Kosten</th><th>StartDatum</th><th>Dauer</th></tr>",
            "<tr><td>1</td><td>Windows 11</td><td>15</td><td>450</td><td>2025-05-02</td><td>5</td></tr>",
            "<tr><td>3</td><td>Windows 11 Neuheiten</td><td>15</td><td>150</td><td>2025-05-24</td><td>1</td></tr>",
            "<tr><td>4</td><td>Word 365</td><td>12</td><td>320</td><td>2025-06-15</td><td>2</td></tr>",
            "<tr><td>5</td><td>Excel 365</td><td>12</td><td>320</td><td>NULL</td><td>2</td></tr>",
            "</table>"
        ]
    }
}
],
            "execution_count": 25
        }
    ]
}